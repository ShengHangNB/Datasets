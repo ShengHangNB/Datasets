{
  "nbformat": 4,
  "nbformat_minor": 0,
  "metadata": {
    "colab": {
      "name": "31005-MLAssignment2.ipynb",
      "provenance": [],
      "collapsed_sections": [],
      "authorship_tag": "ABX9TyO1JzDyDZkRB1+OPRUYLa0d",
      "include_colab_link": true
    },
    "kernelspec": {
      "name": "python3",
      "display_name": "Python 3"
    }
  },
  "cells": [
    {
      "cell_type": "markdown",
      "metadata": {
        "id": "view-in-github",
        "colab_type": "text"
      },
      "source": [
        "<a href=\"https://colab.research.google.com/github/ShengHangNB/Decision-Tree-C4.5/blob/master/31005_MLAssignment2.ipynb\" target=\"_parent\"><img src=\"https://colab.research.google.com/assets/colab-badge.svg\" alt=\"Open In Colab\"/></a>"
      ]
    },
    {
      "cell_type": "markdown",
      "metadata": {
        "id": "sKWuN40coCiO"
      },
      "source": [
        "**Machine Learning Assignment 2 - C4.5 Decision Tree Algorithm**\n",
        "\n",
        "Student name: Hang Sheng       \n",
        "Student number: 13665664\n",
        "\n",
        "This link includes the three datasets I uploaded beforehand and used for this project.\n"
      ]
    },
    {
      "cell_type": "markdown",
      "metadata": {
        "id": "RvcYr39KjqCi"
      },
      "source": [
        "# **Implementation of algorithm**"
      ]
    },
    {
      "cell_type": "markdown",
      "metadata": {
        "id": "bMK6a54JmBN9"
      },
      "source": [
        "## **1. Prepare for the iris dataset**\n",
        "\n",
        "Iris dataset - used for implementating the algorithm\n",
        "\n",
        "This dataset can be viewed and downloaded from the UCI Machine Learning Repository datasets: https://archive.ics.uci.edu/ml/datasets/Iris"
      ]
    },
    {
      "cell_type": "code",
      "metadata": {
        "id": "reuSoT-ZWSDN"
      },
      "source": [
        "# import the libraries that will be used in this assignment\n",
        "import pandas as pd\n",
        "import numpy as np\n",
        "import matplotlib.pyplot as plt\n",
        "from sklearn.model_selection import train_test_split"
      ],
      "execution_count": 43,
      "outputs": []
    },
    {
      "cell_type": "code",
      "metadata": {
        "id": "LgxYpiRYCSfU",
        "colab": {
          "base_uri": "https://localhost:8080/",
          "height": 195
        },
        "outputId": "5620c429-c76b-416d-cdd1-fbabdd7206f7"
      },
      "source": [
        "# Load the csv of the prepared iris datasets which have been uploaded to my github beforehand\n",
        "df = pd.read_csv(\"https://raw.githubusercontent.com/ShengHangNB/Decision-Tree-C4.5/master/dataset/iris.csv\")\n",
        "df.head()"
      ],
      "execution_count": 44,
      "outputs": [
        {
          "output_type": "execute_result",
          "data": {
            "text/html": [
              "<div>\n",
              "<style scoped>\n",
              "    .dataframe tbody tr th:only-of-type {\n",
              "        vertical-align: middle;\n",
              "    }\n",
              "\n",
              "    .dataframe tbody tr th {\n",
              "        vertical-align: top;\n",
              "    }\n",
              "\n",
              "    .dataframe thead th {\n",
              "        text-align: right;\n",
              "    }\n",
              "</style>\n",
              "<table border=\"1\" class=\"dataframe\">\n",
              "  <thead>\n",
              "    <tr style=\"text-align: right;\">\n",
              "      <th></th>\n",
              "      <th>sepal length</th>\n",
              "      <th>sepal width</th>\n",
              "      <th>petal length</th>\n",
              "      <th>petal width</th>\n",
              "      <th>class</th>\n",
              "    </tr>\n",
              "  </thead>\n",
              "  <tbody>\n",
              "    <tr>\n",
              "      <th>0</th>\n",
              "      <td>5.1</td>\n",
              "      <td>3.5</td>\n",
              "      <td>1.4</td>\n",
              "      <td>0.2</td>\n",
              "      <td>Iris-setosa</td>\n",
              "    </tr>\n",
              "    <tr>\n",
              "      <th>1</th>\n",
              "      <td>4.9</td>\n",
              "      <td>3.0</td>\n",
              "      <td>1.4</td>\n",
              "      <td>0.2</td>\n",
              "      <td>Iris-setosa</td>\n",
              "    </tr>\n",
              "    <tr>\n",
              "      <th>2</th>\n",
              "      <td>4.7</td>\n",
              "      <td>3.2</td>\n",
              "      <td>1.3</td>\n",
              "      <td>0.2</td>\n",
              "      <td>Iris-setosa</td>\n",
              "    </tr>\n",
              "    <tr>\n",
              "      <th>3</th>\n",
              "      <td>4.6</td>\n",
              "      <td>3.1</td>\n",
              "      <td>1.5</td>\n",
              "      <td>0.2</td>\n",
              "      <td>Iris-setosa</td>\n",
              "    </tr>\n",
              "    <tr>\n",
              "      <th>4</th>\n",
              "      <td>5.0</td>\n",
              "      <td>3.6</td>\n",
              "      <td>1.4</td>\n",
              "      <td>0.2</td>\n",
              "      <td>Iris-setosa</td>\n",
              "    </tr>\n",
              "  </tbody>\n",
              "</table>\n",
              "</div>"
            ],
            "text/plain": [
              "   sepal length  sepal width  petal length  petal width        class\n",
              "0           5.1          3.5           1.4          0.2  Iris-setosa\n",
              "1           4.9          3.0           1.4          0.2  Iris-setosa\n",
              "2           4.7          3.2           1.3          0.2  Iris-setosa\n",
              "3           4.6          3.1           1.5          0.2  Iris-setosa\n",
              "4           5.0          3.6           1.4          0.2  Iris-setosa"
            ]
          },
          "metadata": {
            "tags": []
          },
          "execution_count": 44
        }
      ]
    },
    {
      "cell_type": "markdown",
      "metadata": {
        "id": "s8BHhuXOnZjI"
      },
      "source": [
        "## **2. Preprocess and preview of the dataset**\n",
        "\n",
        "After loading the csv file of iris dataset, I convert the string type of the target values to numerical type.\n",
        "\n",
        "The numerical type of target values can be helpful for the decision tree performance visulization later."
      ]
    },
    {
      "cell_type": "code",
      "metadata": {
        "id": "KjYGEGJrDcH_",
        "colab": {
          "base_uri": "https://localhost:8080/",
          "height": 195
        },
        "outputId": "a237f9cd-3bf1-4533-931a-6e0b63381299"
      },
      "source": [
        "def change_target_type(x):\n",
        "  '''\n",
        "    convert the string type of the target values to numerical type\n",
        "    in order to visualize the results in the scatter plot later\n",
        "  '''\n",
        "  if x == 'Iris-setosa':\n",
        "    return 0\n",
        "\n",
        "  elif x == 'Iris-versicolor':\n",
        "    return 1\n",
        "  \n",
        "  elif x == 'Iris-virginica':\n",
        "    return 2\n",
        "\n",
        "# use .apply() to apply to the \"class\" column with the defined change_target_type() function\n",
        "# the return columns should be assigned to df.loc[:,\"class\"]\n",
        "# df.loc[:,\"class\"] means all rows and only the \"class\" column\n",
        "df.loc[:,\"class\"] = df[\"class\"].apply(change_target_type)\n",
        "\n",
        "# check the first five rows\n",
        "df.head()"
      ],
      "execution_count": 45,
      "outputs": [
        {
          "output_type": "execute_result",
          "data": {
            "text/html": [
              "<div>\n",
              "<style scoped>\n",
              "    .dataframe tbody tr th:only-of-type {\n",
              "        vertical-align: middle;\n",
              "    }\n",
              "\n",
              "    .dataframe tbody tr th {\n",
              "        vertical-align: top;\n",
              "    }\n",
              "\n",
              "    .dataframe thead th {\n",
              "        text-align: right;\n",
              "    }\n",
              "</style>\n",
              "<table border=\"1\" class=\"dataframe\">\n",
              "  <thead>\n",
              "    <tr style=\"text-align: right;\">\n",
              "      <th></th>\n",
              "      <th>sepal length</th>\n",
              "      <th>sepal width</th>\n",
              "      <th>petal length</th>\n",
              "      <th>petal width</th>\n",
              "      <th>class</th>\n",
              "    </tr>\n",
              "  </thead>\n",
              "  <tbody>\n",
              "    <tr>\n",
              "      <th>0</th>\n",
              "      <td>5.1</td>\n",
              "      <td>3.5</td>\n",
              "      <td>1.4</td>\n",
              "      <td>0.2</td>\n",
              "      <td>0</td>\n",
              "    </tr>\n",
              "    <tr>\n",
              "      <th>1</th>\n",
              "      <td>4.9</td>\n",
              "      <td>3.0</td>\n",
              "      <td>1.4</td>\n",
              "      <td>0.2</td>\n",
              "      <td>0</td>\n",
              "    </tr>\n",
              "    <tr>\n",
              "      <th>2</th>\n",
              "      <td>4.7</td>\n",
              "      <td>3.2</td>\n",
              "      <td>1.3</td>\n",
              "      <td>0.2</td>\n",
              "      <td>0</td>\n",
              "    </tr>\n",
              "    <tr>\n",
              "      <th>3</th>\n",
              "      <td>4.6</td>\n",
              "      <td>3.1</td>\n",
              "      <td>1.5</td>\n",
              "      <td>0.2</td>\n",
              "      <td>0</td>\n",
              "    </tr>\n",
              "    <tr>\n",
              "      <th>4</th>\n",
              "      <td>5.0</td>\n",
              "      <td>3.6</td>\n",
              "      <td>1.4</td>\n",
              "      <td>0.2</td>\n",
              "      <td>0</td>\n",
              "    </tr>\n",
              "  </tbody>\n",
              "</table>\n",
              "</div>"
            ],
            "text/plain": [
              "   sepal length  sepal width  petal length  petal width  class\n",
              "0           5.1          3.5           1.4          0.2      0\n",
              "1           4.9          3.0           1.4          0.2      0\n",
              "2           4.7          3.2           1.3          0.2      0\n",
              "3           4.6          3.1           1.5          0.2      0\n",
              "4           5.0          3.6           1.4          0.2      0"
            ]
          },
          "metadata": {
            "tags": []
          },
          "execution_count": 45
        }
      ]
    },
    {
      "cell_type": "markdown",
      "metadata": {
        "id": "WLh_rbX3oKwv"
      },
      "source": [
        "View the statistics for all numerical attributes in a table\n",
        "\n",
        "For each numerical data, the calculated statistical results will include count, mean, standard deviation, minimum, maximum, and 25th percentile, 50th percentile and 75th percentile.\n",
        "\n",
        "The values of \"sepal length\" range from 4.3 to 7.9\n",
        "\n",
        "The values of \"sepal width\" range from 2.0 to 4.4\n",
        "\n",
        "The values of \"petal length\" range from 1.0 to 6.9\n",
        "\n",
        "The values of \"petal width\" range from 0.1 to 2.5"
      ]
    },
    {
      "cell_type": "code",
      "metadata": {
        "id": "RCA0xqVo_3A0",
        "colab": {
          "base_uri": "https://localhost:8080/",
          "height": 284
        },
        "outputId": "7e13e6be-6add-4fd5-c6a8-2a65168448f7"
      },
      "source": [
        "df.describe()"
      ],
      "execution_count": 46,
      "outputs": [
        {
          "output_type": "execute_result",
          "data": {
            "text/html": [
              "<div>\n",
              "<style scoped>\n",
              "    .dataframe tbody tr th:only-of-type {\n",
              "        vertical-align: middle;\n",
              "    }\n",
              "\n",
              "    .dataframe tbody tr th {\n",
              "        vertical-align: top;\n",
              "    }\n",
              "\n",
              "    .dataframe thead th {\n",
              "        text-align: right;\n",
              "    }\n",
              "</style>\n",
              "<table border=\"1\" class=\"dataframe\">\n",
              "  <thead>\n",
              "    <tr style=\"text-align: right;\">\n",
              "      <th></th>\n",
              "      <th>sepal length</th>\n",
              "      <th>sepal width</th>\n",
              "      <th>petal length</th>\n",
              "      <th>petal width</th>\n",
              "      <th>class</th>\n",
              "    </tr>\n",
              "  </thead>\n",
              "  <tbody>\n",
              "    <tr>\n",
              "      <th>count</th>\n",
              "      <td>150.000000</td>\n",
              "      <td>150.000000</td>\n",
              "      <td>150.000000</td>\n",
              "      <td>150.000000</td>\n",
              "      <td>150.000000</td>\n",
              "    </tr>\n",
              "    <tr>\n",
              "      <th>mean</th>\n",
              "      <td>5.843333</td>\n",
              "      <td>3.054000</td>\n",
              "      <td>3.758667</td>\n",
              "      <td>1.198667</td>\n",
              "      <td>1.000000</td>\n",
              "    </tr>\n",
              "    <tr>\n",
              "      <th>std</th>\n",
              "      <td>0.828066</td>\n",
              "      <td>0.433594</td>\n",
              "      <td>1.764420</td>\n",
              "      <td>0.763161</td>\n",
              "      <td>0.819232</td>\n",
              "    </tr>\n",
              "    <tr>\n",
              "      <th>min</th>\n",
              "      <td>4.300000</td>\n",
              "      <td>2.000000</td>\n",
              "      <td>1.000000</td>\n",
              "      <td>0.100000</td>\n",
              "      <td>0.000000</td>\n",
              "    </tr>\n",
              "    <tr>\n",
              "      <th>25%</th>\n",
              "      <td>5.100000</td>\n",
              "      <td>2.800000</td>\n",
              "      <td>1.600000</td>\n",
              "      <td>0.300000</td>\n",
              "      <td>0.000000</td>\n",
              "    </tr>\n",
              "    <tr>\n",
              "      <th>50%</th>\n",
              "      <td>5.800000</td>\n",
              "      <td>3.000000</td>\n",
              "      <td>4.350000</td>\n",
              "      <td>1.300000</td>\n",
              "      <td>1.000000</td>\n",
              "    </tr>\n",
              "    <tr>\n",
              "      <th>75%</th>\n",
              "      <td>6.400000</td>\n",
              "      <td>3.300000</td>\n",
              "      <td>5.100000</td>\n",
              "      <td>1.800000</td>\n",
              "      <td>2.000000</td>\n",
              "    </tr>\n",
              "    <tr>\n",
              "      <th>max</th>\n",
              "      <td>7.900000</td>\n",
              "      <td>4.400000</td>\n",
              "      <td>6.900000</td>\n",
              "      <td>2.500000</td>\n",
              "      <td>2.000000</td>\n",
              "    </tr>\n",
              "  </tbody>\n",
              "</table>\n",
              "</div>"
            ],
            "text/plain": [
              "       sepal length  sepal width  petal length  petal width       class\n",
              "count    150.000000   150.000000    150.000000   150.000000  150.000000\n",
              "mean       5.843333     3.054000      3.758667     1.198667    1.000000\n",
              "std        0.828066     0.433594      1.764420     0.763161    0.819232\n",
              "min        4.300000     2.000000      1.000000     0.100000    0.000000\n",
              "25%        5.100000     2.800000      1.600000     0.300000    0.000000\n",
              "50%        5.800000     3.000000      4.350000     1.300000    1.000000\n",
              "75%        6.400000     3.300000      5.100000     1.800000    2.000000\n",
              "max        7.900000     4.400000      6.900000     2.500000    2.000000"
            ]
          },
          "metadata": {
            "tags": []
          },
          "execution_count": 46
        }
      ]
    },
    {
      "cell_type": "markdown",
      "metadata": {
        "id": "RahvXXSFpqEu"
      },
      "source": [
        "## **3. Division of the dataset**\n",
        "\n",
        "In this part I split the whole datasets into two sub-datasets:\n",
        "\n",
        "1.   The attributes datasets X_total (DataFrame type) \n",
        "2.   The target datasets y_total (Series type)\n",
        "\n",
        "Then I use the **train_test_split** function, set the **test_size = 0.33** to split X_total and y_total datasets, the sub-datasets are as followings:\n",
        "\n",
        "1.   X_train: accounts for 67% of the attributes datasets X_total\n",
        "2.   X_test: accounts for 33% of the attributes datasets X_total\n",
        "3.   y_train: accounts for 67% of the target datasets y_total\n",
        "4.   y_test: accounts for 33% of the target datasets y_total\n",
        "\n"
      ]
    },
    {
      "cell_type": "code",
      "metadata": {
        "id": "lmHSMxnC_7zU",
        "colab": {
          "base_uri": "https://localhost:8080/"
        },
        "outputId": "9befec7f-d3a7-401c-db5f-476be19ad7a5"
      },
      "source": [
        "# get the attributes by using the df.keys() functions,\n",
        "# then extract all the attributes except for the target name by using the slice method df.keys()[:-1]\n",
        "attrs = df.keys()[:-1]\n",
        "\n",
        "# split the datasets into the attributes datasets X_total (DataFrame type) and target datasets y_total (Series type)\n",
        "print(\"The number of samples in the total datasets are {}\\n\".format(df.shape[0]))\n",
        "X_total = df[attrs]\n",
        "y_total = df.iloc[:,-1]\n",
        "\n",
        "# Set the random_state = 48 (random seed) to guarantee that my split will be always the same\n",
        "X_train, X_test, y_train, y_test = train_test_split(X_total, y_total, test_size = 0.33,random_state = 48)\n",
        "\n",
        "\n",
        "print(\"The number of samples in the training datasets are {}\".format(X_train.shape[0]))\n",
        "print(\"The number of samples in the testing datasets are {}\".format(X_test.shape[0]))"
      ],
      "execution_count": 47,
      "outputs": [
        {
          "output_type": "stream",
          "text": [
            "The number of samples in the total datasets are 150\n",
            "\n",
            "The number of samples in the training datasets are 100\n",
            "The number of samples in the testing datasets are 50\n"
          ],
          "name": "stdout"
        }
      ]
    },
    {
      "cell_type": "markdown",
      "metadata": {
        "id": "Gi-HsRUklI-1"
      },
      "source": [
        "## **4. Define my tool class**\n",
        "\n",
        "In this part I define a tool class named \"Myutils\" that will be used in subsequent c4.5 decision tree construction\n",
        "\n",
        "Here are the brief description of the function in this class:\n",
        "\n",
        "\n",
        "1.   get_split_pointSet(): Discretize continuous attributes through the dichotomy\n",
        "2.   get_discrete_variables(): Convert continuous variables through the split point into categorical variables \n",
        "3.   compute_entropy(): calculate the information entropy\n",
        "4.   compute_info_gain_ratio(): Calculate the information gain ratio of the specified attribute for a continuous variable\n"
      ]
    },
    {
      "cell_type": "code",
      "metadata": {
        "id": "S8jYKtIXeURl"
      },
      "source": [
        "class Myutils:\n",
        "  def get_split_pointSet(self,attr_series):\n",
        "    '''\n",
        "    Discretize continuous attributes through the dichotomy\n",
        "\n",
        "    Parameters:\n",
        "      attr_series (Series type) : The value of an attribute column passed in \n",
        "\n",
        "    return value：The array with all division points\n",
        "    '''\n",
        "\n",
        "    # use the .unique() functioon to get the unique values from the input\n",
        "    # the .unique() function can automatically sort the array when recalling\n",
        "    unique_values = np.unique(attr_series)\n",
        "\n",
        "    # use the list comprehension to calculate the arithmetic mean between two points in unique_values\n",
        "    result = [(unique_values[i] + unique_values[i+1]) / 2  for i in range(len(unique_values)-1)]\n",
        "\n",
        "    return np.unique(result)\n",
        "    \n",
        "  def get_discrete_variables(self,X,attr,split_point):\n",
        "    '''\n",
        "    Convert continuous variables through the split point into categorical variables \n",
        "    which greater than the split point or smaller than the split point\n",
        "\n",
        "    Parameters:\n",
        "      X (DataFrame type) : The passed in datasets \n",
        "      attr (String type) : used to select the related attribute column \n",
        "      split_point (float type) : Divided/split point \n",
        "\n",
        "    return value: the new column with categorical variables \n",
        "    '''\n",
        "\n",
        "    # make the sequence of scalars in bins_to_cut list\n",
        "    bins_to_cut = [min(X[attr]),split_point,max(X[attr])]\n",
        "\n",
        "    # Specifies the labels for the returned bins in labels_to_cut list\n",
        "    labels_to_cut = [attr + ' < ' + str(split_point), attr + ' > ' + str(split_point)]\n",
        "\n",
        "    # use .cut() function to get the categorical variables column, left-include the first interval\n",
        "    categorized_column = pd.cut(X[attr], bins= bins_to_cut , labels = labels_to_cut, include_lowest=True)\n",
        "    return categorized_column\n",
        "\n",
        "  def compute_entropy(self,y):\n",
        "    '''\n",
        "    calculate the information entropy \n",
        "\n",
        "    Parameters:\n",
        "      y (Series type): the target values passed in \n",
        "\n",
        "    return value: 0.0 or calculated information entropy\n",
        "    '''\n",
        "    \n",
        "    # if the length of y less than 2, it means there are no more uncertainty\n",
        "    # in this case, the entropy is 0.0\n",
        "    if len(y) < 2:\n",
        "      return 0.0\n",
        "    \n",
        "    # if the unique values in y are less than 2, it means that all sampls have the same feature values\n",
        "    # in this case, the entropy is 0.0\n",
        "    if len(np.unique(y)) < 2:\n",
        "      return 0.0\n",
        "\n",
        "    # calculate the counts of value in y series, the normalize =True means the counts are presented as the frequency\n",
        "    freq = y.value_counts(normalize=True)\n",
        "\n",
        "    # To check whether there is a frequency that is 0.0 before the log calculation\n",
        "    if (freq == 0).any():\n",
        "      # Use the boolean mask to filter the frequency that is 0.0\n",
        "      freq = freq[freq != 0]\n",
        "      return -(freq * np.log2(freq)).sum()\n",
        "\n",
        "    else:\n",
        "      return -(freq * np.log2(freq)).sum()\n",
        "\n",
        "  def compute_info_gain_ratio(self,X,y,attr,split_point_list):\n",
        "    '''\n",
        "    Calculate the information gain ratio of the specified attribute for a continuous variable\n",
        "    \n",
        "    Parameters:\n",
        "      X (DataFrame type): Datasets with the attributes values\n",
        "      y (Series type): Datasets with the target values \n",
        "      attr (String type): The attribute for calculating the information gain rate \n",
        "      split_point_lst (numpy.array type): Divided points array\n",
        "\n",
        "    return values: Result of the calculate information gain ratio, and the best split point of float type     \n",
        "    '''\n",
        "    # Define the variables best_split_point, best_info_gain, split_entropy, best_categorized_column\n",
        "    best_split_point = 0.0\n",
        "    best_info_gain = 0.0\n",
        "    split_entropy = 0.0\n",
        "    best_categorized_column = None \n",
        "\n",
        "    # if the length of the split_point_list is 0, it means there are no split point\n",
        "    # further more, there is no need to consider this attribute\n",
        "    # so the result could be 0.0 and None\n",
        "    if len(split_point_list) == 0:\n",
        "      return 0.0, None\n",
        "\n",
        "    else:\n",
        "      # use the for loop to calculate the best information gain and best split point\n",
        "      for split_point in split_point_list:\n",
        "\n",
        "        # Divide the X datasets to the sub-datasets that the values are lower than the split point \n",
        "        lower_index_boolean = X[attr] < split_point\n",
        "        lower_X = X[lower_index_boolean]\n",
        "        lower_y = y[lower_index_boolean]\n",
        "\n",
        "        # Divide the X datasets to the sub-datasets that the values are higher than the split point\n",
        "        upper_index_boolean = X[attr] > split_point\n",
        "        upper_X = X[upper_index_boolean]\n",
        "        upper_y = y[upper_index_boolean]\n",
        "        \n",
        "        # compute the entropy of target values\n",
        "        Ent_D = self.compute_entropy(y)\n",
        "        \n",
        "        # Calculate the probability of these two sub-data sets occupying the total data set separately\n",
        "        lower_prob = len(lower_X) / len(X)\n",
        "        upper_prob = len(upper_X) / len(X)\n",
        "\n",
        "        # compute the entropy of the sub-datasets that all the values are lower than the split point\n",
        "        lowersets_entropy = lower_prob * self.compute_entropy(lower_y)\n",
        "\n",
        "        # compute the entropy of the sub-datasets that all the values are higher than the split point\n",
        "        uppersets_entropy = upper_prob * self.compute_entropy(upper_y)   \n",
        "        \n",
        "        # compute the information gain for this split point\n",
        "        info_gain = Ent_D - (lowersets_entropy + uppersets_entropy)\n",
        "        # get the categorical values for these numerical values lower or higher than the split point \n",
        "        categorized_column = self.get_discrete_variables(X,attr,split_point)\n",
        "        # select the best information gain and best split point\n",
        "        if info_gain > best_info_gain:\n",
        "          best_info_gain = info_gain\n",
        "          best_split_point = split_point\n",
        "          best_categorized_column = categorized_column\n",
        "\n",
        "      # If there is only one split point in the split point list and\n",
        "      # the informaiton gain of this one split point is zero, then the best split point is also 0\n",
        "      if best_info_gain == 0:\n",
        "        return 0.0, best_split_point\n",
        "\n",
        "      # computer the split information entropy\n",
        "      split_entropy = self.compute_entropy(best_categorized_column)\n",
        "\n",
        "      # use the best information gain to compute the information gain ratio\n",
        "      # if the split information entroy is zero, it means this attribute is constant\n",
        "      if split_entropy == 0:\n",
        "        return \"undefined\", None\n",
        "        \n",
        "      else:\n",
        "        info_gain_ratio = best_info_gain / split_entropy\n",
        "        return info_gain_ratio , best_split_point\n"
      ],
      "execution_count": 48,
      "outputs": []
    },
    {
      "cell_type": "code",
      "metadata": {
        "id": "rxlzZun4eW0k"
      },
      "source": [
        "# Instantiate an object of Myutils class to prepare for the subsequent c4.5 decision tree construction\n",
        "utils = Myutils()"
      ],
      "execution_count": 49,
      "outputs": []
    },
    {
      "cell_type": "markdown",
      "metadata": {
        "id": "IG48YrVk7Tkp"
      },
      "source": [
        "## **5. Define 2 object-oriented classes to construct the decision tree**\n",
        "\n",
        "1. TreeNode:\n",
        "\n",
        "  This class is mainly used to **generate the tree node** and **print the node's details** recursively. \n",
        "  \n",
        "  The brief description of the two functions in this class are:\n",
        "  \n",
        "  make(): split the attribute according to the C4.5 algorithm and generate the child node by the value of split attribute.\n",
        "  \n",
        "  print_node_details(): print the information details of each node, this function is used to help me understand the tree structure and draw the decision tree structure later.\n",
        "\n",
        "\n",
        "\n",
        "2. TreeC4_5:\n",
        "\n",
        "  This class is mainly **generates the root tree node**, **fit the decision tree model** and **make predictions** by the fitted model.\n",
        "\n",
        "  The brief description of the three functions in this class are:\n",
        "\n",
        "  fit(): fit the model by recall the make() function in the root node\n",
        "\n",
        "  make_decision(): predict the decision for each sample in the fitted model\n",
        "\n",
        "  predict(): passed in the testing datasets and predict the sample one by one, then return the list of decisions for each sample.\n",
        "  "
      ]
    },
    {
      "cell_type": "code",
      "metadata": {
        "id": "UbBH2Rb-AMqC"
      },
      "source": [
        "class TreeNode:\n",
        "  '''\n",
        "  Construct the entire tree by recursive algorithm\n",
        "  '''\n",
        "  def __init__(self,X,y, node_name=\"\", default_decision=None):\n",
        "    self.X = X # Passed in attributes datasets \n",
        "    self.y = y # Passed in target datasets\n",
        "    self.name = node_name # name of this node\n",
        "    self.default_decision = default_decision # decision from parent node\n",
        "    self.decision = None # To record the target value of the leaf node as decision\n",
        "    self.entropy = 0.0 # record this node's information entropy\n",
        "    self.attrs_info_gain_ratio = {} # To record the attriubte with its info gain ratio in dictionary structure\n",
        "    self.split_point = 0.0 # To record the best split point\n",
        "    self.split_attr = None # To record the best split attribute\n",
        "    self.split_point_info = [] # store the best split point list, best_split_point, its split attribute and max info gain ratio in this list\n",
        "    self.children = {} # store the child node in dictionary structure\n",
        "\n",
        "  def make(self):\n",
        "    # use the mode of target datasets to determine the default decision\n",
        "    # After the root node, the children node should have the default decision passed by their parent node\n",
        "    if self.default_decision is None:\n",
        "      self.default_decision = self.y.mode()[0]\n",
        "\n",
        "    # if there are no data in datasets, use the default decision passed by parent node to determine the decision \n",
        "    if len(self.X) == 0:\n",
        "      self.decision = self.default_decision\n",
        "      return\n",
        "\n",
        "    else:\n",
        "      # use c4.5 algorithm to split the attribute below\n",
        "\n",
        "      # calculate the information entropy of based on the current target values\n",
        "      self.entropy = utils.compute_entropy(self.y)\n",
        "      # if there is only one type of target values, determine the decision by this value \n",
        "      target_unique_values = self.y.unique()\n",
        "      if len(target_unique_values) == 1:\n",
        "        self.decision = target_unique_values[0]\n",
        "        return\n",
        "\n",
        "      else:\n",
        "        # initialize the value of max information gain ratio, best split point and best split point list\n",
        "        max_infoGain_ratio = 0.0\n",
        "        best_split_point = 0.0\n",
        "        best_split_point_list = []\n",
        "        for attr in self.X.keys():\n",
        "          # get the split point set of this attribute\n",
        "          split_point_list = utils.get_split_pointSet(self.X[attr])\n",
        "          if len(split_point_list) == 0:\n",
        "            # No split point here, which means that this attribute column has only one type of value\n",
        "            continue\n",
        "\n",
        "          else:\n",
        "            # calculate the information gain ratio and splitted point of each attribute\n",
        "            infoGain_ratio,splited_point = utils.compute_info_gain_ratio(self.X, self.y, attr, split_point_list)\n",
        "            # store each attribute and its information gain ratio in the dictionary\n",
        "            self.attrs_info_gain_ratio[attr] = infoGain_ratio\n",
        "\n",
        "            # select the max information gain ratio\n",
        "            if infoGain_ratio > max_infoGain_ratio:\n",
        "              max_infoGain_ratio = infoGain_ratio\n",
        "              self.split_attr = attr\n",
        "              best_split_point_list = split_point_list\n",
        "              best_split_point = splited_point\n",
        "\n",
        "        # append the best split point list, best_split_point, its split attribute and max info gain ratio to split_point_info list\n",
        "        self.split_point_info.append(list(best_split_point_list))\n",
        "        self.split_point_info.append([best_split_point,self.split_attr,max_infoGain_ratio])\n",
        "        self.split_point = best_split_point\n",
        "\n",
        "        # if there exists a split point, the tree could be split into the child node\n",
        "        if self.split_point != 0.0:\n",
        "          # make a copy of attributes datasets to allow to add a new column\n",
        "          X_copy = self.X.copy()\n",
        "\n",
        "          # define the name of the new column, and then add it to the X_copy\n",
        "          discrete_class = self.split_attr + '-group'\n",
        "          X_copy.loc[:,discrete_class] = utils.get_discrete_variables(X_copy,self.split_attr,self.split_point)\n",
        "          \n",
        "          # create a child node by the categorical values, such as \"petal length\" < 2.45 or \"petal length\" > 2.45\n",
        "          for value in X_copy[discrete_class].unique():\n",
        "            index_boolean = X_copy[discrete_class] == value\n",
        "            self.children[value] = TreeNode(\n",
        "                              self.X[index_boolean],\n",
        "                              self.y[index_boolean],\n",
        "                              node_name = value,\n",
        "                              default_decision=self.default_decision,)\n",
        "            # recursively generate the node until reaching the leaf node\n",
        "            self.children[value].make()\n",
        "        \n",
        "        else:\n",
        "          '''\n",
        "          Two issuese may happend if split_point is None\n",
        "          case1: \n",
        "          Only one mode means that when attribute values are the same, the frequency of the target value is different.\n",
        "          For example, if the first target value appears once and the second target value appears three times, \n",
        "          then the target value that appears three times wins and can be selected as the decision\n",
        "\n",
        "          case2:\n",
        "          if the mode is more than one, it means when the attribute values are the same, the frequency of the target value is identical.\n",
        "          For example, if the first target value appears once and the second target value appears once\n",
        "          then it is hard to make a decision.\n",
        "          This case issue will happen in the tree construction of the first evaluation dataset later.\n",
        "          '''\n",
        "          # assign the mode of target values to the y_mode variable\n",
        "          y_mode = self.y.mode()\n",
        "\n",
        "\n",
        "          if len(y_mode) == 1:\n",
        "            better_decision = y_mode[0]\n",
        "            self.decision = better_decision   \n",
        "            # print(\"Issue happens!\")\n",
        "            # print(\"The attribute values are the same, and the frequency of the target values is different.\")\n",
        "            # print(\"Input values: \")\n",
        "            # print(self.X)\n",
        "            # print(\"Target values: \")\n",
        "            # print(self.y)\n",
        "            # print(\"Using the majority voting method to make a better decision -> \", self.decision)\n",
        "            # print(\"------------------------------------------------------------------------------------------------------------\")         \n",
        "\n",
        "          else:\n",
        "            decision = y_mode[0]\n",
        "            self.decision = decision\n",
        "            # print(\"Issue happens!\")\n",
        "            # print(\"The attribute values are the same, but the frequency of the target values is identical\")\n",
        "            # print(\"Input values: \")\n",
        "            # print(self.X)\n",
        "            # print(\"Target values: \")\n",
        "            # print(self.y)\n",
        "            # print(\"Just make a decision -> \", self.decision)\n",
        "            # print(\"------------------------------------------------------------------------------------------------------------\")\n",
        "          return\n",
        "\n",
        "  def print_node_details(self):\n",
        "    '''\n",
        "    To print the details of each node, the output for each node will be:\n",
        "      1. (First view of the node / Back to the node) : node name\n",
        "      2. number of samples in this node\n",
        "      3. The counts of y values\n",
        "      4. The information entropy in this node\n",
        "      5. every attributes with its information gain ratio\n",
        "      6. The details of the splitted point\n",
        "      7. The node name of the child node.\n",
        "    \n",
        "    if the node is the leaf node, the output will be:\n",
        "      1. The node name\n",
        "      2. The information entropy\n",
        "      3. The determined decision \n",
        "    '''\n",
        "    # intialize the time\n",
        "    time = 1\n",
        "\n",
        "    if self.split_attr is not None:\n",
        "      for k,v in self.children.items():\n",
        "        if len(self.split_point_info) != 0:\n",
        "          # this if-else clause is to output it is the first time or the second time to view this node\n",
        "          # if it is the second time to view the node, output \"Back to the node\"\n",
        "          if time != 1:\n",
        "            print(\"Back to the node: \",self.name)\n",
        "          else:\n",
        "            print(\"First view of the node: \",self.name)\n",
        "\n",
        "          print(\"The number of the samples in this node is: \", len(self.X))\n",
        "          print(self.y.value_counts())\n",
        "          print(\"The Entropy is: {}\\n\".format(self.entropy))\n",
        "          for i,j in self.attrs_info_gain_ratio.items():          \n",
        "            print(\"{}'s information gain ratio is: {}\".format(i,j))\n",
        "\n",
        "          print(\"\\nSplited by {}, its information gain ratio is {}, its splited points list is:\\n {}\".format(self.split_point_info[1][1],self.split_point_info[1][2],self.split_point_info[0]))\n",
        "          print(\"Among these splited points, the best splited point is {}\".format(self.split_point_info[1][0]))\n",
        "          print(\"The child node is: {}\".format(k))\n",
        "          print('--------------------------------------------------------------------')\n",
        "          time += 1\n",
        "          v.print_node_details()\n",
        "          \n",
        "             \n",
        "    else:\n",
        "      time += 1\n",
        "      print(\"This node is: {}, it is a leaf node\".format(self.name))\n",
        "      print(self.y.value_counts())\n",
        "      print(\"The Entropy is: {}\\n\".format(self.entropy))\n",
        "      print(\"The number of samples is: \", len(self.X))\n",
        "      print(\"Determining the decision -> \",self.decision)\n",
        "      print('--------------------------------------------------------------------')"
      ],
      "execution_count": 50,
      "outputs": []
    },
    {
      "cell_type": "code",
      "metadata": {
        "id": "Axt8RW7rTJa5"
      },
      "source": [
        "class TreeC4_5:\n",
        "  def __init__(self,X,y):\n",
        "    # initiate the root node when instantiating an object of this class\n",
        "    self.root = TreeNode(X,y, node_name=\"Root node\")\n",
        "\n",
        "  def fit(self):\n",
        "    # fit the tree model\n",
        "    self.root.make()\n",
        "\n",
        "  def predict(self,samples):\n",
        "    '''\n",
        "    make the predictions based on the fitted model.\n",
        "\n",
        "    Parameters:\n",
        "      samples (DataFrame type): The testing datasets\n",
        "\n",
        "    return value: the predictions array\n",
        "    '''\n",
        "    # create a prediction list to store the prediction\n",
        "    prediction_list = []\n",
        "\n",
        "    # make the prediction for each sample one by one in the testing datasets\n",
        "    for sample_index in range(len(samples)):\n",
        "      # use .iloc[index] to get the sample by the index\n",
        "      sample = samples.iloc[sample_index]\n",
        "\n",
        "      # make the prediction for the sample\n",
        "      prediction = self.make_prediction(sample)\n",
        "\n",
        "      # append the prediction to the prediction list\n",
        "      prediction_list.append(prediction)\n",
        "    return np.array(prediction_list)\n",
        "\n",
        "  def make_prediction(self,sample):\n",
        "    '''\n",
        "    make a prediction for one sample\n",
        "\n",
        "    Parameters:\n",
        "      sample(Series type): one row of the testing datasets \n",
        "\n",
        "    return value: prediciton result\n",
        "    '''\n",
        "    current_node = self.root\n",
        "    while current_node.decision is None:\n",
        "\n",
        "      # get the attribute to split in the current node\n",
        "      attribute_to_split = current_node.split_attr\n",
        "\n",
        "      # get the value for this attribute in sample \n",
        "      attribute_value = sample[attribute_to_split]\n",
        "      \n",
        "      # choose the next attribute that the node should move based on the value is higher or lower than the split point\n",
        "      if attribute_value > current_node.split_point:\n",
        "        next_attr = current_node.split_attr + ' > ' + str(current_node.split_point)\n",
        "      \n",
        "      else:\n",
        "        next_attr = current_node.split_attr + ' < ' + str(current_node.split_point)\n",
        "          \n",
        "      current_node = current_node.children[next_attr]\n",
        "\n",
        "    # when decision found in the node, return this decision as the prediction\n",
        "    return current_node.decision"
      ],
      "execution_count": 51,
      "outputs": []
    },
    {
      "cell_type": "markdown",
      "metadata": {
        "id": "DfFs3gOCgZWT"
      },
      "source": [
        "# **Evaluation** #"
      ]
    },
    {
      "cell_type": "markdown",
      "metadata": {
        "id": "OzhNJuQ5HY3A"
      },
      "source": [
        "## **1. Accuracy and error rate**\n",
        "\n",
        "In this part I use the training datasets X_train and y_train to train the model.\n",
        "\n",
        "Then calculate the accuracy by the testing datasets X_test and y_test."
      ]
    },
    {
      "cell_type": "code",
      "metadata": {
        "id": "axVJ-bjJAVrr",
        "colab": {
          "base_uri": "https://localhost:8080/"
        },
        "outputId": "dbacfade-4eed-40c3-cd83-8a863771c11b"
      },
      "source": [
        "dtc4_5 = TreeC4_5(X_train,y_train)\n",
        "dtc4_5.fit()\n",
        "\n",
        "decisions = dtc4_5.predict(X_test)\n",
        "\n",
        "# got the boolean result that whther the prediction is true of false\n",
        "results = decisions == y_test\n",
        "\n",
        "# calculate the accuracy and output\n",
        "accuracy = sum(results) / len(results)\n",
        "print(\"My model's accuracy for the iris dataset is: \", accuracy)"
      ],
      "execution_count": 52,
      "outputs": [
        {
          "output_type": "stream",
          "text": [
            "My model's accuracy for the iris dataset is:  0.94\n"
          ],
          "name": "stdout"
        }
      ]
    },
    {
      "cell_type": "markdown",
      "metadata": {
        "id": "Tj6g_yYQJS9w"
      },
      "source": [
        "Then I calculate the in sample error and out of sample errors rate by make another 10 experiments\n",
        "\n",
        "Each experiment I split the total datasets to 67% of training dataset and 33% of validation datasets."
      ]
    },
    {
      "cell_type": "code",
      "metadata": {
        "id": "qRYFgiC3LvQ4",
        "colab": {
          "base_uri": "https://localhost:8080/"
        },
        "outputId": "bac79bdc-0767-4b3e-8c75-e2fd921b0e0c"
      },
      "source": [
        "# define the list in_errs and out_errs to store the result of in_errs and out_errs in each experiment\n",
        "in_errs = []\n",
        "out_errs = []\n",
        "\n",
        "# define the size of training datasets\n",
        "train_size = 0.67\n",
        "\n",
        "# Considering the time comsuming, I make 10 experiments here\n",
        "for random_seed in range(10):\n",
        "    # Randomly split training/test data, use the random seed from 0 to 9\n",
        "    X_trn, X_val, y_trn, y_val = train_test_split(\n",
        "        X_total, y_total, train_size=train_size, random_state=random_seed)\n",
        "    \n",
        "    # Re-make a data model in each experiment\n",
        "    dt = TreeC4_5(X_trn,y_trn)\n",
        "    dt.fit() \n",
        "    \n",
        "    # calculate the in-sample error rate and out of sample error rate respectively\n",
        "    in_sample_error_rate = np.sum((dt.predict(X_trn) != y_trn)) / len(y_trn)\n",
        "    out_sample_error_rate = np.sum((dt.predict(X_val) != y_val)) / len(y_trn)\n",
        "\n",
        "    # append the results of in-sample error rate and out of sample error rate to the initialize lists\n",
        "    in_errs.append(in_sample_error_rate)\n",
        "    out_errs.append(out_sample_error_rate)\n",
        "\n",
        "# convert the type of list to numpy.array \n",
        "# in order to calculate the mean and standard deviation by using the .mean() function and .std() function directly\n",
        "in_errs = np.array(in_errs)\n",
        "out_errs = np.array(out_errs)\n",
        "print(f\"in_errs: mean {in_errs.mean():.2f}, std {in_errs.std():.2f}\")\n",
        "print(f\"out_errs: mean {out_errs.mean():.2f}, std {out_errs.std():.2f}\")"
      ],
      "execution_count": 53,
      "outputs": [
        {
          "output_type": "stream",
          "text": [
            "in_errs: mean 0.00, std 0.00\n",
            "out_errs: mean 0.03, std 0.02\n"
          ],
          "name": "stdout"
        }
      ]
    },
    {
      "cell_type": "markdown",
      "metadata": {
        "id": "RdoUvahFLl_Q"
      },
      "source": [
        "## **2. Visualize the tree structure**\n",
        "\n",
        "This step I use the pre-defined function .print_node_details() in TreeNode class to print the information details of each node.\n",
        "\n",
        "According to the output of print_node_details(), I use Google drawing to draw the whole tree with each node's information, such as split attribute, entropy, IG ratio (Information Gain ratio), number of samples, and numer of each target values."
      ]
    },
    {
      "cell_type": "code",
      "metadata": {
        "id": "eH3SW_6ijttm"
      },
      "source": [
        "# You can print the node details by the following code\n",
        "# dtc4_5.root.print_node_details()"
      ],
      "execution_count": 54,
      "outputs": []
    },
    {
      "cell_type": "markdown",
      "metadata": {
        "id": "3yPBuTA0Ie5i"
      },
      "source": [
        "**My Model's Tree Structure for iris dataset**"
      ]
    },
    {
      "cell_type": "markdown",
      "metadata": {
        "id": "BYG4v5_PI0bw"
      },
      "source": [
        "![Tree plot (5).png](data:image/png;base64,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)"
      ]
    },
    {
      "cell_type": "markdown",
      "metadata": {
        "id": "UCB6zS5bBObZ"
      },
      "source": [
        "## **3. Model performance in scatter plot**"
      ]
    },
    {
      "cell_type": "markdown",
      "metadata": {
        "id": "S-nni09VBpmZ"
      },
      "source": [
        "In this part, I choose a pair of attributes to train the models again and visualize the performance in the scatter plot."
      ]
    },
    {
      "cell_type": "code",
      "metadata": {
        "id": "lk6hjWpbBQA6",
        "colab": {
          "base_uri": "https://localhost:8080/",
          "height": 520
        },
        "outputId": "ddfc7400-ab96-4a3c-8c7b-806b29071749"
      },
      "source": [
        "# select the first and third attributes columns to assign to separated_attr_X_total and separated_X_train\n",
        "separated_attr_X_total = X_total.iloc[:,[0,2]]\n",
        "separated_X_train = X_train.iloc[:,[0,2]]\n",
        "\n",
        "x_min = separated_attr_X_total.iloc[:, 0].min() - 1\n",
        "x_max = separated_attr_X_total.iloc[:, 0].max() + 1\n",
        "\n",
        "y_min = separated_attr_X_total.iloc[:, 1].min() - 1\n",
        "y_max = separated_attr_X_total.iloc[:, 1].max() + 1\n",
        "\n",
        "# create two One-dimensional matrixs\n",
        "X_d = np.arange(x_min, x_max, 0.1)\n",
        "y_d = np.arange(y_min, y_max, 0.1)\n",
        "\n",
        "# create two two-dimensional matrixs based on the X_d and y_d\n",
        "xx, yy = np.meshgrid(X_d , y_d)\n",
        "\n",
        "dt_se = TreeC4_5(separated_X_train,y_train)\n",
        "dt_se.fit()\n",
        "\n",
        "separeted_attribute1 = separated_X_train.keys()[0]\n",
        "separeted_attribute2 = separated_X_train.keys()[1]\n",
        "\n",
        "# use .ravel() return the one dimension view of xx and yy\n",
        "# create a testing dataset\n",
        "separated_X_test = pd.DataFrame({separeted_attribute1: xx.ravel(), separeted_attribute2: yy.ravel()})\n",
        "\n",
        "separated_predictions = dt_se.predict(separated_X_test)\n",
        "\n",
        "Z = np.array(separated_predictions)\n",
        "Z = Z.reshape(xx.shape)\n",
        "plt.figure(figsize=(16,8))\n",
        "plt.title(\"Performance of my C4.5 decision tree model trained by a pair of attributes\", fontdict={\"fontsize\":15})\n",
        "plt.xlabel(separeted_attribute1, fontsize=15)\n",
        "plt.ylabel(separeted_attribute2, fontsize=15)\n",
        "\n",
        "# visualize the total datasets point in scatter plot\n",
        "plt.scatter(separated_attr_X_total.iloc[:, 0], separated_attr_X_total.iloc[:, 1], c = y_total)\n",
        "\n",
        "# set the 3 areas according to the predictions of the model, each area stands for a label\n",
        "# the \"alpha\" means the transparency, the main purpose of setting transparency is to see where the point is\n",
        "plt.contourf(xx, yy, Z,alpha=0.4)\n",
        "plt.show()"
      ],
      "execution_count": 55,
      "outputs": [
        {
          "output_type": "display_data",
          "data": {
            "image/png": "[encoded data removed]",
            "text/plain": [
              "<Figure size 1152x576 with 1 Axes>"
            ]
          },
          "metadata": {
            "tags": [],
            "needs_background": "light"
          }
        }
      ]
    },
    {
      "cell_type": "markdown",
      "metadata": {
        "id": "qnlfkiIEichC"
      },
      "source": [
        "## **4. Comparison with the Decision Tree Model in sklearn library**\n",
        "\n",
        "\n"
      ]
    },
    {
      "cell_type": "markdown",
      "metadata": {
        "id": "POdOTawdOIqx"
      },
      "source": [
        "In this step, I use the DecisionTreeClassifier in sklearn library to train another model based on the same training datasets and testing datasets, and see the accuracy, errors_rate, and finally visualize the tree structure.\n",
        "\n",
        "The reason why I use the decision tree model in sklearn is that I want to compare the performance of my C4.5 decision tree model with the sklearn model, including the accuracy, tree structure visualization."
      ]
    },
    {
      "cell_type": "code",
      "metadata": {
        "id": "pUAZLvv0YuL_",
        "colab": {
          "base_uri": "https://localhost:8080/"
        },
        "outputId": "28ae99c6-0475-44e4-96c4-9b550095cdd6"
      },
      "source": [
        "from sklearn import tree \n",
        "import graphviz # This library is used to visualize the tree structure of the fitted decision tree model in sklearn\n",
        "\n",
        "# choose the criterion = \"Entropy\" to measure the quality of a split by information gain.\n",
        "clf = tree.DecisionTreeClassifier(criterion=\"entropy\",random_state=35)\n",
        "clf = clf.fit(X_train,y_train)\n",
        "predictions = clf.predict(X_test)\n",
        "\n",
        "# calculate the accuracy from the predictions\n",
        "result = [decision == target for decision,target in zip(predictions,y_test)]\n",
        "accuracy = sum(result)/len(result)\n",
        "print(\"sklearn decision tree model's accuracy for the iris dataset is:\",accuracy)"
      ],
      "execution_count": 56,
      "outputs": [
        {
          "output_type": "stream",
          "text": [
            "sklearn decision tree model's accuracy for the iris dataset is: 0.94\n"
          ],
          "name": "stdout"
        }
      ]
    },
    {
      "cell_type": "markdown",
      "metadata": {
        "id": "0Lmfbv7CW4xU"
      },
      "source": [
        "It could be obviously observed that the sklearn decision tree model has similar accuracy to my C4.5 decision tree model.\n",
        "\n",
        "Then I will use the DecisionTreeClassifier model to calculate the in-samples error rate and out of samples rate."
      ]
    },
    {
      "cell_type": "code",
      "metadata": {
        "id": "oLORK-q-KVot",
        "colab": {
          "base_uri": "https://localhost:8080/"
        },
        "outputId": "1502e0e9-e7c4-45f1-a8cd-aaf19b47dfbf"
      },
      "source": [
        "in_errs = []\n",
        "out_errs = []\n",
        "train_size = 0.66\n",
        "for random_seed in range(10):\n",
        "    X_trn, X_val, y_trn, y_val = train_test_split(\n",
        "        X_total, y_total, train_size=train_size, random_state=random_seed)\n",
        "    \n",
        "    dt = tree.DecisionTreeClassifier(criterion=\"entropy\")\n",
        "    dt.fit(X_trn, y_trn) \n",
        "    \n",
        "    in_sample_error_rate = np.sum((dt.predict(X_trn) != y_trn)) / len(y_trn)\n",
        "    out_sample_error_rate = np.sum((dt.predict(X_val) != y_val)) / len(y_trn)\n",
        "\n",
        "    in_errs.append(in_sample_error_rate)\n",
        "    out_errs.append(out_sample_error_rate)\n",
        "\n",
        "in_errs = np.array(in_errs)\n",
        "out_errs = np.array(out_errs)\n",
        "print(f\"in_errs: mean {in_errs.mean():.2f}, std {in_errs.std():.2f}\")\n",
        "print(f\"out_errs: mean {out_errs.mean():.2f}, std {out_errs.std():.2f}\")"
      ],
      "execution_count": 57,
      "outputs": [
        {
          "output_type": "stream",
          "text": [
            "in_errs: mean 0.00, std 0.00\n",
            "out_errs: mean 0.03, std 0.01\n"
          ],
          "name": "stdout"
        }
      ]
    },
    {
      "cell_type": "markdown",
      "metadata": {
        "id": "qJfvqxFZXVZx"
      },
      "source": [
        "Then I Visualize the tree structure of the sklearn decision tree model by using the .export_graphviz() function"
      ]
    },
    {
      "cell_type": "code",
      "metadata": {
        "id": "cEiYQHeKWUV1",
        "colab": {
          "base_uri": "https://localhost:8080/",
          "height": 656
        },
        "outputId": "db119bc6-a6fa-4d26-92ba-dcc27e2cee40"
      },
      "source": [
        "dot_data = tree.export_graphviz(clf,out_file=None,feature_names=list(X_train.columns.values),filled=True,rounded=True,special_characters=True)\n",
        "graphOfTree = graphviz.Source(dot_data)\n",
        "graphOfTree"
      ],
      "execution_count": 58,
      "outputs": [
        {
          "output_type": "execute_result",
          "data": {
            "text/plain": [
              "<graphviz.files.Source at 0x7f042c11cfd0>"
            ],
            "image/svg+xml": "<?xml version=\"1.0\" encoding=\"UTF-8\" standalone=\"no\"?>\n<!DOCTYPE svg PUBLIC \"-//W3C//DTD SVG 1.1//EN\"\n \"http://www.w3.org/Graphics/SVG/1.1/DTD/svg11.dtd\">\n<!-- Generated by graphviz version 2.40.1 (20161225.0304)\n -->\n<!-- Title: Tree Pages: 1 -->\n<svg width=\"350pt\" height=\"477pt\"\n viewBox=\"0.00 0.00 350.00 477.00\" xmlns=\"http://www.w3.org/2000/svg\" xmlns:xlink=\"http://www.w3.org/1999/xlink\">\n<g id=\"graph0\" class=\"graph\" transform=\"scale(1 1) rotate(0) translate(4 473)\">\n<title>Tree</title>\n<polygon fill=\"#ffffff\" stroke=\"transparent\" points=\"-4,4 -4,-473 346,-473 346,4 -4,4\"/>\n<!-- 0 -->\n<g id=\"node1\" class=\"node\">\n<title>0</title>\n<path fill=\"#fdf6f0\" stroke=\"#000000\" d=\"M192.5,-469C192.5,-469 76.5,-469 76.5,-469 70.5,-469 64.5,-463 64.5,-457 64.5,-457 64.5,-413 64.5,-413 64.5,-407 70.5,-401 76.5,-401 76.5,-401 192.5,-401 192.5,-401 198.5,-401 204.5,-407 204.5,-413 204.5,-413 204.5,-457 204.5,-457 204.5,-463 198.5,-469 192.5,-469\"/>\n<text text-anchor=\"start\" x=\"82\" y=\"-453.8\" font-family=\"Helvetica,sans-Serif\" font-size=\"14.00\" fill=\"#000000\">petal width ≤ 0.8</text>\n<text text-anchor=\"start\" x=\"83.5\" y=\"-438.8\" font-family=\"Helvetica,sans-Serif\" font-size=\"14.00\" fill=\"#000000\">entropy = 1.581</text>\n<text text-anchor=\"start\" x=\"86.5\" y=\"-423.8\" font-family=\"Helvetica,sans-Serif\" font-size=\"14.00\" fill=\"#000000\">samples = 100</text>\n<text text-anchor=\"start\" x=\"72.5\" y=\"-408.8\" font-family=\"Helvetica,sans-Serif\" font-size=\"14.00\" fill=\"#000000\">value = [37, 32, 31]</text>\n</g>\n<!-- 1 -->\n<g id=\"node2\" class=\"node\">\n<title>1</title>\n<path fill=\"#e58139\" stroke=\"#000000\" d=\"M112,-357.5C112,-357.5 13,-357.5 13,-357.5 7,-357.5 1,-351.5 1,-345.5 1,-345.5 1,-316.5 1,-316.5 1,-310.5 7,-304.5 13,-304.5 13,-304.5 112,-304.5 112,-304.5 118,-304.5 124,-310.5 124,-316.5 124,-316.5 124,-345.5 124,-345.5 124,-351.5 118,-357.5 112,-357.5\"/>\n<text text-anchor=\"start\" x=\"20\" y=\"-342.3\" font-family=\"Helvetica,sans-Serif\" font-size=\"14.00\" fill=\"#000000\">entropy = 0.0</text>\n<text text-anchor=\"start\" x=\"18.5\" y=\"-327.3\" font-family=\"Helvetica,sans-Serif\" font-size=\"14.00\" fill=\"#000000\">samples = 37</text>\n<text text-anchor=\"start\" x=\"9\" y=\"-312.3\" font-family=\"Helvetica,sans-Serif\" font-size=\"14.00\" fill=\"#000000\">value = [37, 0, 0]</text>\n</g>\n<!-- 0&#45;&gt;1 -->\n<g id=\"edge1\" class=\"edge\">\n<title>0&#45;&gt;1</title>\n<path fill=\"none\" stroke=\"#000000\" d=\"M110.9245,-400.9465C103.1463,-389.7113 94.4861,-377.2021 86.6645,-365.9043\"/>\n<polygon fill=\"#000000\" stroke=\"#000000\" points=\"89.4452,-363.7719 80.8753,-357.5422 83.6898,-367.7564 89.4452,-363.7719\"/>\n<text text-anchor=\"middle\" x=\"76.4032\" y=\"-378.4389\" font-family=\"Helvetica,sans-Serif\" font-size=\"14.00\" fill=\"#000000\">True</text>\n</g>\n<!-- 2 -->\n<g id=\"node3\" class=\"node\">\n<title>2</title>\n<path fill=\"#f9fefb\" stroke=\"#000000\" d=\"M261,-365C261,-365 154,-365 154,-365 148,-365 142,-359 142,-353 142,-353 142,-309 142,-309 142,-303 148,-297 154,-297 154,-297 261,-297 261,-297 267,-297 273,-303 273,-309 273,-309 273,-353 273,-353 273,-359 267,-365 261,-365\"/>\n<text text-anchor=\"start\" x=\"151\" y=\"-349.8\" font-family=\"Helvetica,sans-Serif\" font-size=\"14.00\" fill=\"#000000\">petal width ≤ 1.65</text>\n<text text-anchor=\"start\" x=\"165\" y=\"-334.8\" font-family=\"Helvetica,sans-Serif\" font-size=\"14.00\" fill=\"#000000\">entropy = 1.0</text>\n<text text-anchor=\"start\" x=\"163.5\" y=\"-319.8\" font-family=\"Helvetica,sans-Serif\" font-size=\"14.00\" fill=\"#000000\">samples = 63</text>\n<text text-anchor=\"start\" x=\"150\" y=\"-304.8\" font-family=\"Helvetica,sans-Serif\" font-size=\"14.00\" fill=\"#000000\">value = [0, 32, 31]</text>\n</g>\n<!-- 0&#45;&gt;2 -->\n<g id=\"edge2\" class=\"edge\">\n<title>0&#45;&gt;2</title>\n<path fill=\"none\" stroke=\"#000000\" d=\"M158.4029,-400.9465C164.5791,-392.1475 171.3038,-382.5672 177.739,-373.3993\"/>\n<polygon fill=\"#000000\" stroke=\"#000000\" points=\"180.6629,-375.3258 183.5434,-365.13 174.9334,-371.3041 180.6629,-375.3258\"/>\n<text text-anchor=\"middle\" x=\"187.8563\" y=\"-386.0552\" font-family=\"Helvetica,sans-Serif\" font-size=\"14.00\" fill=\"#000000\">False</text>\n</g>\n<!-- 3 -->\n<g id=\"node4\" class=\"node\">\n<title>3</title>\n<path fill=\"#45e789\" stroke=\"#000000\" d=\"M189,-261C189,-261 78,-261 78,-261 72,-261 66,-255 66,-249 66,-249 66,-205 66,-205 66,-199 72,-193 78,-193 78,-193 189,-193 189,-193 195,-193 201,-199 201,-205 201,-205 201,-249 201,-249 201,-255 195,-261 189,-261\"/>\n<text text-anchor=\"start\" x=\"74\" y=\"-245.8\" font-family=\"Helvetica,sans-Serif\" font-size=\"14.00\" fill=\"#000000\">petal length ≤ 4.95</text>\n<text text-anchor=\"start\" x=\"82.5\" y=\"-230.8\" font-family=\"Helvetica,sans-Serif\" font-size=\"14.00\" fill=\"#000000\">entropy = 0.323</text>\n<text text-anchor=\"start\" x=\"89.5\" y=\"-215.8\" font-family=\"Helvetica,sans-Serif\" font-size=\"14.00\" fill=\"#000000\">samples = 34</text>\n<text text-anchor=\"start\" x=\"80\" y=\"-200.8\" font-family=\"Helvetica,sans-Serif\" font-size=\"14.00\" fill=\"#000000\">value = [0, 32, 2]</text>\n</g>\n<!-- 2&#45;&gt;3 -->\n<g id=\"edge3\" class=\"edge\">\n<title>2&#45;&gt;3</title>\n<path fill=\"none\" stroke=\"#000000\" d=\"M183.2696,-296.9465C177.0088,-288.1475 170.192,-278.5672 163.6687,-269.3993\"/>\n<polygon fill=\"#000000\" stroke=\"#000000\" points=\"166.4342,-267.2488 157.7848,-261.13 160.7306,-271.3071 166.4342,-267.2488\"/>\n</g>\n<!-- 8 -->\n<g id=\"node9\" class=\"node\">\n<title>8</title>\n<path fill=\"#8139e5\" stroke=\"#000000\" d=\"M330,-253.5C330,-253.5 231,-253.5 231,-253.5 225,-253.5 219,-247.5 219,-241.5 219,-241.5 219,-212.5 219,-212.5 219,-206.5 225,-200.5 231,-200.5 231,-200.5 330,-200.5 330,-200.5 336,-200.5 342,-206.5 342,-212.5 342,-212.5 342,-241.5 342,-241.5 342,-247.5 336,-253.5 330,-253.5\"/>\n<text text-anchor=\"start\" x=\"238\" y=\"-238.3\" font-family=\"Helvetica,sans-Serif\" font-size=\"14.00\" fill=\"#000000\">entropy = 0.0</text>\n<text text-anchor=\"start\" x=\"236.5\" y=\"-223.3\" font-family=\"Helvetica,sans-Serif\" font-size=\"14.00\" fill=\"#000000\">samples = 29</text>\n<text text-anchor=\"start\" x=\"227\" y=\"-208.3\" font-family=\"Helvetica,sans-Serif\" font-size=\"14.00\" fill=\"#000000\">value = [0, 0, 29]</text>\n</g>\n<!-- 2&#45;&gt;8 -->\n<g id=\"edge8\" class=\"edge\">\n<title>2&#45;&gt;8</title>\n<path fill=\"none\" stroke=\"#000000\" d=\"M231.4029,-296.9465C239.2892,-285.7113 248.0697,-273.2021 255.9998,-261.9043\"/>\n<polygon fill=\"#000000\" stroke=\"#000000\" points=\"258.9889,-263.7379 261.8694,-253.5422 253.2595,-259.7163 258.9889,-263.7379\"/>\n</g>\n<!-- 4 -->\n<g id=\"node5\" class=\"node\">\n<title>4</title>\n<path fill=\"#39e581\" stroke=\"#000000\" d=\"M111,-149.5C111,-149.5 12,-149.5 12,-149.5 6,-149.5 0,-143.5 0,-137.5 0,-137.5 0,-108.5 0,-108.5 0,-102.5 6,-96.5 12,-96.5 12,-96.5 111,-96.5 111,-96.5 117,-96.5 123,-102.5 123,-108.5 123,-108.5 123,-137.5 123,-137.5 123,-143.5 117,-149.5 111,-149.5\"/>\n<text text-anchor=\"start\" x=\"19\" y=\"-134.3\" font-family=\"Helvetica,sans-Serif\" font-size=\"14.00\" fill=\"#000000\">entropy = 0.0</text>\n<text text-anchor=\"start\" x=\"17.5\" y=\"-119.3\" font-family=\"Helvetica,sans-Serif\" font-size=\"14.00\" fill=\"#000000\">samples = 31</text>\n<text text-anchor=\"start\" x=\"8\" y=\"-104.3\" font-family=\"Helvetica,sans-Serif\" font-size=\"14.00\" fill=\"#000000\">value = [0, 31, 0]</text>\n</g>\n<!-- 3&#45;&gt;4 -->\n<g id=\"edge4\" class=\"edge\">\n<title>3&#45;&gt;4</title>\n<path fill=\"none\" stroke=\"#000000\" d=\"M109.9245,-192.9465C102.1463,-181.7113 93.4861,-169.2021 85.6645,-157.9043\"/>\n<polygon fill=\"#000000\" stroke=\"#000000\" points=\"88.4452,-155.7719 79.8753,-149.5422 82.6898,-159.7564 88.4452,-155.7719\"/>\n</g>\n<!-- 5 -->\n<g id=\"node6\" class=\"node\">\n<title>5</title>\n<path fill=\"#c09cf2\" stroke=\"#000000\" d=\"M258,-157C258,-157 153,-157 153,-157 147,-157 141,-151 141,-145 141,-145 141,-101 141,-101 141,-95 147,-89 153,-89 153,-89 258,-89 258,-89 264,-89 270,-95 270,-101 270,-101 270,-145 270,-145 270,-151 264,-157 258,-157\"/>\n<text text-anchor=\"start\" x=\"149\" y=\"-141.8\" font-family=\"Helvetica,sans-Serif\" font-size=\"14.00\" fill=\"#000000\">petal width ≤ 1.55</text>\n<text text-anchor=\"start\" x=\"154.5\" y=\"-126.8\" font-family=\"Helvetica,sans-Serif\" font-size=\"14.00\" fill=\"#000000\">entropy = 0.918</text>\n<text text-anchor=\"start\" x=\"166\" y=\"-111.8\" font-family=\"Helvetica,sans-Serif\" font-size=\"14.00\" fill=\"#000000\">samples = 3</text>\n<text text-anchor=\"start\" x=\"156\" y=\"-96.8\" font-family=\"Helvetica,sans-Serif\" font-size=\"14.00\" fill=\"#000000\">value = [0, 1, 2]</text>\n</g>\n<!-- 3&#45;&gt;5 -->\n<g id=\"edge5\" class=\"edge\">\n<title>3&#45;&gt;5</title>\n<path fill=\"none\" stroke=\"#000000\" d=\"M157.0755,-192.9465C163.1671,-184.1475 169.7996,-174.5672 176.1466,-165.3993\"/>\n<polygon fill=\"#000000\" stroke=\"#000000\" points=\"179.0571,-167.3442 181.8715,-157.13 173.3017,-163.3597 179.0571,-167.3442\"/>\n</g>\n<!-- 6 -->\n<g id=\"node7\" class=\"node\">\n<title>6</title>\n<path fill=\"#8139e5\" stroke=\"#000000\" d=\"M184,-53C184,-53 93,-53 93,-53 87,-53 81,-47 81,-41 81,-41 81,-12 81,-12 81,-6 87,0 93,0 93,0 184,0 184,0 190,0 196,-6 196,-12 196,-12 196,-41 196,-41 196,-47 190,-53 184,-53\"/>\n<text text-anchor=\"start\" x=\"96\" y=\"-37.8\" font-family=\"Helvetica,sans-Serif\" font-size=\"14.00\" fill=\"#000000\">entropy = 0.0</text>\n<text text-anchor=\"start\" x=\"99\" y=\"-22.8\" font-family=\"Helvetica,sans-Serif\" font-size=\"14.00\" fill=\"#000000\">samples = 2</text>\n<text text-anchor=\"start\" x=\"89\" y=\"-7.8\" font-family=\"Helvetica,sans-Serif\" font-size=\"14.00\" fill=\"#000000\">value = [0, 0, 2]</text>\n</g>\n<!-- 5&#45;&gt;6 -->\n<g id=\"edge6\" class=\"edge\">\n<title>5&#45;&gt;6</title>\n<path fill=\"none\" stroke=\"#000000\" d=\"M181.8783,-88.9777C175.7113,-80.0954 169.0539,-70.5067 162.8499,-61.5711\"/>\n<polygon fill=\"#000000\" stroke=\"#000000\" points=\"165.6497,-59.4666 157.0715,-53.2485 159.8997,-63.4589 165.6497,-59.4666\"/>\n</g>\n<!-- 7 -->\n<g id=\"node8\" class=\"node\">\n<title>7</title>\n<path fill=\"#39e581\" stroke=\"#000000\" d=\"M317,-53C317,-53 226,-53 226,-53 220,-53 214,-47 214,-41 214,-41 214,-12 214,-12 214,-6 220,0 226,0 226,0 317,0 317,0 323,0 329,-6 329,-12 329,-12 329,-41 329,-41 329,-47 323,-53 317,-53\"/>\n<text text-anchor=\"start\" x=\"229\" y=\"-37.8\" font-family=\"Helvetica,sans-Serif\" font-size=\"14.00\" fill=\"#000000\">entropy = 0.0</text>\n<text text-anchor=\"start\" x=\"232\" y=\"-22.8\" font-family=\"Helvetica,sans-Serif\" font-size=\"14.00\" fill=\"#000000\">samples = 1</text>\n<text text-anchor=\"start\" x=\"222\" y=\"-7.8\" font-family=\"Helvetica,sans-Serif\" font-size=\"14.00\" fill=\"#000000\">value = [0, 1, 0]</text>\n</g>\n<!-- 5&#45;&gt;7 -->\n<g id=\"edge7\" class=\"edge\">\n<title>5&#45;&gt;7</title>\n<path fill=\"none\" stroke=\"#000000\" d=\"M228.7691,-88.9777C234.844,-80.0954 241.4021,-70.5067 247.5135,-61.5711\"/>\n<polygon fill=\"#000000\" stroke=\"#000000\" points=\"250.4493,-63.4785 253.2057,-53.2485 244.6714,-59.5267 250.4493,-63.4785\"/>\n</g>\n</g>\n</svg>\n"
          },
          "metadata": {
            "tags": []
          },
          "execution_count": 58
        }
      ]
    },
    {
      "cell_type": "code",
      "metadata": {
        "id": "UNxwKLE2cgmY",
        "colab": {
          "base_uri": "https://localhost:8080/",
          "height": 520
        },
        "outputId": "bbaa7fd9-3e1e-4ca5-827b-9cf98785c794"
      },
      "source": [
        "# select the first and third attributes columns to assign to separated_attr_X_total and separated_X_train\n",
        "separated_attr_X_total = X_total.iloc[:,[0,2]]\n",
        "separated_X_train = X_train.iloc[:,[0,2]]\n",
        "\n",
        "x_min = separated_attr_X_total.iloc[:, 0].min() - 1\n",
        "x_max = separated_attr_X_total.iloc[:, 0].max() + 1\n",
        "\n",
        "y_min = separated_attr_X_total.iloc[:, 1].min() - 1\n",
        "y_max = separated_attr_X_total.iloc[:, 1].max() + 1\n",
        "\n",
        "# create two One-dimensional matrixs\n",
        "X_d = np.arange(x_min, x_max, 0.1)\n",
        "y_d = np.arange(y_min, y_max, 0.1)\n",
        "\n",
        "# create two two-dimensional matrixs based on the X_d and y_d\n",
        "xx, yy = np.meshgrid(X_d , y_d)\n",
        "\n",
        "clf_se = tree.DecisionTreeClassifier()\n",
        "clf_se.fit(np.array(separated_X_train),np.array(y_train))\n",
        "\n",
        "# np.c_ means connecting the two matrices by column, that is, add the two matrices up and down, it requires the same number of columns\n",
        "Z = clf_se.predict(np.c_[xx.ravel(), yy.ravel()])\n",
        "Z = Z.reshape(xx.shape)\n",
        "\n",
        "plt.figure(figsize=(16,8))\n",
        "plt.title(\"Performance of sklearn decision tree model trained by a pair of attributes\", fontdict={\"fontsize\":15})\n",
        "plt.xlabel(separeted_attribute1, fontsize=15)\n",
        "plt.ylabel(separeted_attribute2, fontsize=15)\n",
        "plt.contourf(xx, yy, Z,alpha=0.4)\n",
        "plt.scatter(separated_attr_X_total.iloc[:, 0], separated_attr_X_total.iloc[:, 1], c = y_total)\n",
        "plt.show()"
      ],
      "execution_count": 59,
      "outputs": [
        {
          "output_type": "display_data",
          "data": {
            "image/png": "[encoded data removed]",
            "text/plain": [
              "<Figure size 1152x576 with 1 Axes>"
            ]
          },
          "metadata": {
            "tags": [],
            "needs_background": "light"
          }
        }
      ]
    },
    {
      "cell_type": "markdown",
      "metadata": {
        "id": "KskBVxdYeKNA"
      },
      "source": [
        "Compare the scatter plot between my model and sklearn model, I notice there are almost the same except for the extra green rectangle area in the scatter plot of sklearn model."
      ]
    },
    {
      "cell_type": "markdown",
      "metadata": {
        "id": "9ZYu8tmmrb61"
      },
      "source": [
        "## **5. Evaluation Datasets**\n",
        "\n",
        "This part I will use another two datasets to test my C4.5 decision tree algorithm\n",
        "\n",
        "**Evaluation dataset 1 - Blood Transfusion Service Center dataset**\n",
        "\n",
        "This dataset has 748 samples with 5 attributes.\n",
        "\n",
        "I use this dataset to evaluate whether my algorithm can handle some noise samples in the dataset.\n",
        "\n",
        "It can be viewed and downloaded from the UCI Machine Learning Repository datasets: http://archive.ics.uci.edu/ml/datasets/Blood+Transfusion+Service+Center"
      ]
    },
    {
      "cell_type": "code",
      "metadata": {
        "id": "kcbd2sRNETSH",
        "colab": {
          "base_uri": "https://localhost:8080/",
          "height": 195
        },
        "outputId": "3a372644-057e-4a0b-db19-31d41342a5ca"
      },
      "source": [
        "df2 = pd.read_csv(\"https://raw.githubusercontent.com/ShengHangNB/Decision-Tree-C4.5/master/dataset/transfusion.csv\")\n",
        "df2.head()"
      ],
      "execution_count": 60,
      "outputs": [
        {
          "output_type": "execute_result",
          "data": {
            "text/html": [
              "<div>\n",
              "<style scoped>\n",
              "    .dataframe tbody tr th:only-of-type {\n",
              "        vertical-align: middle;\n",
              "    }\n",
              "\n",
              "    .dataframe tbody tr th {\n",
              "        vertical-align: top;\n",
              "    }\n",
              "\n",
              "    .dataframe thead th {\n",
              "        text-align: right;\n",
              "    }\n",
              "</style>\n",
              "<table border=\"1\" class=\"dataframe\">\n",
              "  <thead>\n",
              "    <tr style=\"text-align: right;\">\n",
              "      <th></th>\n",
              "      <th>Recency (months)</th>\n",
              "      <th>Frequency (times)</th>\n",
              "      <th>Monetary (c.c. blood)</th>\n",
              "      <th>Time (months)</th>\n",
              "      <th>whether he/she donated blood in March 2007</th>\n",
              "    </tr>\n",
              "  </thead>\n",
              "  <tbody>\n",
              "    <tr>\n",
              "      <th>0</th>\n",
              "      <td>2</td>\n",
              "      <td>50</td>\n",
              "      <td>12500</td>\n",
              "      <td>98</td>\n",
              "      <td>1</td>\n",
              "    </tr>\n",
              "    <tr>\n",
              "      <th>1</th>\n",
              "      <td>0</td>\n",
              "      <td>13</td>\n",
              "      <td>3250</td>\n",
              "      <td>28</td>\n",
              "      <td>1</td>\n",
              "    </tr>\n",
              "    <tr>\n",
              "      <th>2</th>\n",
              "      <td>1</td>\n",
              "      <td>16</td>\n",
              "      <td>4000</td>\n",
              "      <td>35</td>\n",
              "      <td>1</td>\n",
              "    </tr>\n",
              "    <tr>\n",
              "      <th>3</th>\n",
              "      <td>2</td>\n",
              "      <td>20</td>\n",
              "      <td>5000</td>\n",
              "      <td>45</td>\n",
              "      <td>1</td>\n",
              "    </tr>\n",
              "    <tr>\n",
              "      <th>4</th>\n",
              "      <td>1</td>\n",
              "      <td>24</td>\n",
              "      <td>6000</td>\n",
              "      <td>77</td>\n",
              "      <td>0</td>\n",
              "    </tr>\n",
              "  </tbody>\n",
              "</table>\n",
              "</div>"
            ],
            "text/plain": [
              "   Recency (months)  ...  whether he/she donated blood in March 2007\n",
              "0                 2  ...                                           1\n",
              "1                 0  ...                                           1\n",
              "2                 1  ...                                           1\n",
              "3                 2  ...                                           1\n",
              "4                 1  ...                                           0\n",
              "\n",
              "[5 rows x 5 columns]"
            ]
          },
          "metadata": {
            "tags": []
          },
          "execution_count": 60
        }
      ]
    },
    {
      "cell_type": "code",
      "metadata": {
        "id": "AN_pbyTgkHS6",
        "colab": {
          "base_uri": "https://localhost:8080/"
        },
        "outputId": "3a771bde-4b00-46be-aac0-4204c2940fa0"
      },
      "source": [
        "attrs2 = df2.keys()[:-1]\n",
        "print(\"The number of samples in the total datasets are {}\\n\".format(df2.shape[0]))\n",
        "X_total2 = df2[attrs2]\n",
        "y_total2 = df2.iloc[:,-1]\n",
        "\n",
        "X_train2, X_test2, y_train2, y_test2 = train_test_split(X_total2, y_total2, test_size = 0.33,random_state = 49)\n",
        "\n",
        "print(\"The number of samples in the training datasets are {}\".format(X_train2.shape[0]))\n",
        "print(\"The number of samples in the testing datasets are {}\".format(X_test2.shape[0]))"
      ],
      "execution_count": 61,
      "outputs": [
        {
          "output_type": "stream",
          "text": [
            "The number of samples in the total datasets are 748\n",
            "\n",
            "The number of samples in the training datasets are 501\n",
            "The number of samples in the testing datasets are 247\n"
          ],
          "name": "stdout"
        }
      ]
    },
    {
      "cell_type": "code",
      "metadata": {
        "id": "-6kwd1jxk2o2"
      },
      "source": [
        "dt2 = TreeC4_5(X_train2,y_train2)\n",
        "dt2.fit()"
      ],
      "execution_count": 62,
      "outputs": []
    },
    {
      "cell_type": "code",
      "metadata": {
        "id": "ip4YtTgilG7I",
        "colab": {
          "base_uri": "https://localhost:8080/"
        },
        "outputId": "33c43c1d-d57d-42f5-a0bf-3e2d5142fdf6"
      },
      "source": [
        "decisions = dt2.predict(X_test2)\n",
        "results = decisions == y_test2\n",
        "accuracy = sum(results) / len(results)\n",
        "print(\"My model's accuracy for the evaluation dataset 1 is: \", accuracy)"
      ],
      "execution_count": 63,
      "outputs": [
        {
          "output_type": "stream",
          "text": [
            "My model's accuracy for the evaluation dataset 1 is:  0.7246963562753036\n"
          ],
          "name": "stdout"
        }
      ]
    },
    {
      "cell_type": "code",
      "metadata": {
        "id": "wnHfhZz_mqZl",
        "colab": {
          "base_uri": "https://localhost:8080/"
        },
        "outputId": "a715e201-8874-4179-df32-2f86c29b13f8"
      },
      "source": [
        "clf2 = tree.DecisionTreeClassifier(criterion=\"entropy\",random_state=35)\n",
        "clf2 = clf2.fit(X_train2,y_train2)\n",
        "decisions = clf2.predict(X_test2)\n",
        "result = [decision == target for decision,target in zip(decisions,y_test2)]\n",
        "accuracy = sum(result)/len(result)\n",
        "print(\"Sklearn model's accuracy for the evaluation dataset 1 is:\",accuracy)"
      ],
      "execution_count": 64,
      "outputs": [
        {
          "output_type": "stream",
          "text": [
            "Sklearn model's accuracy for the evaluation dataset 1 is: 0.728744939271255\n"
          ],
          "name": "stdout"
        }
      ]
    },
    {
      "cell_type": "markdown",
      "metadata": {
        "id": "oDnuLepFrVxD"
      },
      "source": [
        "**Evaluation of dataset 2 - Wine Quality dataset**\n",
        "\n",
        "This dataset has 4898 samples with 12 numerical attributes.\n",
        "\n",
        "I use this dataset to evaluate whether my algorithm can work well with the dataset with multiple attributes.\n",
        "\n",
        "It can be viewed and downloaded from the UCI Machine Learning Repository datasets: https://archive.ics.uci.edu/ml/datasets/wine+quality"
      ]
    },
    {
      "cell_type": "code",
      "metadata": {
        "id": "3sN4wAe8m4c_",
        "colab": {
          "base_uri": "https://localhost:8080/",
          "height": 195
        },
        "outputId": "34b30d13-520c-4e13-84b6-f1c41b6349f2"
      },
      "source": [
        "df3 = pd.read_csv(\"https://raw.githubusercontent.com/ShengHangNB/Decision-Tree-C4.5/master/dataset/winequality-red.csv\")\n",
        "\n",
        "# Here I randomly select 750 samples of the total\n",
        "df3 = df3.sample(n=750, random_state=50, axis=0)\n",
        "\n",
        "def change_target_type(x):\n",
        "  if x > 6.5:\n",
        "    return 'good'\n",
        "\n",
        "  else:\n",
        "    return 'not good'\n",
        "\n",
        "df3.loc[:,\"quality\"] = df3[\"quality\"].apply(change_target_type)\n",
        "df3.head()"
      ],
      "execution_count": 65,
      "outputs": [
        {
          "output_type": "execute_result",
          "data": {
            "text/html": [
              "<div>\n",
              "<style scoped>\n",
              "    .dataframe tbody tr th:only-of-type {\n",
              "        vertical-align: middle;\n",
              "    }\n",
              "\n",
              "    .dataframe tbody tr th {\n",
              "        vertical-align: top;\n",
              "    }\n",
              "\n",
              "    .dataframe thead th {\n",
              "        text-align: right;\n",
              "    }\n",
              "</style>\n",
              "<table border=\"1\" class=\"dataframe\">\n",
              "  <thead>\n",
              "    <tr style=\"text-align: right;\">\n",
              "      <th></th>\n",
              "      <th>fixed acidity</th>\n",
              "      <th>volatile acidity</th>\n",
              "      <th>citric acid</th>\n",
              "      <th>residual sugar</th>\n",
              "      <th>chlorides</th>\n",
              "      <th>free sulfur dioxide</th>\n",
              "      <th>total sulfur dioxide</th>\n",
              "      <th>density</th>\n",
              "      <th>pH</th>\n",
              "      <th>sulphates</th>\n",
              "      <th>alcohol</th>\n",
              "      <th>quality</th>\n",
              "    </tr>\n",
              "  </thead>\n",
              "  <tbody>\n",
              "    <tr>\n",
              "      <th>453</th>\n",
              "      <td>10.4</td>\n",
              "      <td>0.33</td>\n",
              "      <td>0.63</td>\n",
              "      <td>2.8</td>\n",
              "      <td>0.084</td>\n",
              "      <td>5.0</td>\n",
              "      <td>22.0</td>\n",
              "      <td>0.99980</td>\n",
              "      <td>3.26</td>\n",
              "      <td>0.74</td>\n",
              "      <td>11.2</td>\n",
              "      <td>good</td>\n",
              "    </tr>\n",
              "    <tr>\n",
              "      <th>1415</th>\n",
              "      <td>6.2</td>\n",
              "      <td>0.58</td>\n",
              "      <td>0.00</td>\n",
              "      <td>1.6</td>\n",
              "      <td>0.065</td>\n",
              "      <td>8.0</td>\n",
              "      <td>18.0</td>\n",
              "      <td>0.99660</td>\n",
              "      <td>3.56</td>\n",
              "      <td>0.84</td>\n",
              "      <td>9.4</td>\n",
              "      <td>not good</td>\n",
              "    </tr>\n",
              "    <tr>\n",
              "      <th>1242</th>\n",
              "      <td>9.0</td>\n",
              "      <td>0.40</td>\n",
              "      <td>0.41</td>\n",
              "      <td>2.0</td>\n",
              "      <td>0.058</td>\n",
              "      <td>15.0</td>\n",
              "      <td>40.0</td>\n",
              "      <td>0.99414</td>\n",
              "      <td>3.22</td>\n",
              "      <td>0.60</td>\n",
              "      <td>12.2</td>\n",
              "      <td>not good</td>\n",
              "    </tr>\n",
              "    <tr>\n",
              "      <th>885</th>\n",
              "      <td>8.9</td>\n",
              "      <td>0.75</td>\n",
              "      <td>0.14</td>\n",
              "      <td>2.5</td>\n",
              "      <td>0.086</td>\n",
              "      <td>9.0</td>\n",
              "      <td>30.0</td>\n",
              "      <td>0.99824</td>\n",
              "      <td>3.34</td>\n",
              "      <td>0.64</td>\n",
              "      <td>10.5</td>\n",
              "      <td>not good</td>\n",
              "    </tr>\n",
              "    <tr>\n",
              "      <th>488</th>\n",
              "      <td>11.6</td>\n",
              "      <td>0.32</td>\n",
              "      <td>0.55</td>\n",
              "      <td>2.8</td>\n",
              "      <td>0.081</td>\n",
              "      <td>35.0</td>\n",
              "      <td>67.0</td>\n",
              "      <td>1.00020</td>\n",
              "      <td>3.32</td>\n",
              "      <td>0.92</td>\n",
              "      <td>10.8</td>\n",
              "      <td>good</td>\n",
              "    </tr>\n",
              "  </tbody>\n",
              "</table>\n",
              "</div>"
            ],
            "text/plain": [
              "      fixed acidity  volatile acidity  ...  alcohol   quality\n",
              "453            10.4              0.33  ...     11.2      good\n",
              "1415            6.2              0.58  ...      9.4  not good\n",
              "1242            9.0              0.40  ...     12.2  not good\n",
              "885             8.9              0.75  ...     10.5  not good\n",
              "488            11.6              0.32  ...     10.8      good\n",
              "\n",
              "[5 rows x 12 columns]"
            ]
          },
          "metadata": {
            "tags": []
          },
          "execution_count": 65
        }
      ]
    },
    {
      "cell_type": "code",
      "metadata": {
        "id": "hqGqZJ78pMuU",
        "colab": {
          "base_uri": "https://localhost:8080/"
        },
        "outputId": "efae74f0-89a9-4029-ae81-65da207f5aea"
      },
      "source": [
        "attrs3 = df3.keys()[:-1]\n",
        "print(\"The number of samples in the total datasets are {}\\n\".format(df3.shape[0]))\n",
        "X_total3 = df3[attrs3]\n",
        "y_total3 = df3.iloc[:,-1]\n",
        "\n",
        "X_train3, X_test3, y_train3, y_test3 = train_test_split(X_total3, y_total3, test_size = 0.33,random_state = 49)\n",
        "\n",
        "\n",
        "print(\"The number of samples in the training datasets are {}\".format(X_train3.shape[0]))\n",
        "print(\"The number of samples in the testing datasets are {}\".format(X_test3.shape[0]))"
      ],
      "execution_count": 66,
      "outputs": [
        {
          "output_type": "stream",
          "text": [
            "The number of samples in the total datasets are 750\n",
            "\n",
            "The number of samples in the training datasets are 502\n",
            "The number of samples in the testing datasets are 248\n"
          ],
          "name": "stdout"
        }
      ]
    },
    {
      "cell_type": "code",
      "metadata": {
        "id": "oVWgwzOvpd5o"
      },
      "source": [
        "dt3 = TreeC4_5(X_train3,y_train3)\n",
        "dt3.fit()"
      ],
      "execution_count": 67,
      "outputs": []
    },
    {
      "cell_type": "code",
      "metadata": {
        "id": "icL4lqaGpuuD",
        "colab": {
          "base_uri": "https://localhost:8080/"
        },
        "outputId": "8e8eae04-8b31-4e58-ea35-7e75b5d1d752"
      },
      "source": [
        "decisions = dt3.predict(X_test3)\n",
        "results = decisions == y_test3\n",
        "accuracy = sum(results) / len(results)\n",
        "print(\"My model's accuracy for the evaluation dataset 2 is: \", accuracy)"
      ],
      "execution_count": 68,
      "outputs": [
        {
          "output_type": "stream",
          "text": [
            "My model's accuracy for the evaluation dataset 2 is:  0.8467741935483871\n"
          ],
          "name": "stdout"
        }
      ]
    },
    {
      "cell_type": "code",
      "metadata": {
        "id": "_4xpa2vKrK4-",
        "colab": {
          "base_uri": "https://localhost:8080/"
        },
        "outputId": "5513a4b1-2788-43d1-d16c-12bbfbc887c5"
      },
      "source": [
        "clf3 = tree.DecisionTreeClassifier(criterion=\"entropy\",random_state=35)\n",
        "clf3 = clf3.fit(X_train3,y_train3)\n",
        "decisions = clf3.predict(X_test3)\n",
        "result = [decision == target for decision,target in zip(decisions,y_test3)]\n",
        "accuracy = sum(result)/len(result)\n",
        "print(\"Sklearn model's accuracy for the evaluation dataset 2 is:\",accuracy)"
      ],
      "execution_count": 69,
      "outputs": [
        {
          "output_type": "stream",
          "text": [
            "Sklearn model's accuracy for the evaluation dataset 2 is: 0.8266129032258065\n"
          ],
          "name": "stdout"
        }
      ]
    },
    {
      "cell_type": "code",
      "metadata": {
        "id": "Wd4miqe6rTNR"
      },
      "source": [
        ""
      ],
      "execution_count": 69,
      "outputs": []
    }
  ]
}