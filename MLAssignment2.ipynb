{
  "nbformat": 4,
  "nbformat_minor": 0,
  "metadata": {
    "colab": {
      "name": "MLAssignment2.ipynb",
      "provenance": [],
      "collapsed_sections": [],
      "authorship_tag": "ABX9TyPqOLrgBPk7jZNRRFbpl66h",
      "include_colab_link": true
    },
    "kernelspec": {
      "name": "python3",
      "display_name": "Python 3"
    }
  },
  "cells": [
    {
      "cell_type": "markdown",
      "metadata": {
        "id": "view-in-github",
        "colab_type": "text"
      },
      "source": [
        "<a href=\"https://colab.research.google.com/github/ShengHangNB/Datasets/blob/master/MLAssignment2.ipynb\" target=\"_parent\"><img src=\"https://colab.research.google.com/assets/colab-badge.svg\" alt=\"Open In Colab\"/></a>"
      ]
    },
    {
      "cell_type": "markdown",
      "metadata": {
        "id": "sKWuN40coCiO"
      },
      "source": [
        "**Machine Learning Assignment 2 - C4.5 Decision Tree Algorithm**\n",
        "\n",
        "Student name: Hang Sheng       \n",
        "Student number: 13665664\n",
        "\n",
        "GitHub Repository Link: https://github.com/ShengHangNB/Datasets/tree/master\n",
        "\n",
        "This link includes the three datasets I uploaded beforehand and used for this project.\n"
      ]
    },
    {
      "cell_type": "markdown",
      "metadata": {
        "id": "RvcYr39KjqCi"
      },
      "source": [
        "# **Implementation of algorithm**"
      ]
    },
    {
      "cell_type": "markdown",
      "metadata": {
        "id": "bMK6a54JmBN9"
      },
      "source": [
        "## **1. Prepare for the iris dataset**\n",
        "\n",
        "Iris dataset - used for implementating the algorithm\n",
        "\n",
        "This dataset can be viewed and downloaded from the UCI Machine Learning Repository datasets: https://archive.ics.uci.edu/ml/datasets/Iris"
      ]
    },
    {
      "cell_type": "code",
      "metadata": {
        "id": "reuSoT-ZWSDN"
      },
      "source": [
        "# import the libraries that will be used in this assignment\n",
        "import pandas as pd\n",
        "import numpy as np\n",
        "import matplotlib.pyplot as plt\n",
        "from sklearn.model_selection import train_test_split"
      ],
      "execution_count": 61,
      "outputs": []
    },
    {
      "cell_type": "code",
      "metadata": {
        "id": "LgxYpiRYCSfU",
        "outputId": "f8af46ce-6e7e-41c1-b0be-1ddb9f25051d",
        "colab": {
          "base_uri": "https://localhost:8080/",
          "height": 195
        }
      },
      "source": [
        "# Load the csv of the prepared iris datasets which have been uploaded to my github beforehand\n",
        "df = pd.read_csv(\"https://raw.githubusercontent.com/ShengHangNB/Datasets/master/iris.csv\")\n",
        "df.head()"
      ],
      "execution_count": 62,
      "outputs": [
        {
          "output_type": "execute_result",
          "data": {
            "text/html": [
              "<div>\n",
              "<style scoped>\n",
              "    .dataframe tbody tr th:only-of-type {\n",
              "        vertical-align: middle;\n",
              "    }\n",
              "\n",
              "    .dataframe tbody tr th {\n",
              "        vertical-align: top;\n",
              "    }\n",
              "\n",
              "    .dataframe thead th {\n",
              "        text-align: right;\n",
              "    }\n",
              "</style>\n",
              "<table border=\"1\" class=\"dataframe\">\n",
              "  <thead>\n",
              "    <tr style=\"text-align: right;\">\n",
              "      <th></th>\n",
              "      <th>sepal length</th>\n",
              "      <th>sepal width</th>\n",
              "      <th>petal length</th>\n",
              "      <th>petal width</th>\n",
              "      <th>class</th>\n",
              "    </tr>\n",
              "  </thead>\n",
              "  <tbody>\n",
              "    <tr>\n",
              "      <th>0</th>\n",
              "      <td>5.1</td>\n",
              "      <td>3.5</td>\n",
              "      <td>1.4</td>\n",
              "      <td>0.2</td>\n",
              "      <td>Iris-setosa</td>\n",
              "    </tr>\n",
              "    <tr>\n",
              "      <th>1</th>\n",
              "      <td>4.9</td>\n",
              "      <td>3.0</td>\n",
              "      <td>1.4</td>\n",
              "      <td>0.2</td>\n",
              "      <td>Iris-setosa</td>\n",
              "    </tr>\n",
              "    <tr>\n",
              "      <th>2</th>\n",
              "      <td>4.7</td>\n",
              "      <td>3.2</td>\n",
              "      <td>1.3</td>\n",
              "      <td>0.2</td>\n",
              "      <td>Iris-setosa</td>\n",
              "    </tr>\n",
              "    <tr>\n",
              "      <th>3</th>\n",
              "      <td>4.6</td>\n",
              "      <td>3.1</td>\n",
              "      <td>1.5</td>\n",
              "      <td>0.2</td>\n",
              "      <td>Iris-setosa</td>\n",
              "    </tr>\n",
              "    <tr>\n",
              "      <th>4</th>\n",
              "      <td>5.0</td>\n",
              "      <td>3.6</td>\n",
              "      <td>1.4</td>\n",
              "      <td>0.2</td>\n",
              "      <td>Iris-setosa</td>\n",
              "    </tr>\n",
              "  </tbody>\n",
              "</table>\n",
              "</div>"
            ],
            "text/plain": [
              "   sepal length  sepal width  petal length  petal width        class\n",
              "0           5.1          3.5           1.4          0.2  Iris-setosa\n",
              "1           4.9          3.0           1.4          0.2  Iris-setosa\n",
              "2           4.7          3.2           1.3          0.2  Iris-setosa\n",
              "3           4.6          3.1           1.5          0.2  Iris-setosa\n",
              "4           5.0          3.6           1.4          0.2  Iris-setosa"
            ]
          },
          "metadata": {
            "tags": []
          },
          "execution_count": 62
        }
      ]
    },
    {
      "cell_type": "markdown",
      "metadata": {
        "id": "s8BHhuXOnZjI"
      },
      "source": [
        "## **2. Preprocess and preview of the dataset**\n",
        "\n",
        "After loading the csv file of iris dataset, I convert the string type of the target values to numerical type.\n",
        "\n",
        "The numerical type of target values can be helpful for the decision tree performance visulization later."
      ]
    },
    {
      "cell_type": "code",
      "metadata": {
        "id": "KjYGEGJrDcH_",
        "outputId": "b36e7a0f-3ac1-491c-f2aa-d682f26aac67",
        "colab": {
          "base_uri": "https://localhost:8080/",
          "height": 195
        }
      },
      "source": [
        "def change_target_type(x):\n",
        "  '''\n",
        "    convert the string type of the target values to numerical type\n",
        "    in order to visualize the results in the scatter plot later\n",
        "  '''\n",
        "  if x == 'Iris-setosa':\n",
        "    return 0\n",
        "\n",
        "  elif x == 'Iris-versicolor':\n",
        "    return 1\n",
        "  \n",
        "  elif x == 'Iris-virginica':\n",
        "    return 2\n",
        "\n",
        "# use .apply() to apply to the \"class\" column with the defined change_target_type() function\n",
        "# the return columns should be assigned to df.loc[:,\"class\"]\n",
        "# df.loc[:,\"class\"] means all rows and only the \"class\" column\n",
        "df.loc[:,\"class\"] = df[\"class\"].apply(change_target_type)\n",
        "\n",
        "# check the first five rows\n",
        "df.head()"
      ],
      "execution_count": 63,
      "outputs": [
        {
          "output_type": "execute_result",
          "data": {
            "text/html": [
              "<div>\n",
              "<style scoped>\n",
              "    .dataframe tbody tr th:only-of-type {\n",
              "        vertical-align: middle;\n",
              "    }\n",
              "\n",
              "    .dataframe tbody tr th {\n",
              "        vertical-align: top;\n",
              "    }\n",
              "\n",
              "    .dataframe thead th {\n",
              "        text-align: right;\n",
              "    }\n",
              "</style>\n",
              "<table border=\"1\" class=\"dataframe\">\n",
              "  <thead>\n",
              "    <tr style=\"text-align: right;\">\n",
              "      <th></th>\n",
              "      <th>sepal length</th>\n",
              "      <th>sepal width</th>\n",
              "      <th>petal length</th>\n",
              "      <th>petal width</th>\n",
              "      <th>class</th>\n",
              "    </tr>\n",
              "  </thead>\n",
              "  <tbody>\n",
              "    <tr>\n",
              "      <th>0</th>\n",
              "      <td>5.1</td>\n",
              "      <td>3.5</td>\n",
              "      <td>1.4</td>\n",
              "      <td>0.2</td>\n",
              "      <td>0</td>\n",
              "    </tr>\n",
              "    <tr>\n",
              "      <th>1</th>\n",
              "      <td>4.9</td>\n",
              "      <td>3.0</td>\n",
              "      <td>1.4</td>\n",
              "      <td>0.2</td>\n",
              "      <td>0</td>\n",
              "    </tr>\n",
              "    <tr>\n",
              "      <th>2</th>\n",
              "      <td>4.7</td>\n",
              "      <td>3.2</td>\n",
              "      <td>1.3</td>\n",
              "      <td>0.2</td>\n",
              "      <td>0</td>\n",
              "    </tr>\n",
              "    <tr>\n",
              "      <th>3</th>\n",
              "      <td>4.6</td>\n",
              "      <td>3.1</td>\n",
              "      <td>1.5</td>\n",
              "      <td>0.2</td>\n",
              "      <td>0</td>\n",
              "    </tr>\n",
              "    <tr>\n",
              "      <th>4</th>\n",
              "      <td>5.0</td>\n",
              "      <td>3.6</td>\n",
              "      <td>1.4</td>\n",
              "      <td>0.2</td>\n",
              "      <td>0</td>\n",
              "    </tr>\n",
              "  </tbody>\n",
              "</table>\n",
              "</div>"
            ],
            "text/plain": [
              "   sepal length  sepal width  petal length  petal width  class\n",
              "0           5.1          3.5           1.4          0.2      0\n",
              "1           4.9          3.0           1.4          0.2      0\n",
              "2           4.7          3.2           1.3          0.2      0\n",
              "3           4.6          3.1           1.5          0.2      0\n",
              "4           5.0          3.6           1.4          0.2      0"
            ]
          },
          "metadata": {
            "tags": []
          },
          "execution_count": 63
        }
      ]
    },
    {
      "cell_type": "markdown",
      "metadata": {
        "id": "SlFubJpCn5dH"
      },
      "source": [
        "Check whether thare are some null values for each attribute"
      ]
    },
    {
      "cell_type": "code",
      "metadata": {
        "id": "SCcxiXgun2-K",
        "outputId": "a0b61c79-cf6a-4bb2-ef98-29341dc1c924",
        "colab": {
          "base_uri": "https://localhost:8080/",
          "height": 118
        }
      },
      "source": [
        "df.isnull().any()"
      ],
      "execution_count": 64,
      "outputs": [
        {
          "output_type": "execute_result",
          "data": {
            "text/plain": [
              "sepal length    False\n",
              "sepal width     False\n",
              "petal length    False\n",
              "petal width     False\n",
              "class           False\n",
              "dtype: bool"
            ]
          },
          "metadata": {
            "tags": []
          },
          "execution_count": 64
        }
      ]
    },
    {
      "cell_type": "markdown",
      "metadata": {
        "id": "9aiOPj_9oIFC"
      },
      "source": [
        "Check the data type and non-null count values for each attribute"
      ]
    },
    {
      "cell_type": "code",
      "metadata": {
        "id": "KNtdsVb4_0qq",
        "outputId": "bd85c377-2e56-464e-dc62-abaa7b87f908",
        "colab": {
          "base_uri": "https://localhost:8080/",
          "height": 218
        }
      },
      "source": [
        "df.info()"
      ],
      "execution_count": 65,
      "outputs": [
        {
          "output_type": "stream",
          "text": [
            "<class 'pandas.core.frame.DataFrame'>\n",
            "RangeIndex: 150 entries, 0 to 149\n",
            "Data columns (total 5 columns):\n",
            " #   Column        Non-Null Count  Dtype  \n",
            "---  ------        --------------  -----  \n",
            " 0   sepal length  150 non-null    float64\n",
            " 1   sepal width   150 non-null    float64\n",
            " 2   petal length  150 non-null    float64\n",
            " 3   petal width   150 non-null    float64\n",
            " 4   class         150 non-null    int64  \n",
            "dtypes: float64(4), int64(1)\n",
            "memory usage: 6.0 KB\n"
          ],
          "name": "stdout"
        }
      ]
    },
    {
      "cell_type": "markdown",
      "metadata": {
        "id": "WLh_rbX3oKwv"
      },
      "source": [
        "View the statistics for all numerical attributes in a table\n",
        "\n",
        "For each numerical data, the calculated statistical results will include count, mean, standard deviation, minimum, maximum, and 25th percentile, 50th percentile and 75th percentile.\n",
        "\n",
        "The values of \"sepal length\" range from 4.3 to 7.9\n",
        "\n",
        "The values of \"sepal width\" range from 2.0 to 4.4\n",
        "\n",
        "The values of \"petal length\" range from 1.0 to 6.9\n",
        "\n",
        "The values of \"petal width\" range from 0.1 to 2.5"
      ]
    },
    {
      "cell_type": "code",
      "metadata": {
        "id": "RCA0xqVo_3A0",
        "outputId": "ff9a7cdb-2b41-4c99-a95a-5b720fa4da34",
        "colab": {
          "base_uri": "https://localhost:8080/",
          "height": 284
        }
      },
      "source": [
        "df.describe()"
      ],
      "execution_count": 66,
      "outputs": [
        {
          "output_type": "execute_result",
          "data": {
            "text/html": [
              "<div>\n",
              "<style scoped>\n",
              "    .dataframe tbody tr th:only-of-type {\n",
              "        vertical-align: middle;\n",
              "    }\n",
              "\n",
              "    .dataframe tbody tr th {\n",
              "        vertical-align: top;\n",
              "    }\n",
              "\n",
              "    .dataframe thead th {\n",
              "        text-align: right;\n",
              "    }\n",
              "</style>\n",
              "<table border=\"1\" class=\"dataframe\">\n",
              "  <thead>\n",
              "    <tr style=\"text-align: right;\">\n",
              "      <th></th>\n",
              "      <th>sepal length</th>\n",
              "      <th>sepal width</th>\n",
              "      <th>petal length</th>\n",
              "      <th>petal width</th>\n",
              "      <th>class</th>\n",
              "    </tr>\n",
              "  </thead>\n",
              "  <tbody>\n",
              "    <tr>\n",
              "      <th>count</th>\n",
              "      <td>150.000000</td>\n",
              "      <td>150.000000</td>\n",
              "      <td>150.000000</td>\n",
              "      <td>150.000000</td>\n",
              "      <td>150.000000</td>\n",
              "    </tr>\n",
              "    <tr>\n",
              "      <th>mean</th>\n",
              "      <td>5.843333</td>\n",
              "      <td>3.054000</td>\n",
              "      <td>3.758667</td>\n",
              "      <td>1.198667</td>\n",
              "      <td>1.000000</td>\n",
              "    </tr>\n",
              "    <tr>\n",
              "      <th>std</th>\n",
              "      <td>0.828066</td>\n",
              "      <td>0.433594</td>\n",
              "      <td>1.764420</td>\n",
              "      <td>0.763161</td>\n",
              "      <td>0.819232</td>\n",
              "    </tr>\n",
              "    <tr>\n",
              "      <th>min</th>\n",
              "      <td>4.300000</td>\n",
              "      <td>2.000000</td>\n",
              "      <td>1.000000</td>\n",
              "      <td>0.100000</td>\n",
              "      <td>0.000000</td>\n",
              "    </tr>\n",
              "    <tr>\n",
              "      <th>25%</th>\n",
              "      <td>5.100000</td>\n",
              "      <td>2.800000</td>\n",
              "      <td>1.600000</td>\n",
              "      <td>0.300000</td>\n",
              "      <td>0.000000</td>\n",
              "    </tr>\n",
              "    <tr>\n",
              "      <th>50%</th>\n",
              "      <td>5.800000</td>\n",
              "      <td>3.000000</td>\n",
              "      <td>4.350000</td>\n",
              "      <td>1.300000</td>\n",
              "      <td>1.000000</td>\n",
              "    </tr>\n",
              "    <tr>\n",
              "      <th>75%</th>\n",
              "      <td>6.400000</td>\n",
              "      <td>3.300000</td>\n",
              "      <td>5.100000</td>\n",
              "      <td>1.800000</td>\n",
              "      <td>2.000000</td>\n",
              "    </tr>\n",
              "    <tr>\n",
              "      <th>max</th>\n",
              "      <td>7.900000</td>\n",
              "      <td>4.400000</td>\n",
              "      <td>6.900000</td>\n",
              "      <td>2.500000</td>\n",
              "      <td>2.000000</td>\n",
              "    </tr>\n",
              "  </tbody>\n",
              "</table>\n",
              "</div>"
            ],
            "text/plain": [
              "       sepal length  sepal width  petal length  petal width       class\n",
              "count    150.000000   150.000000    150.000000   150.000000  150.000000\n",
              "mean       5.843333     3.054000      3.758667     1.198667    1.000000\n",
              "std        0.828066     0.433594      1.764420     0.763161    0.819232\n",
              "min        4.300000     2.000000      1.000000     0.100000    0.000000\n",
              "25%        5.100000     2.800000      1.600000     0.300000    0.000000\n",
              "50%        5.800000     3.000000      4.350000     1.300000    1.000000\n",
              "75%        6.400000     3.300000      5.100000     1.800000    2.000000\n",
              "max        7.900000     4.400000      6.900000     2.500000    2.000000"
            ]
          },
          "metadata": {
            "tags": []
          },
          "execution_count": 66
        }
      ]
    },
    {
      "cell_type": "markdown",
      "metadata": {
        "id": "RahvXXSFpqEu"
      },
      "source": [
        "## **3. Division of the dataset**\n",
        "\n",
        "In this part I split the whole datasets into two sub-datasets:\n",
        "\n",
        "1.   The attributes datasets X_total (DataFrame type) \n",
        "2.   The target datasets y_total (Series type)\n",
        "\n",
        "Then I use the **train_test_split** function, set the **test_size = 0.33** to split X_total and y_total datasets, the sub-datasets are as followings:\n",
        "\n",
        "1.   X_train: accounts for 67% of the attributes datasets X_total\n",
        "2.   X_test: accounts for 33% of the attributes datasets X_total\n",
        "3.   y_train: accounts for 67% of the target datasets y_total\n",
        "4.   y_test: accounts for 33% of the target datasets y_total\n",
        "\n"
      ]
    },
    {
      "cell_type": "code",
      "metadata": {
        "id": "lmHSMxnC_7zU",
        "outputId": "3308b0e7-f3fc-4385-e214-8fbb06906152",
        "colab": {
          "base_uri": "https://localhost:8080/",
          "height": 84
        }
      },
      "source": [
        "# get the attributes by using the df.keys() functions,\n",
        "# then extract all the attributes except for the target name by using the slice method df.keys()[:-1]\n",
        "attrs = df.keys()[:-1]\n",
        "\n",
        "# split the datasets into the attributes datasets X_total (DataFrame type) and target datasets y_total (Series type)\n",
        "print(\"The number of samples in the total datasets are {}\\n\".format(df.shape[0]))\n",
        "X_total = df[attrs]\n",
        "y_total = df.iloc[:,-1]\n",
        "\n",
        "# Set the random_state = 48 (random seed) to guarantee that my split will be always the same\n",
        "X_train, X_test, y_train, y_test = train_test_split(X_total, y_total, test_size = 0.33,random_state = 48)\n",
        "\n",
        "\n",
        "print(\"The number of samples in the training datasets are {}\".format(X_train.shape[0]))\n",
        "print(\"The number of samples in the testing datasets are {}\".format(X_test.shape[0]))"
      ],
      "execution_count": 67,
      "outputs": [
        {
          "output_type": "stream",
          "text": [
            "The number of samples in the total datasets are 150\n",
            "\n",
            "The number of samples in the training datasets are 100\n",
            "The number of samples in the testing datasets are 50\n"
          ],
          "name": "stdout"
        }
      ]
    },
    {
      "cell_type": "markdown",
      "metadata": {
        "id": "Gi-HsRUklI-1"
      },
      "source": [
        "## **4. Define my tool class**\n",
        "\n",
        "In this part I define a tool class named \"Myutils\" that will be used in subsequent c4.5 decision tree construction\n",
        "\n",
        "Here are the brief description of the function in this class:\n",
        "\n",
        "\n",
        "1.   get_split_pointSet(): Discretize continuous attributes through the dichotomy\n",
        "2.   get_discrete_variables(): Convert continuous variables through the split point into categorical variables \n",
        "3.   compute_entropy(): calculate the information entropy\n",
        "4.   compute_info_gain_ratio(): Calculate the information gain ratio of the specified attribute for a continuous variable\n"
      ]
    },
    {
      "cell_type": "code",
      "metadata": {
        "id": "S8jYKtIXeURl"
      },
      "source": [
        "class Myutils:\n",
        "  def get_split_pointSet(self,attr_series):\n",
        "    '''\n",
        "    Discretize continuous attributes through the dichotomy\n",
        "\n",
        "    Parameters:\n",
        "      attr_series (Series type) : The value of an attribute column passed in \n",
        "\n",
        "    return value：The array with all division points\n",
        "    '''\n",
        "\n",
        "    # use the .unique() functioon to get the unique values from the input\n",
        "    # the .unique() function can automatically sort the array when recalling\n",
        "    unique_values = np.unique(attr_series)\n",
        "\n",
        "    # use the list comprehension to calculate the arithmetic mean between two points in unique_values\n",
        "    result = [(unique_values[i] + unique_values[i+1]) / 2  for i in range(len(unique_values)-1)]\n",
        "\n",
        "    return np.unique(result)\n",
        "    \n",
        "  def get_discrete_variables(self,X,attr,split_point):\n",
        "    '''\n",
        "    Convert continuous variables through the split point into categorical variables \n",
        "    which greater than the split point or smaller than the split point\n",
        "\n",
        "    Parameters:\n",
        "      X (DataFrame type) : The passed in datasets \n",
        "      attr (String type) : used to select the related attribute column \n",
        "      split_point (float type) : Divided/split point \n",
        "\n",
        "    return value: the new column with categorical variables \n",
        "    '''\n",
        "\n",
        "    # make the sequence of scalars in bins_to_cut list\n",
        "    bins_to_cut = [min(X[attr]),split_point,max(X[attr])]\n",
        "\n",
        "    # Specifies the labels for the returned bins in labels_to_cut list\n",
        "    labels_to_cut = [attr + ' < ' + str(split_point), attr + ' > ' + str(split_point)]\n",
        "\n",
        "    # use .cut() function to get the categorical variables column, left-include the first interval\n",
        "    categorized_column = pd.cut(X[attr], bins= bins_to_cut , labels = labels_to_cut, include_lowest=True)\n",
        "    return categorized_column\n",
        "\n",
        "  def compute_entropy(self,y):\n",
        "    '''\n",
        "    calculate the information entropy \n",
        "\n",
        "    Parameters:\n",
        "      y (Series type): the target values passed in \n",
        "\n",
        "    return value: 0.0 or calculated information entropy\n",
        "    '''\n",
        "    \n",
        "    # if the length of y less than 2, it means there are no more uncertainty\n",
        "    # in this case, the entropy is 0.0\n",
        "    if len(y) < 2:\n",
        "      return 0.0\n",
        "    \n",
        "    # if the unique values in y are less than 2, it means that all sampls have the same feature values\n",
        "    # in this case, the entropy is 0.0\n",
        "    if len(np.unique(y)) < 2:\n",
        "      return 0.0\n",
        "\n",
        "    # calculate the counts of value in y series, the normalize =True means the counts are presented as the frequency\n",
        "    freq = y.value_counts(normalize=True)\n",
        "\n",
        "    # To check whether there is a frequency that is 0.0 before the log calculation\n",
        "    if (freq == 0).any():\n",
        "      # Use the boolean mask to filter the frequency that is 0.0\n",
        "      freq = freq[freq != 0]\n",
        "      return -(freq * np.log2(freq + 1e-6)).sum()\n",
        "\n",
        "    else:\n",
        "      return -(freq * np.log2(freq + 1e-6)).sum()\n",
        "\n",
        "  def compute_info_gain_ratio(self,X,y,attr,split_point_list):\n",
        "    '''\n",
        "    Calculate the information gain ratio of the specified attribute for a continuous variable\n",
        "    \n",
        "    Parameters:\n",
        "      X (DataFrame type): Datasets with the attributes values\n",
        "      y (Series type): Datasets with the target values \n",
        "      attr (String type): The attribute for calculating the information gain rate \n",
        "      split_point_lst (numpy.array type): Divided points array\n",
        "\n",
        "    return values: Result of the calculate information gain ratio, and the best split point of float type     \n",
        "    '''\n",
        "\n",
        "    # Define the variables best_split_point, best_info_gain, split_entropy\n",
        "    best_split_point = 0.0\n",
        "    best_info_gain = 0.0\n",
        "    split_entropy = 0.0\n",
        "\n",
        "    # if the length of the split_point_list is 0, it means there are no split point\n",
        "    # further more, there is no need to consider this attribute\n",
        "    # so the result could be 0.0 and None\n",
        "    if len(split_point_list) == 0:\n",
        "      return 0.0, None\n",
        "\n",
        "    else:\n",
        "      # use the for loop to calculate the best information gain and best split point\n",
        "      for split_point in split_point_list:\n",
        "\n",
        "        # Divide the X datasets to the sub-datasets that the values are lower than the split point \n",
        "        lower_index_boolean = X[attr] < split_point\n",
        "        lower_X = X[lower_index_boolean]\n",
        "        lower_y = y[lower_index_boolean]\n",
        "\n",
        "        # Divide the X datasets to the sub-datasets that the values are higher than the split point\n",
        "        upper_index_boolean = X[attr] > split_point\n",
        "        upper_X = X[upper_index_boolean]\n",
        "        upper_y = y[upper_index_boolean]\n",
        "        \n",
        "        # compute the entropy of target values\n",
        "        Ent_D = self.compute_entropy(y)\n",
        "        \n",
        "        # Calculate the probability of these two sub-data sets occupying the total data set separately\n",
        "        lower_p = len(lower_X) / len(X)\n",
        "        upper_p = len(upper_X) / len(X)\n",
        "\n",
        "        # compute the entropy of the sub-datasets that all the values are lower than the split point\n",
        "        lowersets_entropy = lower_p * self.compute_entropy(lower_y)\n",
        "\n",
        "        # compute the entropy of the sub-datasets that all the values are higher than the split point\n",
        "        uppersets_entropy = upper_p * self.compute_entropy(upper_y)   \n",
        "        \n",
        "        # compute the information gain for this split point\n",
        "        info_gain = Ent_D - (lowersets_entropy + uppersets_entropy)\n",
        "\n",
        "        # get the categorical values for these numerical values lower or higher than the split point \n",
        "        categorized_column = self.get_discrete_variables(X,attr,split_point)\n",
        "\n",
        "        # computer the split information entropy\n",
        "        split_entropy = self.compute_entropy(categorized_column)\n",
        "\n",
        "        # select the best information gain and best split point\n",
        "        if info_gain > best_info_gain:\n",
        "          best_info_gain = info_gain\n",
        "          best_split_point = split_point\n",
        "\n",
        "      # use the best information gain to compute the information gain ratio\n",
        "      info_gain_ratio = best_info_gain / split_entropy if split_entropy != 0 else best_info_gain\n",
        "      return info_gain_ratio, best_split_point\n"
      ],
      "execution_count": 68,
      "outputs": []
    },
    {
      "cell_type": "code",
      "metadata": {
        "id": "rxlzZun4eW0k"
      },
      "source": [
        "# Instantiate an object of Myutils class to prepare for the subsequent c4.5 decision tree construction\n",
        "utils = Myutils()"
      ],
      "execution_count": 69,
      "outputs": []
    },
    {
      "cell_type": "markdown",
      "metadata": {
        "id": "IG48YrVk7Tkp"
      },
      "source": [
        "## **5. Define 2 object-oriented classes to construct the decision tree**\n",
        "\n",
        "1. TreeNode:\n",
        "\n",
        "  This class is mainly used to **generate the tree node** and **print the node's details** recursively. \n",
        "  \n",
        "  The brief description of the two functions in this class are:\n",
        "  \n",
        "  make(): split the attribute according to the C4.5 algorithm and generate the child node by the value of split attribute.\n",
        "  \n",
        "  print_node_details(): print the information details of each node, this function is used to help me understand the tree structure and draw the decision tree structure later.\n",
        "\n",
        "\n",
        "\n",
        "2. TreeC4_5:\n",
        "\n",
        "  This class is mainly **generates the root tree node**, **fit the decision tree model** and **make predictions** by the fitted model.\n",
        "\n",
        "  The brief description of the three functions in this class are:\n",
        "\n",
        "  fit(): fit the model by recall the make() function in the root node\n",
        "\n",
        "  make_decision(): predict the decision for each sample in the fitted model\n",
        "\n",
        "  predict(): passed in the testing datasets and predict the sample one by one, then return the list of decisions for each sample.\n",
        "  "
      ]
    },
    {
      "cell_type": "code",
      "metadata": {
        "id": "UbBH2Rb-AMqC"
      },
      "source": [
        "class TreeNode:\n",
        "  '''\n",
        "  Construct the entire tree by recursive algorithm\n",
        "  '''\n",
        "  def __init__(self,X,y, node_name=\"\", default_decision=None):\n",
        "    self.X = X # Passed in attributes datasets \n",
        "    self.y = y # Passed in target datasets\n",
        "    self.name = node_name \n",
        "    self.default_decision = default_decision # decision from parent node\n",
        "    self.decision = None\n",
        "    self.entropy = 0.0 # record this node's information entropy\n",
        "    self.attrs_info_gain_ratio = {} # record the attriubte with its info gain ratio in dictionary structure\n",
        "    self.split_point = 0.0 # record the best split point\n",
        "    self.split_attr = None # record the best split attribute\n",
        "    self.split_point_info = [] # store the best split point list, best_split_point, its split attribute and max info gain ratio in this list\n",
        "    self.children = {} # store the child node in dictionary structure\n",
        "\n",
        "  def make(self):\n",
        "    # use the mode of target datasets to determine the default decision\n",
        "    # After the root node, the children node should have the default decision passed by their parent node\n",
        "    if self.default_decision is None:\n",
        "      self.default_decision = self.y.mode()[0]\n",
        "\n",
        "    # if there are no data in datasets, use the default decision passed by parent node to determine the decision \n",
        "    if len(self.X) == 0:\n",
        "      self.decision = self.default_decision\n",
        "      return\n",
        "\n",
        "    else:\n",
        "      # use c4.5 algorithm to split the attribute below\n",
        "\n",
        "      # calculate the information entropy of based on the current target values\n",
        "      self.entropy = utils.compute_entropy(self.y)\n",
        "      # if there is only one type of target values, determine the decision by this value \n",
        "      target_unique_values = self.y.unique()\n",
        "      if len(target_unique_values) == 1:\n",
        "        self.decision = target_unique_values[0]\n",
        "        return\n",
        "\n",
        "      else:\n",
        "        # initialize the value of max information gain ratio, best split point and best split point list\n",
        "        max_infoGain_ratio = 0.0\n",
        "        best_split_point = 0.0\n",
        "        best_split_point_list = []\n",
        "        for attr in self.X.keys():\n",
        "          # get the split point set of this attribute\n",
        "          split_point_list = utils.get_split_pointSet(self.X[attr])\n",
        "          if len(split_point_list) == 0:\n",
        "            # No split point here, which means that this attribute column has only one type of value\n",
        "            continue\n",
        "\n",
        "          else:\n",
        "            # calculate the information gain ratio and splitted point of each attribute\n",
        "            infoGain_ratio,splited_point = utils.compute_info_gain_ratio(self.X, self.y, attr, split_point_list)\n",
        "            # store each attribute and its information gain ratio in the dictionary\n",
        "            self.attrs_info_gain_ratio[attr] = infoGain_ratio\n",
        "\n",
        "            # select the max information gain ratio\n",
        "            if infoGain_ratio > max_infoGain_ratio:\n",
        "              max_infoGain_ratio = infoGain_ratio\n",
        "              self.split_attr = attr\n",
        "              best_split_point_list = split_point_list\n",
        "              best_split_point = splited_point\n",
        "\n",
        "        # append the best split point list, best_split_point, its split attribute and max info gain ratio to split_point_info list\n",
        "        self.split_point_info.append(list(best_split_point_list))\n",
        "        self.split_point_info.append([best_split_point,self.split_attr,max_infoGain_ratio])\n",
        "        self.split_point = best_split_point\n",
        "\n",
        "        # if there exists a split point, the tree could be split into the child node\n",
        "        if self.split_point != 0.0:\n",
        "          # make a copy of attributes datasets to allow to add a new column\n",
        "          X_copy = self.X.copy()\n",
        "\n",
        "          # define the name of the new column, and then add it to the X_copy\n",
        "          discrete_class = self.split_attr + '-group'\n",
        "          X_copy.loc[:,discrete_class] = utils.get_discrete_variables(X_copy,self.split_attr,self.split_point)\n",
        "          \n",
        "          # create a child node by the categorical values, such as \"petal length\" < 2.45 or \"petal length\" > 2.45\n",
        "          for value in X_copy[discrete_class].unique():\n",
        "            index_boolean = X_copy[discrete_class] == value\n",
        "            self.children[value] = TreeNode(\n",
        "                              self.X[index_boolean],\n",
        "                              self.y[index_boolean],\n",
        "                              node_name = value,\n",
        "                              default_decision=self.default_decision,)\n",
        "            # recursively generate the node until reaching the leaf node\n",
        "            self.children[value].make()\n",
        "        \n",
        "        else:\n",
        "          '''\n",
        "          Two issuese may happend if split_point is None\n",
        "          case1: \n",
        "          Only one mode means that when attribute values are the same, the frequency of the target value is different.\n",
        "          For example, if the first target value appears once and the second target value appears three times, \n",
        "          then the target value that appears three times wins and can be selected as the decision\n",
        "\n",
        "          case2:\n",
        "          if the mode is more than one, it means when the attribute values are the same, the frequency of the target value is identical.\n",
        "          For example, if the first target value appears once and the second target value appears once\n",
        "          then it is hard to make a decision.\n",
        "          This case issue will happen in the tree construction of the first evaluation dataset later.\n",
        "          '''\n",
        "          # assign the mode of target values to the y_mode variable\n",
        "          y_mode = self.y.mode()\n",
        "\n",
        "\n",
        "          if len(y_mode) == 1:\n",
        "            better_decision = y_mode[0]\n",
        "            self.decision = better_decision   \n",
        "            print(\"Issue happens!\")\n",
        "            print(\"The attribute values are the same, and the frequency of the target values is different.\")\n",
        "            print(\"Input values: \")\n",
        "            print(self.X)\n",
        "            print(\"Target values: \")\n",
        "            print(self.y)\n",
        "            print(\"Using the majority voting method to make a better decision -> \", self.decision)\n",
        "            print(\"------------------------------------------------------------------------------------------------------------\")         \n",
        "\n",
        "          else:\n",
        "            decision = y_mode[0]\n",
        "            self.decision = decision\n",
        "            print(\"Issue happens!\")\n",
        "            print(\"The attribute values are the same, but the frequency of the target values is identical\")\n",
        "            print(\"Input values: \")\n",
        "            print(self.X)\n",
        "            print(\"Target values: \")\n",
        "            print(self.y)\n",
        "            print(\"Just make a decision -> \", self.decision)\n",
        "            print(\"------------------------------------------------------------------------------------------------------------\")\n",
        "          return\n",
        "\n",
        "  def print_node_details(self):\n",
        "    '''\n",
        "    To print the details of each node, the output for each node will be:\n",
        "      1. (First view of the node / Back to the node) : node name\n",
        "      2. number of samples in this node\n",
        "      3. The counts of y values\n",
        "      4. The information entropy in this node\n",
        "      5. every attributes with its information gain ratio\n",
        "      6. The details of the splitted point\n",
        "      7. The node name of the child node.\n",
        "    \n",
        "    if the node is the leaf node, the output will be:\n",
        "      1. The node name\n",
        "      2. The information entropy\n",
        "      3. The determined decision \n",
        "    '''\n",
        "    # intialize the time\n",
        "    time = 1\n",
        "\n",
        "    if self.split_attr is not None:\n",
        "      for k,v in self.children.items():\n",
        "        if len(self.split_point_info) != 0:\n",
        "          # this if-else clause is to output it is the first time or the second time to view this node\n",
        "          # if it is the second time to view the node, output \"Back to the node\"\n",
        "          if time != 1:\n",
        "            print(\"Back to the node: \",self.name)\n",
        "          else:\n",
        "            print(\"First view of the node: \",self.name)\n",
        "\n",
        "          print(\"The number of the samples in this node is: \", len(self.X))\n",
        "          print(self.y.value_counts())\n",
        "          print(\"The Entropy is: {}\\n\".format(self.entropy))\n",
        "          for i,j in self.attrs_info_gain_ratio.items():          \n",
        "            print(\"{}'s information gain ratio is: {}\".format(i,j))\n",
        "\n",
        "          print(\"\\nSplited by {}, its information gain ratio is {}, its splited points list is:\\n {}\".format(self.split_point_info[1][1],self.split_point_info[1][2],self.split_point_info[0]))\n",
        "          print(\"Among these splited points, the best splited point is {}\".format(self.split_point_info[1][0]))\n",
        "          print(\"The child node is: {}\".format(k))\n",
        "          print('--------------------------------------------------------------------')\n",
        "          time += 1\n",
        "          v.print_node_details()\n",
        "          \n",
        "             \n",
        "    else:\n",
        "      time += 1\n",
        "      print(\"This node is: {}, it is a leaf node\".format(self.name))\n",
        "      print(self.y.value_counts())\n",
        "      print(\"The Entropy is: {}\\n\".format(self.entropy))\n",
        "      print(\"The number of samples is: \", len(self.X))\n",
        "      print(\"Determining the decision -> \",self.decision)\n",
        "      print('--------------------------------------------------------------------')"
      ],
      "execution_count": 70,
      "outputs": []
    },
    {
      "cell_type": "code",
      "metadata": {
        "id": "Axt8RW7rTJa5"
      },
      "source": [
        "class TreeC4_5:\n",
        "  def __init__(self,X,y):\n",
        "    # initiate the root node when instantiating an object of this class\n",
        "    self.root = TreeNode(X,y, node_name=\"Root node\")\n",
        "\n",
        "  def fit(self):\n",
        "    # fit the tree model\n",
        "    self.root.make()\n",
        "\n",
        "  def predict(self,samples):\n",
        "    '''\n",
        "    make the predictions based on the fitted model.\n",
        "\n",
        "    Parameters:\n",
        "      samples (DataFrame type): The testing datasets\n",
        "\n",
        "    return value: the predictions array\n",
        "    '''\n",
        "    # create a prediction list to store the prediction\n",
        "    prediction_list = []\n",
        "\n",
        "    # make the prediction for each sample one by one in the testing datasets\n",
        "    for sample_index in range(len(samples)):\n",
        "      # use .iloc[index] to get the sample by the index\n",
        "      sample = samples.iloc[sample_index]\n",
        "\n",
        "      # make the prediction for the sample\n",
        "      prediction = self.make_prediction(sample)\n",
        "\n",
        "      # append the prediction to the prediction list\n",
        "      prediction_list.append(prediction)\n",
        "    return np.array(prediction_list)\n",
        "\n",
        "  def make_prediction(self,sample):\n",
        "    '''\n",
        "    make a prediction for one sample\n",
        "\n",
        "    Parameters:\n",
        "      sample(Series type): one row of the testing datasets \n",
        "\n",
        "    return value: prediciton result\n",
        "    '''\n",
        "    current_node = self.root\n",
        "    while current_node.decision is None:\n",
        "\n",
        "      # get the attribute to split in the current node\n",
        "      attribute_to_split = current_node.split_attr\n",
        "\n",
        "      # get the value for this attribute in sample \n",
        "      attribute_value = sample[attribute_to_split]\n",
        "      \n",
        "      # choose the next attribute that the node should move based on the value is higher or lower than the split point\n",
        "      if attribute_value > current_node.split_point:\n",
        "        next_attr = current_node.split_attr + ' > ' + str(current_node.split_point)\n",
        "      \n",
        "      else:\n",
        "        next_attr = current_node.split_attr + ' < ' + str(current_node.split_point)\n",
        "          \n",
        "      current_node = current_node.children[next_attr]\n",
        "\n",
        "    # when decision found in the node, return this decision as the prediction\n",
        "    return current_node.decision"
      ],
      "execution_count": 71,
      "outputs": []
    },
    {
      "cell_type": "markdown",
      "metadata": {
        "id": "DfFs3gOCgZWT"
      },
      "source": [
        "# **Evaluation** #"
      ]
    },
    {
      "cell_type": "markdown",
      "metadata": {
        "id": "OzhNJuQ5HY3A"
      },
      "source": [
        "## **1. Accuracy and error rate**\n",
        "\n",
        "In this part I use the training datasets X_train and y_train to train the model.\n",
        "\n",
        "Then calculate the accuracy by the testing datasets X_test and y_test."
      ]
    },
    {
      "cell_type": "code",
      "metadata": {
        "id": "axVJ-bjJAVrr",
        "outputId": "d39872f7-6767-43dc-c180-8e07d0b975f3",
        "colab": {
          "base_uri": "https://localhost:8080/",
          "height": 34
        }
      },
      "source": [
        "dtc4_5 = TreeC4_5(X_train,y_train)\n",
        "dtc4_5.fit()\n",
        "\n",
        "decisions = dtc4_5.predict(X_test)\n",
        "\n",
        "# got the boolean result that whther the prediction is true of false\n",
        "results = decisions == y_test\n",
        "\n",
        "# calculate the accuracy and output\n",
        "accuracy = sum(results) / len(results)\n",
        "print(\"My model's accuracy for the iris dataset is: \", accuracy)"
      ],
      "execution_count": 72,
      "outputs": [
        {
          "output_type": "stream",
          "text": [
            "My model's accuracy for the iris dataset is:  0.96\n"
          ],
          "name": "stdout"
        }
      ]
    },
    {
      "cell_type": "markdown",
      "metadata": {
        "id": "Tj6g_yYQJS9w"
      },
      "source": [
        "Then I calculate the in sample error and out of sample errors rate by make another 10 experiments\n",
        "\n",
        "Each experiment I split the total datasets to 67% of training dataset and 33% of validation datasets."
      ]
    },
    {
      "cell_type": "code",
      "metadata": {
        "id": "qRYFgiC3LvQ4",
        "outputId": "c013d7c8-3ee6-48f5-aea5-2381e1bcc641",
        "colab": {
          "base_uri": "https://localhost:8080/",
          "height": 50
        }
      },
      "source": [
        "# define the list in_errs and out_errs to store the result of in_errs and out_errs in each experiment\n",
        "in_errs = []\n",
        "out_errs = []\n",
        "\n",
        "# define the size of training datasets\n",
        "train_size = 0.67\n",
        "\n",
        "# Considering the time comsuming, I make 10 experiments here\n",
        "for random_seed in range(10):\n",
        "    # Randomly split training/test data, use the random seed from 0 to 9\n",
        "    X_trn, X_val, y_trn, y_val = train_test_split(\n",
        "        X_total, y_total, train_size=train_size, random_state=random_seed)\n",
        "    \n",
        "    # Re-make a data model in each experiment\n",
        "    dt = TreeC4_5(X_trn,y_trn)\n",
        "    dt.fit() \n",
        "    \n",
        "    # calculate the in-sample error rate and out of sample error rate respectively\n",
        "    in_sample_error_rate = np.sum((dt.predict(X_trn) != y_trn)) / len(y_trn)\n",
        "    out_sample_error_rate = np.sum((dt.predict(X_val) != y_val)) / len(y_trn)\n",
        "\n",
        "    # append the results of in-sample error rate and out of sample error rate to the initialize lists\n",
        "    in_errs.append(in_sample_error_rate)\n",
        "    out_errs.append(out_sample_error_rate)\n",
        "\n",
        "# convert the type of list to numpy.array \n",
        "# in order to calculate the mean and standard deviation by using the .mean() function and .std() function directly\n",
        "in_errs = np.array(in_errs)\n",
        "out_errs = np.array(out_errs)\n",
        "print(f\"in_errs: mean {in_errs.mean():.2f}, std {in_errs.std():.2f}\")\n",
        "print(f\"out_errs: mean {out_errs.mean():.2f}, std {out_errs.std():.2f}\")"
      ],
      "execution_count": 73,
      "outputs": [
        {
          "output_type": "stream",
          "text": [
            "in_errs: mean 0.00, std 0.00\n",
            "out_errs: mean 0.03, std 0.02\n"
          ],
          "name": "stdout"
        }
      ]
    },
    {
      "cell_type": "markdown",
      "metadata": {
        "id": "RdoUvahFLl_Q"
      },
      "source": [
        "## **2. Visualize the tree structure**\n",
        "\n",
        "This step I use the pre-defined function .print_node_details() in TreeNode class to print the information details of each node.\n",
        "\n",
        "According to the output of print_node_details(), I use Google drawing to draw the whole tree with each node's information, such as split attribute, entropy, IG ratio (Information Gain ratio), number of samples, and value of each number of targets."
      ]
    },
    {
      "cell_type": "code",
      "metadata": {
        "id": "eH3SW_6ijttm",
        "outputId": "3412d798-6d88-4c6a-a123-729aa378f3ef",
        "colab": {
          "base_uri": "https://localhost:8080/",
          "height": 1000
        }
      },
      "source": [
        "dtc4_5.root.print_node_details()"
      ],
      "execution_count": 74,
      "outputs": [
        {
          "output_type": "stream",
          "text": [
            "First view of the node:  Root node\n",
            "The number of the samples in this node is:  100\n",
            "0    37\n",
            "1    32\n",
            "2    31\n",
            "Name: class, dtype: int64\n",
            "The Entropy is: 1.5805532601934902\n",
            "\n",
            "sepal length's information gain ratio is: 6.8934238847206615\n",
            "sepal width's information gain ratio is: 4.3838465045386945\n",
            "petal length's information gain ratio is: 11.767132489290598\n",
            "petal width's information gain ratio is: 4.890553051137224\n",
            "\n",
            "Splited by petal length, its information gain ratio is 11.767132489290598, its splited points list is:\n",
            " [1.05, 1.15, 1.25, 1.35, 1.45, 1.55, 1.65, 1.7999999999999998, 2.45, 3.15, 3.4, 3.55, 3.6500000000000004, 3.75, 3.8499999999999996, 3.95, 4.05, 4.15, 4.25, 4.35, 4.45, 4.55, 4.65, 4.75, 4.85, 4.95, 5.05, 5.15, 5.25, 5.35, 5.45, 5.55, 5.65, 5.75, 5.85, 5.95, 6.05, 6.199999999999999, 6.35, 6.5, 6.65, 6.800000000000001]\n",
            "Among these splited points, the best splited point is 2.45\n",
            "The child node is: petal length < 2.45\n",
            "--------------------------------------------------------------------\n",
            "This node is: petal length < 2.45, it is a leaf node\n",
            "0    37\n",
            "Name: class, dtype: int64\n",
            "The Entropy is: 0.0\n",
            "\n",
            "The number of samples is:  37\n",
            "Determining the decision ->  0\n",
            "--------------------------------------------------------------------\n",
            "Back to the node:  Root node\n",
            "The number of the samples in this node is:  100\n",
            "0    37\n",
            "1    32\n",
            "2    31\n",
            "Name: class, dtype: int64\n",
            "The Entropy is: 1.5805532601934902\n",
            "\n",
            "sepal length's information gain ratio is: 6.8934238847206615\n",
            "sepal width's information gain ratio is: 4.3838465045386945\n",
            "petal length's information gain ratio is: 11.767132489290598\n",
            "petal width's information gain ratio is: 4.890553051137224\n",
            "\n",
            "Splited by petal length, its information gain ratio is 11.767132489290598, its splited points list is:\n",
            " [1.05, 1.15, 1.25, 1.35, 1.45, 1.55, 1.65, 1.7999999999999998, 2.45, 3.15, 3.4, 3.55, 3.6500000000000004, 3.75, 3.8499999999999996, 3.95, 4.05, 4.15, 4.25, 4.35, 4.45, 4.55, 4.65, 4.75, 4.85, 4.95, 5.05, 5.15, 5.25, 5.35, 5.45, 5.55, 5.65, 5.75, 5.85, 5.95, 6.05, 6.199999999999999, 6.35, 6.5, 6.65, 6.800000000000001]\n",
            "Among these splited points, the best splited point is 2.45\n",
            "The child node is: petal length > 2.45\n",
            "--------------------------------------------------------------------\n",
            "First view of the node:  petal length > 2.45\n",
            "The number of the samples in this node is:  63\n",
            "1    32\n",
            "2    31\n",
            "Name: class, dtype: int64\n",
            "The Entropy is: 0.9998153615731473\n",
            "\n",
            "sepal length's information gain ratio is: 1.7967449890554819\n",
            "sepal width's information gain ratio is: 0.41212185864780204\n",
            "petal length's information gain ratio is: 6.18522603262534\n",
            "petal width's information gain ratio is: 2.989329895317864\n",
            "\n",
            "Splited by petal length, its information gain ratio is 6.18522603262534, its splited points list is:\n",
            " [3.15, 3.4, 3.55, 3.6500000000000004, 3.75, 3.8499999999999996, 3.95, 4.05, 4.15, 4.25, 4.35, 4.45, 4.55, 4.65, 4.75, 4.85, 4.95, 5.05, 5.15, 5.25, 5.35, 5.45, 5.55, 5.65, 5.75, 5.85, 5.95, 6.05, 6.199999999999999, 6.35, 6.5, 6.65, 6.800000000000001]\n",
            "Among these splited points, the best splited point is 4.85\n",
            "The child node is: petal length < 4.85\n",
            "--------------------------------------------------------------------\n",
            "First view of the node:  petal length < 4.85\n",
            "The number of the samples in this node is:  31\n",
            "1    30\n",
            "2     1\n",
            "Name: class, dtype: int64\n",
            "The Entropy is: 0.20558962281810794\n",
            "\n",
            "sepal length's information gain ratio is: 0.686190664714022\n",
            "sepal width's information gain ratio is: 0.3176992667170638\n",
            "petal length's information gain ratio is: 0.2208456402507459\n",
            "petal width's information gain ratio is: 1.0\n",
            "\n",
            "Splited by petal width, its information gain ratio is 1.0, its splited points list is:\n",
            " [1.05, 1.15, 1.25, 1.35, 1.45, 1.55, 1.65]\n",
            "Among these splited points, the best splited point is 1.65\n",
            "The child node is: petal width < 1.65\n",
            "--------------------------------------------------------------------\n",
            "This node is: petal width < 1.65, it is a leaf node\n",
            "1    30\n",
            "Name: class, dtype: int64\n",
            "The Entropy is: 0.0\n",
            "\n",
            "The number of samples is:  30\n",
            "Determining the decision ->  1\n",
            "--------------------------------------------------------------------\n",
            "Back to the node:  petal length < 4.85\n",
            "The number of the samples in this node is:  31\n",
            "1    30\n",
            "2     1\n",
            "Name: class, dtype: int64\n",
            "The Entropy is: 0.20558962281810794\n",
            "\n",
            "sepal length's information gain ratio is: 0.686190664714022\n",
            "sepal width's information gain ratio is: 0.3176992667170638\n",
            "petal length's information gain ratio is: 0.2208456402507459\n",
            "petal width's information gain ratio is: 1.0\n",
            "\n",
            "Splited by petal width, its information gain ratio is 1.0, its splited points list is:\n",
            " [1.05, 1.15, 1.25, 1.35, 1.45, 1.55, 1.65]\n",
            "Among these splited points, the best splited point is 1.65\n",
            "The child node is: petal width > 1.65\n",
            "--------------------------------------------------------------------\n",
            "This node is: petal width > 1.65, it is a leaf node\n",
            "2    1\n",
            "Name: class, dtype: int64\n",
            "The Entropy is: 0.0\n",
            "\n",
            "The number of samples is:  1\n",
            "Determining the decision ->  2\n",
            "--------------------------------------------------------------------\n",
            "Back to the node:  petal length > 2.45\n",
            "The number of the samples in this node is:  63\n",
            "1    32\n",
            "2    31\n",
            "Name: class, dtype: int64\n",
            "The Entropy is: 0.9998153615731473\n",
            "\n",
            "sepal length's information gain ratio is: 1.7967449890554819\n",
            "sepal width's information gain ratio is: 0.41212185864780204\n",
            "petal length's information gain ratio is: 6.18522603262534\n",
            "petal width's information gain ratio is: 2.989329895317864\n",
            "\n",
            "Splited by petal length, its information gain ratio is 6.18522603262534, its splited points list is:\n",
            " [3.15, 3.4, 3.55, 3.6500000000000004, 3.75, 3.8499999999999996, 3.95, 4.05, 4.15, 4.25, 4.35, 4.45, 4.55, 4.65, 4.75, 4.85, 4.95, 5.05, 5.15, 5.25, 5.35, 5.45, 5.55, 5.65, 5.75, 5.85, 5.95, 6.05, 6.199999999999999, 6.35, 6.5, 6.65, 6.800000000000001]\n",
            "Among these splited points, the best splited point is 4.85\n",
            "The child node is: petal length > 4.85\n",
            "--------------------------------------------------------------------\n",
            "First view of the node:  petal length > 4.85\n",
            "The number of the samples in this node is:  32\n",
            "2    30\n",
            "1     2\n",
            "Name: class, dtype: int64\n",
            "The Entropy is: 0.33728718123924295\n",
            "\n",
            "sepal length's information gain ratio is: 0.15420942283501163\n",
            "sepal width's information gain ratio is: 0.1150782955943921\n",
            "petal length's information gain ratio is: 0.5091727968931127\n",
            "petal width's information gain ratio is: 0.4729465392725086\n",
            "\n",
            "Splited by petal length, its information gain ratio is 0.5091727968931127, its splited points list is:\n",
            " [4.95, 5.05, 5.15, 5.25, 5.35, 5.45, 5.55, 5.65, 5.75, 5.85, 5.95, 6.05, 6.199999999999999, 6.35, 6.5, 6.65, 6.800000000000001]\n",
            "Among these splited points, the best splited point is 5.15\n",
            "The child node is: petal length < 5.15\n",
            "--------------------------------------------------------------------\n",
            "First view of the node:  petal length < 5.15\n",
            "The number of the samples in this node is:  11\n",
            "2    9\n",
            "1    2\n",
            "Name: class, dtype: int64\n",
            "The Entropy is: 0.6840355502538089\n",
            "\n",
            "sepal length's information gain ratio is: 0.19703485107691351\n",
            "sepal width's information gain ratio is: 0.1374448952682993\n",
            "petal length's information gain ratio is: 0.09100698952932562\n",
            "petal width's information gain ratio is: 0.7290205596078421\n",
            "\n",
            "Splited by petal width, its information gain ratio is 0.7290205596078421, its splited points list is:\n",
            " [1.55, 1.7000000000000002, 1.85, 1.95, 2.15, 2.3499999999999996]\n",
            "Among these splited points, the best splited point is 1.7000000000000002\n",
            "The child node is: petal width > 1.7000000000000002\n",
            "--------------------------------------------------------------------\n",
            "This node is: petal width > 1.7000000000000002, it is a leaf node\n",
            "2    7\n",
            "Name: class, dtype: int64\n",
            "The Entropy is: 0.0\n",
            "\n",
            "The number of samples is:  7\n",
            "Determining the decision ->  2\n",
            "--------------------------------------------------------------------\n",
            "Back to the node:  petal length < 5.15\n",
            "The number of the samples in this node is:  11\n",
            "2    9\n",
            "1    2\n",
            "Name: class, dtype: int64\n",
            "The Entropy is: 0.6840355502538089\n",
            "\n",
            "sepal length's information gain ratio is: 0.19703485107691351\n",
            "sepal width's information gain ratio is: 0.1374448952682993\n",
            "petal length's information gain ratio is: 0.09100698952932562\n",
            "petal width's information gain ratio is: 0.7290205596078421\n",
            "\n",
            "Splited by petal width, its information gain ratio is 0.7290205596078421, its splited points list is:\n",
            " [1.55, 1.7000000000000002, 1.85, 1.95, 2.15, 2.3499999999999996]\n",
            "Among these splited points, the best splited point is 1.7000000000000002\n",
            "The child node is: petal width < 1.7000000000000002\n",
            "--------------------------------------------------------------------\n",
            "First view of the node:  petal width < 1.7000000000000002\n",
            "The number of the samples in this node is:  4\n",
            "2    2\n",
            "1    2\n",
            "Name: class, dtype: int64\n",
            "The Entropy is: 0.9999971146128035\n",
            "\n",
            "sepal length's information gain ratio is: 0.38368902207317696\n",
            "sepal width's information gain ratio is: 0.38368902207317696\n",
            "petal length's information gain ratio is: 0.3112783012704882\n",
            "petal width's information gain ratio is: 0.38368902207317696\n",
            "\n",
            "Splited by sepal length, its information gain ratio is 0.38368902207317696, its splited points list is:\n",
            " [6.15, 6.6]\n",
            "Among these splited points, the best splited point is 6.6\n",
            "The child node is: sepal length < 6.6\n",
            "--------------------------------------------------------------------\n",
            "First view of the node:  sepal length < 6.6\n",
            "The number of the samples in this node is:  3\n",
            "2    2\n",
            "1    1\n",
            "Name: class, dtype: int64\n",
            "The Entropy is: 0.9182929486676538\n",
            "\n",
            "sepal length's information gain ratio is: 0.2740173557441963\n",
            "sepal width's information gain ratio is: 0.2740173557441963\n",
            "petal length's information gain ratio is: 0.2740173557441963\n",
            "petal width's information gain ratio is: 1.0\n",
            "\n",
            "Splited by petal width, its information gain ratio is 1.0, its splited points list is:\n",
            " [1.55]\n",
            "Among these splited points, the best splited point is 1.55\n",
            "The child node is: petal width < 1.55\n",
            "--------------------------------------------------------------------\n",
            "This node is: petal width < 1.55, it is a leaf node\n",
            "2    2\n",
            "Name: class, dtype: int64\n",
            "The Entropy is: 0.0\n",
            "\n",
            "The number of samples is:  2\n",
            "Determining the decision ->  2\n",
            "--------------------------------------------------------------------\n",
            "Back to the node:  sepal length < 6.6\n",
            "The number of the samples in this node is:  3\n",
            "2    2\n",
            "1    1\n",
            "Name: class, dtype: int64\n",
            "The Entropy is: 0.9182929486676538\n",
            "\n",
            "sepal length's information gain ratio is: 0.2740173557441963\n",
            "sepal width's information gain ratio is: 0.2740173557441963\n",
            "petal length's information gain ratio is: 0.2740173557441963\n",
            "petal width's information gain ratio is: 1.0\n",
            "\n",
            "Splited by petal width, its information gain ratio is 1.0, its splited points list is:\n",
            " [1.55]\n",
            "Among these splited points, the best splited point is 1.55\n",
            "The child node is: petal width > 1.55\n",
            "--------------------------------------------------------------------\n",
            "This node is: petal width > 1.55, it is a leaf node\n",
            "1    1\n",
            "Name: class, dtype: int64\n",
            "The Entropy is: 0.0\n",
            "\n",
            "The number of samples is:  1\n",
            "Determining the decision ->  1\n",
            "--------------------------------------------------------------------\n",
            "Back to the node:  petal width < 1.7000000000000002\n",
            "The number of the samples in this node is:  4\n",
            "2    2\n",
            "1    2\n",
            "Name: class, dtype: int64\n",
            "The Entropy is: 0.9999971146128035\n",
            "\n",
            "sepal length's information gain ratio is: 0.38368902207317696\n",
            "sepal width's information gain ratio is: 0.38368902207317696\n",
            "petal length's information gain ratio is: 0.3112783012704882\n",
            "petal width's information gain ratio is: 0.38368902207317696\n",
            "\n",
            "Splited by sepal length, its information gain ratio is 0.38368902207317696, its splited points list is:\n",
            " [6.15, 6.6]\n",
            "Among these splited points, the best splited point is 6.6\n",
            "The child node is: sepal length > 6.6\n",
            "--------------------------------------------------------------------\n",
            "This node is: sepal length > 6.6, it is a leaf node\n",
            "1    1\n",
            "Name: class, dtype: int64\n",
            "The Entropy is: 0.0\n",
            "\n",
            "The number of samples is:  1\n",
            "Determining the decision ->  1\n",
            "--------------------------------------------------------------------\n",
            "Back to the node:  petal length > 4.85\n",
            "The number of the samples in this node is:  32\n",
            "2    30\n",
            "1     2\n",
            "Name: class, dtype: int64\n",
            "The Entropy is: 0.33728718123924295\n",
            "\n",
            "sepal length's information gain ratio is: 0.15420942283501163\n",
            "sepal width's information gain ratio is: 0.1150782955943921\n",
            "petal length's information gain ratio is: 0.5091727968931127\n",
            "petal width's information gain ratio is: 0.4729465392725086\n",
            "\n",
            "Splited by petal length, its information gain ratio is 0.5091727968931127, its splited points list is:\n",
            " [4.95, 5.05, 5.15, 5.25, 5.35, 5.45, 5.55, 5.65, 5.75, 5.85, 5.95, 6.05, 6.199999999999999, 6.35, 6.5, 6.65, 6.800000000000001]\n",
            "Among these splited points, the best splited point is 5.15\n",
            "The child node is: petal length > 5.15\n",
            "--------------------------------------------------------------------\n",
            "This node is: petal length > 5.15, it is a leaf node\n",
            "2    21\n",
            "Name: class, dtype: int64\n",
            "The Entropy is: 0.0\n",
            "\n",
            "The number of samples is:  21\n",
            "Determining the decision ->  2\n",
            "--------------------------------------------------------------------\n"
          ],
          "name": "stdout"
        }
      ]
    },
    {
      "cell_type": "markdown",
      "metadata": {
        "id": "twcGzI-Zd2RY"
      },
      "source": [
        "![Tree plot (1).png](data:image/png;base64,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)"
      ]
    },
    {
      "cell_type": "markdown",
      "metadata": {
        "id": "UCB6zS5bBObZ"
      },
      "source": [
        "## **3. Model performance in scatter plot**"
      ]
    },
    {
      "cell_type": "markdown",
      "metadata": {
        "id": "S-nni09VBpmZ"
      },
      "source": [
        "In this part, I choose a pair of attributes to train the models again and visualize the performance in the scatter plot."
      ]
    },
    {
      "cell_type": "code",
      "metadata": {
        "id": "lk6hjWpbBQA6",
        "outputId": "664e5e27-625a-4def-f0d4-daea97afc69a",
        "colab": {
          "base_uri": "https://localhost:8080/",
          "height": 520
        }
      },
      "source": [
        "# select the first and third attributes columns to assign to separated_attr_X_total and separated_X_train\n",
        "separated_attr_X_total = X_total.iloc[:,[0,2]]\n",
        "separated_X_train = X_train.iloc[:,[0,2]]\n",
        "\n",
        "x_min = separated_attr_X_total.iloc[:, 0].min() - 1\n",
        "x_max = separated_attr_X_total.iloc[:, 0].max() + 1\n",
        "\n",
        "y_min = separated_attr_X_total.iloc[:, 1].min() - 1\n",
        "y_max = separated_attr_X_total.iloc[:, 1].max() + 1\n",
        "\n",
        "# create two One-dimensional matrixs\n",
        "X_d = np.arange(x_min, x_max, 0.1)\n",
        "y_d = np.arange(y_min, y_max, 0.1)\n",
        "\n",
        "# create two two-dimensional matrixs based on the X_d and y_d\n",
        "xx, yy = np.meshgrid(X_d , y_d)\n",
        "\n",
        "dt_se = TreeC4_5(separated_X_train,y_train)\n",
        "dt_se.fit()\n",
        "\n",
        "separeted_attribute1 = separated_X_train.keys()[0]\n",
        "separeted_attribute2 = separated_X_train.keys()[1]\n",
        "\n",
        "# use .ravel() return the one dimension view of xx and yy\n",
        "# create a testing dataset\n",
        "separated_X_test = pd.DataFrame({separeted_attribute1: xx.ravel(), separeted_attribute2: yy.ravel()})\n",
        "\n",
        "separated_predictions = dt_se.predict(separated_X_test)\n",
        "\n",
        "Z = np.array(separated_predictions)\n",
        "Z = Z.reshape(xx.shape)\n",
        "plt.figure(figsize=(16,8))\n",
        "plt.title(\"Performance of my decision tree C4.5 model trained by a pair of attributes\", fontdict={\"fontsize\":15})\n",
        "plt.xlabel(separeted_attribute1, fontsize=15)\n",
        "plt.ylabel(separeted_attribute2, fontsize=15)\n",
        "\n",
        "# visualize the total datasets point in scatter plot\n",
        "plt.scatter(separated_attr_X_total.iloc[:, 0], separated_attr_X_total.iloc[:, 1], c = y_total)\n",
        "\n",
        "# set the 3 areas according to the predictions of the model, each area stands for a label\n",
        "# the \"alpha\" means the transparency, the main purpose of setting transparency is to see where the point is\n",
        "plt.contourf(xx, yy, Z,alpha=0.4)\n",
        "plt.show()"
      ],
      "execution_count": 75,
      "outputs": [
        {
          "output_type": "display_data",
          "data": {
            "image/png": "[encoded data removed]",
            "text/plain": [
              "<Figure size 1152x576 with 1 Axes>"
            ]
          },
          "metadata": {
            "tags": [],
            "needs_background": "light"
          }
        }
      ]
    },
    {
      "cell_type": "markdown",
      "metadata": {
        "id": "qnlfkiIEichC"
      },
      "source": [
        "## **4. Comparison with the Decision Tree Model in sklearn library**\n",
        "\n",
        "\n"
      ]
    },
    {
      "cell_type": "markdown",
      "metadata": {
        "id": "POdOTawdOIqx"
      },
      "source": [
        "In this step, I use the DecisionTreeClassifier in sklearn library to train another model based on the same training datasets and testing datasets, and see the accuracy, errors_rate, and finally visualize the tree structure.\n",
        "\n",
        "The reason why I use the decision tree model in sklearn is that I want to compare the performance of my C4.5 decision tree model with the sklearn model, including the accuracy, tree structure visualization."
      ]
    },
    {
      "cell_type": "code",
      "metadata": {
        "id": "pUAZLvv0YuL_",
        "outputId": "51f429e5-994e-4bdb-91c9-dfbd6833a5b1",
        "colab": {
          "base_uri": "https://localhost:8080/",
          "height": 34
        }
      },
      "source": [
        "from sklearn import tree \n",
        "import graphviz # This library is used to visualize the tree structure of the fitted decision tree model in sklearn\n",
        "\n",
        "# choose the criterion = \"Entropy\" to measure the quality of a split by information gain.\n",
        "clf = tree.DecisionTreeClassifier(criterion=\"entropy\",random_state=35)\n",
        "clf = clf.fit(X_train,y_train)\n",
        "predictions = clf.predict(X_test)\n",
        "\n",
        "# calculate the accuracy from the predictions\n",
        "result = [decision == target for decision,target in zip(predictions,y_test)]\n",
        "accuracy = sum(result)/len(result)\n",
        "print(\"sklearn decision tree model's accuracy for the iris dataset is:\",accuracy)"
      ],
      "execution_count": 76,
      "outputs": [
        {
          "output_type": "stream",
          "text": [
            "sklearn decision tree model's accuracy for the iris dataset is: 0.94\n"
          ],
          "name": "stdout"
        }
      ]
    },
    {
      "cell_type": "markdown",
      "metadata": {
        "id": "0Lmfbv7CW4xU"
      },
      "source": [
        "It could be obviously observed that the sklearn decision tree model has similar accuracy to my C4.5 decision tree model.\n",
        "\n",
        "Then I will use the DecisionTreeClassifier model to calculate the in-samples error rate and out of samples rate."
      ]
    },
    {
      "cell_type": "code",
      "metadata": {
        "id": "oLORK-q-KVot",
        "outputId": "a98d6289-0b76-4b7b-d721-278b027d40c3",
        "colab": {
          "base_uri": "https://localhost:8080/",
          "height": 50
        }
      },
      "source": [
        "in_errs = []\n",
        "out_errs = []\n",
        "train_size = 0.66\n",
        "for random_seed in range(10):\n",
        "    X_trn, X_val, y_trn, y_val = train_test_split(\n",
        "        X_total, y_total, train_size=train_size, random_state=random_seed)\n",
        "    \n",
        "    dt = tree.DecisionTreeClassifier(criterion=\"entropy\")\n",
        "    dt.fit(X_trn, y_trn) \n",
        "    \n",
        "    in_sample_error_rate = np.sum((dt.predict(X_trn) != y_trn)) / len(y_trn)\n",
        "    out_sample_error_rate = np.sum((dt.predict(X_val) != y_val)) / len(y_trn)\n",
        "\n",
        "    in_errs.append(in_sample_error_rate)\n",
        "    out_errs.append(out_sample_error_rate)\n",
        "\n",
        "in_errs = np.array(in_errs)\n",
        "out_errs = np.array(out_errs)\n",
        "print(f\"in_errs: mean {in_errs.mean():.2f}, std {in_errs.std():.2f}\")\n",
        "print(f\"out_errs: mean {out_errs.mean():.2f}, std {out_errs.std():.2f}\")"
      ],
      "execution_count": 77,
      "outputs": [
        {
          "output_type": "stream",
          "text": [
            "in_errs: mean 0.00, std 0.00\n",
            "out_errs: mean 0.03, std 0.01\n"
          ],
          "name": "stdout"
        }
      ]
    },
    {
      "cell_type": "markdown",
      "metadata": {
        "id": "qJfvqxFZXVZx"
      },
      "source": [
        "Then I Visualize the tree structure of the sklearn decision tree model by using the .export_graphviz() function"
      ]
    },
    {
      "cell_type": "code",
      "metadata": {
        "id": "cEiYQHeKWUV1",
        "outputId": "7fc08575-9794-49fb-d381-f7577da60c37",
        "colab": {
          "base_uri": "https://localhost:8080/",
          "height": 656
        }
      },
      "source": [
        "dot_data = tree.export_graphviz(clf,out_file=None,feature_names=list(X_train.columns.values),filled=True,rounded=True,special_characters=True)\n",
        "graphOfTree = graphviz.Source(dot_data)\n",
        "graphOfTree"
      ],
      "execution_count": 78,
      "outputs": [
        {
          "output_type": "execute_result",
          "data": {
            "text/plain": [
              "<graphviz.files.Source at 0x7f45ea6a0cf8>"
            ],
            "image/svg+xml": "<?xml version=\"1.0\" encoding=\"UTF-8\" standalone=\"no\"?>\n<!DOCTYPE svg PUBLIC \"-//W3C//DTD SVG 1.1//EN\"\n \"http://www.w3.org/Graphics/SVG/1.1/DTD/svg11.dtd\">\n<!-- Generated by graphviz version 2.40.1 (20161225.0304)\n -->\n<!-- Title: Tree Pages: 1 -->\n<svg width=\"350pt\" height=\"477pt\"\n viewBox=\"0.00 0.00 350.00 477.00\" xmlns=\"http://www.w3.org/2000/svg\" xmlns:xlink=\"http://www.w3.org/1999/xlink\">\n<g id=\"graph0\" class=\"graph\" transform=\"scale(1 1) rotate(0) translate(4 473)\">\n<title>Tree</title>\n<polygon fill=\"#ffffff\" stroke=\"transparent\" points=\"-4,4 -4,-473 346,-473 346,4 -4,4\"/>\n<!-- 0 -->\n<g id=\"node1\" class=\"node\">\n<title>0</title>\n<path fill=\"#fdf6f0\" stroke=\"#000000\" d=\"M192.5,-469C192.5,-469 76.5,-469 76.5,-469 70.5,-469 64.5,-463 64.5,-457 64.5,-457 64.5,-413 64.5,-413 64.5,-407 70.5,-401 76.5,-401 76.5,-401 192.5,-401 192.5,-401 198.5,-401 204.5,-407 204.5,-413 204.5,-413 204.5,-457 204.5,-457 204.5,-463 198.5,-469 192.5,-469\"/>\n<text text-anchor=\"start\" x=\"82\" y=\"-453.8\" font-family=\"Helvetica,sans-Serif\" font-size=\"14.00\" fill=\"#000000\">petal width ≤ 0.8</text>\n<text text-anchor=\"start\" x=\"83.5\" y=\"-438.8\" font-family=\"Helvetica,sans-Serif\" font-size=\"14.00\" fill=\"#000000\">entropy = 1.581</text>\n<text text-anchor=\"start\" x=\"86.5\" y=\"-423.8\" font-family=\"Helvetica,sans-Serif\" font-size=\"14.00\" fill=\"#000000\">samples = 100</text>\n<text text-anchor=\"start\" x=\"72.5\" y=\"-408.8\" font-family=\"Helvetica,sans-Serif\" font-size=\"14.00\" fill=\"#000000\">value = [37, 32, 31]</text>\n</g>\n<!-- 1 -->\n<g id=\"node2\" class=\"node\">\n<title>1</title>\n<path fill=\"#e58139\" stroke=\"#000000\" d=\"M112,-357.5C112,-357.5 13,-357.5 13,-357.5 7,-357.5 1,-351.5 1,-345.5 1,-345.5 1,-316.5 1,-316.5 1,-310.5 7,-304.5 13,-304.5 13,-304.5 112,-304.5 112,-304.5 118,-304.5 124,-310.5 124,-316.5 124,-316.5 124,-345.5 124,-345.5 124,-351.5 118,-357.5 112,-357.5\"/>\n<text text-anchor=\"start\" x=\"20\" y=\"-342.3\" font-family=\"Helvetica,sans-Serif\" font-size=\"14.00\" fill=\"#000000\">entropy = 0.0</text>\n<text text-anchor=\"start\" x=\"18.5\" y=\"-327.3\" font-family=\"Helvetica,sans-Serif\" font-size=\"14.00\" fill=\"#000000\">samples = 37</text>\n<text text-anchor=\"start\" x=\"9\" y=\"-312.3\" font-family=\"Helvetica,sans-Serif\" font-size=\"14.00\" fill=\"#000000\">value = [37, 0, 0]</text>\n</g>\n<!-- 0&#45;&gt;1 -->\n<g id=\"edge1\" class=\"edge\">\n<title>0&#45;&gt;1</title>\n<path fill=\"none\" stroke=\"#000000\" d=\"M110.9245,-400.9465C103.1463,-389.7113 94.4861,-377.2021 86.6645,-365.9043\"/>\n<polygon fill=\"#000000\" stroke=\"#000000\" points=\"89.4452,-363.7719 80.8753,-357.5422 83.6898,-367.7564 89.4452,-363.7719\"/>\n<text text-anchor=\"middle\" x=\"76.4032\" y=\"-378.4389\" font-family=\"Helvetica,sans-Serif\" font-size=\"14.00\" fill=\"#000000\">True</text>\n</g>\n<!-- 2 -->\n<g id=\"node3\" class=\"node\">\n<title>2</title>\n<path fill=\"#f9fefb\" stroke=\"#000000\" d=\"M261,-365C261,-365 154,-365 154,-365 148,-365 142,-359 142,-353 142,-353 142,-309 142,-309 142,-303 148,-297 154,-297 154,-297 261,-297 261,-297 267,-297 273,-303 273,-309 273,-309 273,-353 273,-353 273,-359 267,-365 261,-365\"/>\n<text text-anchor=\"start\" x=\"151\" y=\"-349.8\" font-family=\"Helvetica,sans-Serif\" font-size=\"14.00\" fill=\"#000000\">petal width ≤ 1.65</text>\n<text text-anchor=\"start\" x=\"165\" y=\"-334.8\" font-family=\"Helvetica,sans-Serif\" font-size=\"14.00\" fill=\"#000000\">entropy = 1.0</text>\n<text text-anchor=\"start\" x=\"163.5\" y=\"-319.8\" font-family=\"Helvetica,sans-Serif\" font-size=\"14.00\" fill=\"#000000\">samples = 63</text>\n<text text-anchor=\"start\" x=\"150\" y=\"-304.8\" font-family=\"Helvetica,sans-Serif\" font-size=\"14.00\" fill=\"#000000\">value = [0, 32, 31]</text>\n</g>\n<!-- 0&#45;&gt;2 -->\n<g id=\"edge2\" class=\"edge\">\n<title>0&#45;&gt;2</title>\n<path fill=\"none\" stroke=\"#000000\" d=\"M158.4029,-400.9465C164.5791,-392.1475 171.3038,-382.5672 177.739,-373.3993\"/>\n<polygon fill=\"#000000\" stroke=\"#000000\" points=\"180.6629,-375.3258 183.5434,-365.13 174.9334,-371.3041 180.6629,-375.3258\"/>\n<text text-anchor=\"middle\" x=\"187.8563\" y=\"-386.0552\" font-family=\"Helvetica,sans-Serif\" font-size=\"14.00\" fill=\"#000000\">False</text>\n</g>\n<!-- 3 -->\n<g id=\"node4\" class=\"node\">\n<title>3</title>\n<path fill=\"#45e789\" stroke=\"#000000\" d=\"M189,-261C189,-261 78,-261 78,-261 72,-261 66,-255 66,-249 66,-249 66,-205 66,-205 66,-199 72,-193 78,-193 78,-193 189,-193 189,-193 195,-193 201,-199 201,-205 201,-205 201,-249 201,-249 201,-255 195,-261 189,-261\"/>\n<text text-anchor=\"start\" x=\"74\" y=\"-245.8\" font-family=\"Helvetica,sans-Serif\" font-size=\"14.00\" fill=\"#000000\">petal length ≤ 4.95</text>\n<text text-anchor=\"start\" x=\"82.5\" y=\"-230.8\" font-family=\"Helvetica,sans-Serif\" font-size=\"14.00\" fill=\"#000000\">entropy = 0.323</text>\n<text text-anchor=\"start\" x=\"89.5\" y=\"-215.8\" font-family=\"Helvetica,sans-Serif\" font-size=\"14.00\" fill=\"#000000\">samples = 34</text>\n<text text-anchor=\"start\" x=\"80\" y=\"-200.8\" font-family=\"Helvetica,sans-Serif\" font-size=\"14.00\" fill=\"#000000\">value = [0, 32, 2]</text>\n</g>\n<!-- 2&#45;&gt;3 -->\n<g id=\"edge3\" class=\"edge\">\n<title>2&#45;&gt;3</title>\n<path fill=\"none\" stroke=\"#000000\" d=\"M183.2696,-296.9465C177.0088,-288.1475 170.192,-278.5672 163.6687,-269.3993\"/>\n<polygon fill=\"#000000\" stroke=\"#000000\" points=\"166.4342,-267.2488 157.7848,-261.13 160.7306,-271.3071 166.4342,-267.2488\"/>\n</g>\n<!-- 8 -->\n<g id=\"node9\" class=\"node\">\n<title>8</title>\n<path fill=\"#8139e5\" stroke=\"#000000\" d=\"M330,-253.5C330,-253.5 231,-253.5 231,-253.5 225,-253.5 219,-247.5 219,-241.5 219,-241.5 219,-212.5 219,-212.5 219,-206.5 225,-200.5 231,-200.5 231,-200.5 330,-200.5 330,-200.5 336,-200.5 342,-206.5 342,-212.5 342,-212.5 342,-241.5 342,-241.5 342,-247.5 336,-253.5 330,-253.5\"/>\n<text text-anchor=\"start\" x=\"238\" y=\"-238.3\" font-family=\"Helvetica,sans-Serif\" font-size=\"14.00\" fill=\"#000000\">entropy = 0.0</text>\n<text text-anchor=\"start\" x=\"236.5\" y=\"-223.3\" font-family=\"Helvetica,sans-Serif\" font-size=\"14.00\" fill=\"#000000\">samples = 29</text>\n<text text-anchor=\"start\" x=\"227\" y=\"-208.3\" font-family=\"Helvetica,sans-Serif\" font-size=\"14.00\" fill=\"#000000\">value = [0, 0, 29]</text>\n</g>\n<!-- 2&#45;&gt;8 -->\n<g id=\"edge8\" class=\"edge\">\n<title>2&#45;&gt;8</title>\n<path fill=\"none\" stroke=\"#000000\" d=\"M231.4029,-296.9465C239.2892,-285.7113 248.0697,-273.2021 255.9998,-261.9043\"/>\n<polygon fill=\"#000000\" stroke=\"#000000\" points=\"258.9889,-263.7379 261.8694,-253.5422 253.2595,-259.7163 258.9889,-263.7379\"/>\n</g>\n<!-- 4 -->\n<g id=\"node5\" class=\"node\">\n<title>4</title>\n<path fill=\"#39e581\" stroke=\"#000000\" d=\"M111,-149.5C111,-149.5 12,-149.5 12,-149.5 6,-149.5 0,-143.5 0,-137.5 0,-137.5 0,-108.5 0,-108.5 0,-102.5 6,-96.5 12,-96.5 12,-96.5 111,-96.5 111,-96.5 117,-96.5 123,-102.5 123,-108.5 123,-108.5 123,-137.5 123,-137.5 123,-143.5 117,-149.5 111,-149.5\"/>\n<text text-anchor=\"start\" x=\"19\" y=\"-134.3\" font-family=\"Helvetica,sans-Serif\" font-size=\"14.00\" fill=\"#000000\">entropy = 0.0</text>\n<text text-anchor=\"start\" x=\"17.5\" y=\"-119.3\" font-family=\"Helvetica,sans-Serif\" font-size=\"14.00\" fill=\"#000000\">samples = 31</text>\n<text text-anchor=\"start\" x=\"8\" y=\"-104.3\" font-family=\"Helvetica,sans-Serif\" font-size=\"14.00\" fill=\"#000000\">value = [0, 31, 0]</text>\n</g>\n<!-- 3&#45;&gt;4 -->\n<g id=\"edge4\" class=\"edge\">\n<title>3&#45;&gt;4</title>\n<path fill=\"none\" stroke=\"#000000\" d=\"M109.9245,-192.9465C102.1463,-181.7113 93.4861,-169.2021 85.6645,-157.9043\"/>\n<polygon fill=\"#000000\" stroke=\"#000000\" points=\"88.4452,-155.7719 79.8753,-149.5422 82.6898,-159.7564 88.4452,-155.7719\"/>\n</g>\n<!-- 5 -->\n<g id=\"node6\" class=\"node\">\n<title>5</title>\n<path fill=\"#c09cf2\" stroke=\"#000000\" d=\"M258,-157C258,-157 153,-157 153,-157 147,-157 141,-151 141,-145 141,-145 141,-101 141,-101 141,-95 147,-89 153,-89 153,-89 258,-89 258,-89 264,-89 270,-95 270,-101 270,-101 270,-145 270,-145 270,-151 264,-157 258,-157\"/>\n<text text-anchor=\"start\" x=\"149\" y=\"-141.8\" font-family=\"Helvetica,sans-Serif\" font-size=\"14.00\" fill=\"#000000\">petal width ≤ 1.55</text>\n<text text-anchor=\"start\" x=\"154.5\" y=\"-126.8\" font-family=\"Helvetica,sans-Serif\" font-size=\"14.00\" fill=\"#000000\">entropy = 0.918</text>\n<text text-anchor=\"start\" x=\"166\" y=\"-111.8\" font-family=\"Helvetica,sans-Serif\" font-size=\"14.00\" fill=\"#000000\">samples = 3</text>\n<text text-anchor=\"start\" x=\"156\" y=\"-96.8\" font-family=\"Helvetica,sans-Serif\" font-size=\"14.00\" fill=\"#000000\">value = [0, 1, 2]</text>\n</g>\n<!-- 3&#45;&gt;5 -->\n<g id=\"edge5\" class=\"edge\">\n<title>3&#45;&gt;5</title>\n<path fill=\"none\" stroke=\"#000000\" d=\"M157.0755,-192.9465C163.1671,-184.1475 169.7996,-174.5672 176.1466,-165.3993\"/>\n<polygon fill=\"#000000\" stroke=\"#000000\" points=\"179.0571,-167.3442 181.8715,-157.13 173.3017,-163.3597 179.0571,-167.3442\"/>\n</g>\n<!-- 6 -->\n<g id=\"node7\" class=\"node\">\n<title>6</title>\n<path fill=\"#8139e5\" stroke=\"#000000\" d=\"M184,-53C184,-53 93,-53 93,-53 87,-53 81,-47 81,-41 81,-41 81,-12 81,-12 81,-6 87,0 93,0 93,0 184,0 184,0 190,0 196,-6 196,-12 196,-12 196,-41 196,-41 196,-47 190,-53 184,-53\"/>\n<text text-anchor=\"start\" x=\"96\" y=\"-37.8\" font-family=\"Helvetica,sans-Serif\" font-size=\"14.00\" fill=\"#000000\">entropy = 0.0</text>\n<text text-anchor=\"start\" x=\"99\" y=\"-22.8\" font-family=\"Helvetica,sans-Serif\" font-size=\"14.00\" fill=\"#000000\">samples = 2</text>\n<text text-anchor=\"start\" x=\"89\" y=\"-7.8\" font-family=\"Helvetica,sans-Serif\" font-size=\"14.00\" fill=\"#000000\">value = [0, 0, 2]</text>\n</g>\n<!-- 5&#45;&gt;6 -->\n<g id=\"edge6\" class=\"edge\">\n<title>5&#45;&gt;6</title>\n<path fill=\"none\" stroke=\"#000000\" d=\"M181.8783,-88.9777C175.7113,-80.0954 169.0539,-70.5067 162.8499,-61.5711\"/>\n<polygon fill=\"#000000\" stroke=\"#000000\" points=\"165.6497,-59.4666 157.0715,-53.2485 159.8997,-63.4589 165.6497,-59.4666\"/>\n</g>\n<!-- 7 -->\n<g id=\"node8\" class=\"node\">\n<title>7</title>\n<path fill=\"#39e581\" stroke=\"#000000\" d=\"M317,-53C317,-53 226,-53 226,-53 220,-53 214,-47 214,-41 214,-41 214,-12 214,-12 214,-6 220,0 226,0 226,0 317,0 317,0 323,0 329,-6 329,-12 329,-12 329,-41 329,-41 329,-47 323,-53 317,-53\"/>\n<text text-anchor=\"start\" x=\"229\" y=\"-37.8\" font-family=\"Helvetica,sans-Serif\" font-size=\"14.00\" fill=\"#000000\">entropy = 0.0</text>\n<text text-anchor=\"start\" x=\"232\" y=\"-22.8\" font-family=\"Helvetica,sans-Serif\" font-size=\"14.00\" fill=\"#000000\">samples = 1</text>\n<text text-anchor=\"start\" x=\"222\" y=\"-7.8\" font-family=\"Helvetica,sans-Serif\" font-size=\"14.00\" fill=\"#000000\">value = [0, 1, 0]</text>\n</g>\n<!-- 5&#45;&gt;7 -->\n<g id=\"edge7\" class=\"edge\">\n<title>5&#45;&gt;7</title>\n<path fill=\"none\" stroke=\"#000000\" d=\"M228.7691,-88.9777C234.844,-80.0954 241.4021,-70.5067 247.5135,-61.5711\"/>\n<polygon fill=\"#000000\" stroke=\"#000000\" points=\"250.4493,-63.4785 253.2057,-53.2485 244.6714,-59.5267 250.4493,-63.4785\"/>\n</g>\n</g>\n</svg>\n"
          },
          "metadata": {
            "tags": []
          },
          "execution_count": 78
        }
      ]
    },
    {
      "cell_type": "code",
      "metadata": {
        "id": "UNxwKLE2cgmY",
        "outputId": "afddae53-6053-46a8-9a0d-2cfe4ffd4147",
        "colab": {
          "base_uri": "https://localhost:8080/",
          "height": 520
        }
      },
      "source": [
        "# select the first and third attributes columns to assign to separated_attr_X_total and separated_X_train\n",
        "separated_attr_X_total = X_total.iloc[:,[0,2]]\n",
        "separated_X_train = X_train.iloc[:,[0,2]]\n",
        "\n",
        "x_min = separated_attr_X_total.iloc[:, 0].min() - 1\n",
        "x_max = separated_attr_X_total.iloc[:, 0].max() + 1\n",
        "\n",
        "y_min = separated_attr_X_total.iloc[:, 1].min() - 1\n",
        "y_max = separated_attr_X_total.iloc[:, 1].max() + 1\n",
        "\n",
        "# create two One-dimensional matrixs\n",
        "X_d = np.arange(x_min, x_max, 0.1)\n",
        "y_d = np.arange(y_min, y_max, 0.1)\n",
        "\n",
        "# create two two-dimensional matrixs based on the X_d and y_d\n",
        "xx, yy = np.meshgrid(X_d , y_d)\n",
        "\n",
        "clf_se = tree.DecisionTreeClassifier()\n",
        "clf_se.fit(np.array(separated_X_train),np.array(y_train))\n",
        "\n",
        "# np.c_ means connecting the two matrices by column, that is, add the two matrices up and down, it requires the same number of columns\n",
        "Z = clf_se.predict(np.c_[xx.ravel(), yy.ravel()])\n",
        "Z = Z.reshape(xx.shape)\n",
        "\n",
        "plt.figure(figsize=(16,8))\n",
        "plt.title(\"Performance of sklearn decision tree model trained by a pair of attributes\", fontdict={\"fontsize\":15})\n",
        "plt.xlabel(separeted_attribute1, fontsize=15)\n",
        "plt.ylabel(separeted_attribute2, fontsize=15)\n",
        "plt.contourf(xx, yy, Z,alpha=0.4)\n",
        "plt.scatter(separated_attr_X_total.iloc[:, 0], separated_attr_X_total.iloc[:, 1], c = y_total)\n",
        "plt.show()"
      ],
      "execution_count": 79,
      "outputs": [
        {
          "output_type": "display_data",
          "data": {
            "image/png": "[encoded data removed]",
            "text/plain": [
              "<Figure size 1152x576 with 1 Axes>"
            ]
          },
          "metadata": {
            "tags": [],
            "needs_background": "light"
          }
        }
      ]
    },
    {
      "cell_type": "markdown",
      "metadata": {
        "id": "KskBVxdYeKNA"
      },
      "source": [
        "Compare the scatter plot between my model and sklearn model, I notice there are almost the same except for the extra green rectangle area in the scatter plot of sklearn model."
      ]
    },
    {
      "cell_type": "markdown",
      "metadata": {
        "id": "9ZYu8tmmrb61"
      },
      "source": [
        "## **5. Evaluation Datasets**\n",
        "\n",
        "This part I will use another two datasets to test my C4.5 decision tree algorithm\n",
        "\n",
        "**Evaluation dataset 1 - Blood Transfusion Service Center dataset**\n",
        "\n",
        "This dataset has 748 samples with 5 attributes.\n",
        "\n",
        "I use this dataset to evaluate whether my algorithm can handle some noise samples in the dataset.\n",
        "\n",
        "It can be viewed and downloaded from the UCI Machine Learning Repository datasets: http://archive.ics.uci.edu/ml/datasets/Blood+Transfusion+Service+Center"
      ]
    },
    {
      "cell_type": "code",
      "metadata": {
        "id": "kcbd2sRNETSH",
        "outputId": "79de0550-1712-4357-c150-29fbc9639500",
        "colab": {
          "base_uri": "https://localhost:8080/",
          "height": 195
        }
      },
      "source": [
        "df2 = pd.read_csv(\"https://raw.githubusercontent.com/ShengHangNB/Datasets/master/transfusion.csv\")\n",
        "df2.head()"
      ],
      "execution_count": 80,
      "outputs": [
        {
          "output_type": "execute_result",
          "data": {
            "text/html": [
              "<div>\n",
              "<style scoped>\n",
              "    .dataframe tbody tr th:only-of-type {\n",
              "        vertical-align: middle;\n",
              "    }\n",
              "\n",
              "    .dataframe tbody tr th {\n",
              "        vertical-align: top;\n",
              "    }\n",
              "\n",
              "    .dataframe thead th {\n",
              "        text-align: right;\n",
              "    }\n",
              "</style>\n",
              "<table border=\"1\" class=\"dataframe\">\n",
              "  <thead>\n",
              "    <tr style=\"text-align: right;\">\n",
              "      <th></th>\n",
              "      <th>Recency (months)</th>\n",
              "      <th>Frequency (times)</th>\n",
              "      <th>Monetary (c.c. blood)</th>\n",
              "      <th>Time (months)</th>\n",
              "      <th>whether he/she donated blood in March 2007</th>\n",
              "    </tr>\n",
              "  </thead>\n",
              "  <tbody>\n",
              "    <tr>\n",
              "      <th>0</th>\n",
              "      <td>2</td>\n",
              "      <td>50</td>\n",
              "      <td>12500</td>\n",
              "      <td>98</td>\n",
              "      <td>1</td>\n",
              "    </tr>\n",
              "    <tr>\n",
              "      <th>1</th>\n",
              "      <td>0</td>\n",
              "      <td>13</td>\n",
              "      <td>3250</td>\n",
              "      <td>28</td>\n",
              "      <td>1</td>\n",
              "    </tr>\n",
              "    <tr>\n",
              "      <th>2</th>\n",
              "      <td>1</td>\n",
              "      <td>16</td>\n",
              "      <td>4000</td>\n",
              "      <td>35</td>\n",
              "      <td>1</td>\n",
              "    </tr>\n",
              "    <tr>\n",
              "      <th>3</th>\n",
              "      <td>2</td>\n",
              "      <td>20</td>\n",
              "      <td>5000</td>\n",
              "      <td>45</td>\n",
              "      <td>1</td>\n",
              "    </tr>\n",
              "    <tr>\n",
              "      <th>4</th>\n",
              "      <td>1</td>\n",
              "      <td>24</td>\n",
              "      <td>6000</td>\n",
              "      <td>77</td>\n",
              "      <td>0</td>\n",
              "    </tr>\n",
              "  </tbody>\n",
              "</table>\n",
              "</div>"
            ],
            "text/plain": [
              "   Recency (months)  ...  whether he/she donated blood in March 2007\n",
              "0                 2  ...                                           1\n",
              "1                 0  ...                                           1\n",
              "2                 1  ...                                           1\n",
              "3                 2  ...                                           1\n",
              "4                 1  ...                                           0\n",
              "\n",
              "[5 rows x 5 columns]"
            ]
          },
          "metadata": {
            "tags": []
          },
          "execution_count": 80
        }
      ]
    },
    {
      "cell_type": "code",
      "metadata": {
        "id": "AN_pbyTgkHS6",
        "outputId": "7bf8db3b-c7dc-43b8-c487-80a4556205f2",
        "colab": {
          "base_uri": "https://localhost:8080/",
          "height": 84
        }
      },
      "source": [
        "attrs2 = df2.keys()[:-1]\n",
        "print(\"The number of samples in the total datasets are {}\\n\".format(df2.shape[0]))\n",
        "X_total2 = df2[attrs2]\n",
        "y_total2 = df2.iloc[:,-1]\n",
        "\n",
        "X_train2, X_test2, y_train2, y_test2 = train_test_split(X_total2, y_total2, test_size = 0.33,random_state = 48)\n",
        "\n",
        "print(\"The number of samples in the training datasets are {}\".format(X_train2.shape[0]))\n",
        "print(\"The number of samples in the testing datasets are {}\".format(X_test2.shape[0]))"
      ],
      "execution_count": 81,
      "outputs": [
        {
          "output_type": "stream",
          "text": [
            "The number of samples in the total datasets are 748\n",
            "\n",
            "The number of samples in the training datasets are 501\n",
            "The number of samples in the testing datasets are 247\n"
          ],
          "name": "stdout"
        }
      ]
    },
    {
      "cell_type": "code",
      "metadata": {
        "id": "-6kwd1jxk2o2",
        "outputId": "89e78b0e-7498-41c5-edfa-cdcbe0b22ac8",
        "colab": {
          "base_uri": "https://localhost:8080/",
          "height": 1000
        }
      },
      "source": [
        "dt2 = TreeC4_5(X_train2,y_train2)\n",
        "dt2.fit()"
      ],
      "execution_count": 82,
      "outputs": [
        {
          "output_type": "stream",
          "text": [
            "Issue happens!\n",
            "The attribute values are the same, and the frequency of the target values is different.\n",
            "Input values: \n",
            "     Recency (months)  Frequency (times)  Monetary (c.c. blood)  Time (months)\n",
            "299                14                  2                    500             14\n",
            "646                14                  2                    500             14\n",
            "298                14                  2                    500             14\n",
            "302                14                  2                    500             14\n",
            "644                14                  2                    500             14\n",
            "300                14                  2                    500             14\n",
            "Target values: \n",
            "299    0\n",
            "646    0\n",
            "298    0\n",
            "302    0\n",
            "644    1\n",
            "300    0\n",
            "Name: whether he/she donated blood in March 2007, dtype: int64\n",
            "Using the majority voting method to make a better decision ->  0\n",
            "------------------------------------------------------------------------------------------------------------\n",
            "Issue happens!\n",
            "The attribute values are the same, and the frequency of the target values is different.\n",
            "Input values: \n",
            "     Recency (months)  Frequency (times)  Monetary (c.c. blood)  Time (months)\n",
            "338                11                  1                    250             11\n",
            "667                11                  1                    250             11\n",
            "349                11                  1                    250             11\n",
            "664                11                  1                    250             11\n",
            "345                11                  1                    250             11\n",
            "343                11                  1                    250             11\n",
            "665                11                  1                    250             11\n",
            "344                11                  1                    250             11\n",
            "346                11                  1                    250             11\n",
            "666                11                  1                    250             11\n",
            "348                11                  1                    250             11\n",
            "347                11                  1                    250             11\n",
            "Target values: \n",
            "338    1\n",
            "667    1\n",
            "349    0\n",
            "664    0\n",
            "345    0\n",
            "343    0\n",
            "665    0\n",
            "344    0\n",
            "346    0\n",
            "666    0\n",
            "348    0\n",
            "347    0\n",
            "Name: whether he/she donated blood in March 2007, dtype: int64\n",
            "Using the majority voting method to make a better decision ->  0\n",
            "------------------------------------------------------------------------------------------------------------\n",
            "Issue happens!\n",
            "The attribute values are the same, and the frequency of the target values is different.\n",
            "Input values: \n",
            "     Recency (months)  Frequency (times)  Monetary (c.c. blood)  Time (months)\n",
            "736                23                  1                    250             23\n",
            "477                23                  1                    250             23\n",
            "478                23                  1                    250             23\n",
            "735                23                  1                    250             23\n",
            "738                23                  1                    250             23\n",
            "734                23                  1                    250             23\n",
            "479                23                  1                    250             23\n",
            "482                23                  1                    250             23\n",
            "481                23                  1                    250             23\n",
            "740                23                  1                    250             23\n",
            "737                23                  1                    250             23\n",
            "732                23                  1                    250             23\n",
            "Target values: \n",
            "736    0\n",
            "477    0\n",
            "478    0\n",
            "735    0\n",
            "738    0\n",
            "734    0\n",
            "479    0\n",
            "482    0\n",
            "481    0\n",
            "740    0\n",
            "737    0\n",
            "732    1\n",
            "Name: whether he/she donated blood in March 2007, dtype: int64\n",
            "Using the majority voting method to make a better decision ->  0\n",
            "------------------------------------------------------------------------------------------------------------\n",
            "Issue happens!\n",
            "The attribute values are the same, and the frequency of the target values is different.\n",
            "Input values: \n",
            "     Recency (months)  Frequency (times)  Monetary (c.c. blood)  Time (months)\n",
            "455                21                  1                    250             21\n",
            "460                21                  1                    250             21\n",
            "458                21                  1                    250             21\n",
            "462                21                  1                    250             21\n",
            "459                21                  1                    250             21\n",
            "453                21                  1                    250             21\n",
            "464                21                  1                    250             21\n",
            "728                21                  1                    250             21\n",
            "454                21                  1                    250             21\n",
            "Target values: \n",
            "455    0\n",
            "460    0\n",
            "458    0\n",
            "462    1\n",
            "459    0\n",
            "453    0\n",
            "464    0\n",
            "728    0\n",
            "454    0\n",
            "Name: whether he/she donated blood in March 2007, dtype: int64\n",
            "Using the majority voting method to make a better decision ->  0\n",
            "------------------------------------------------------------------------------------------------------------\n",
            "Issue happens!\n",
            "The attribute values are the same, but the frequency of the target values is identical\n",
            "Input values: \n",
            "     Recency (months)  Frequency (times)  Monetary (c.c. blood)  Time (months)\n",
            "712                14                  2                    500             35\n",
            "434                14                  2                    500             35\n",
            "Target values: \n",
            "712    1\n",
            "434    0\n",
            "Name: whether he/she donated blood in March 2007, dtype: int64\n",
            "Just make a decision ->  0\n",
            "------------------------------------------------------------------------------------------------------------\n",
            "Issue happens!\n",
            "The attribute values are the same, but the frequency of the target values is identical\n",
            "Input values: \n",
            "     Recency (months)  Frequency (times)  Monetary (c.c. blood)  Time (months)\n",
            "332                16                  6                   1500             35\n",
            "331                16                  6                   1500             35\n",
            "Target values: \n",
            "332    1\n",
            "331    0\n",
            "Name: whether he/she donated blood in March 2007, dtype: int64\n",
            "Just make a decision ->  0\n",
            "------------------------------------------------------------------------------------------------------------\n",
            "Issue happens!\n",
            "The attribute values are the same, but the frequency of the target values is identical\n",
            "Input values: \n",
            "     Recency (months)  Frequency (times)  Monetary (c.c. blood)  Time (months)\n",
            "399                21                  3                    750             26\n",
            "397                21                  3                    750             26\n",
            "Target values: \n",
            "399    1\n",
            "397    0\n",
            "Name: whether he/she donated blood in March 2007, dtype: int64\n",
            "Just make a decision ->  0\n",
            "------------------------------------------------------------------------------------------------------------\n",
            "Issue happens!\n",
            "The attribute values are the same, but the frequency of the target values is identical\n",
            "Input values: \n",
            "     Recency (months)  Frequency (times)  Monetary (c.c. blood)  Time (months)\n",
            "662                16                  3                    750             21\n",
            "335                16                  3                    750             21\n",
            "Target values: \n",
            "662    0\n",
            "335    1\n",
            "Name: whether he/she donated blood in March 2007, dtype: int64\n",
            "Just make a decision ->  0\n",
            "------------------------------------------------------------------------------------------------------------\n",
            "Issue happens!\n",
            "The attribute values are the same, but the frequency of the target values is identical\n",
            "Input values: \n",
            "     Recency (months)  Frequency (times)  Monetary (c.c. blood)  Time (months)\n",
            "45                  4                  9                   2250             28\n",
            "524                 4                  9                   2250             28\n",
            "Target values: \n",
            "45     1\n",
            "524    0\n",
            "Name: whether he/she donated blood in March 2007, dtype: int64\n",
            "Just make a decision ->  0\n",
            "------------------------------------------------------------------------------------------------------------\n",
            "Issue happens!\n",
            "The attribute values are the same, but the frequency of the target values is identical\n",
            "Input values: \n",
            "    Recency (months)  Frequency (times)  Monetary (c.c. blood)  Time (months)\n",
            "50                 2                 11                   2750             46\n",
            "51                 2                 11                   2750             46\n",
            "Target values: \n",
            "50    0\n",
            "51    1\n",
            "Name: whether he/she donated blood in March 2007, dtype: int64\n",
            "Just make a decision ->  0\n",
            "------------------------------------------------------------------------------------------------------------\n",
            "Issue happens!\n",
            "The attribute values are the same, but the frequency of the target values is identical\n",
            "Input values: \n",
            "     Recency (months)  Frequency (times)  Monetary (c.c. blood)  Time (months)\n",
            "540                 2                  6                   1500             28\n",
            "85                  2                  6                   1500             28\n",
            "Target values: \n",
            "540    1\n",
            "85     0\n",
            "Name: whether he/she donated blood in March 2007, dtype: int64\n",
            "Just make a decision ->  0\n",
            "------------------------------------------------------------------------------------------------------------\n",
            "Issue happens!\n",
            "The attribute values are the same, and the frequency of the target values is different.\n",
            "Input values: \n",
            "     Recency (months)  Frequency (times)  Monetary (c.c. blood)  Time (months)\n",
            "41                  2                  5                   1250             16\n",
            "43                  2                  5                   1250             16\n",
            "526                 2                  5                   1250             16\n",
            "Target values: \n",
            "41     0\n",
            "43     0\n",
            "526    1\n",
            "Name: whether he/she donated blood in March 2007, dtype: int64\n",
            "Using the majority voting method to make a better decision ->  0\n",
            "------------------------------------------------------------------------------------------------------------\n",
            "Issue happens!\n",
            "The attribute values are the same, but the frequency of the target values is identical\n",
            "Input values: \n",
            "     Recency (months)  Frequency (times)  Monetary (c.c. blood)  Time (months)\n",
            "529                 2                  6                   1500             22\n",
            "52                  2                  6                   1500             22\n",
            "Target values: \n",
            "529    1\n",
            "52     0\n",
            "Name: whether he/she donated blood in March 2007, dtype: int64\n",
            "Just make a decision ->  0\n",
            "------------------------------------------------------------------------------------------------------------\n",
            "Issue happens!\n",
            "The attribute values are the same, and the frequency of the target values is different.\n",
            "Input values: \n",
            "     Recency (months)  Frequency (times)  Monetary (c.c. blood)  Time (months)\n",
            "232                 4                  1                    250              4\n",
            "223                 4                  1                    250              4\n",
            "221                 4                  1                    250              4\n",
            "230                 4                  1                    250              4\n",
            "228                 4                  1                    250              4\n",
            "614                 4                  1                    250              4\n",
            "210                 4                  1                    250              4\n",
            "217                 4                  1                    250              4\n",
            "611                 4                  1                    250              4\n",
            "621                 4                  1                    250              4\n",
            "612                 4                  1                    250              4\n",
            "211                 4                  1                    250              4\n",
            "617                 4                  1                    250              4\n",
            "212                 4                  1                    250              4\n",
            "222                 4                  1                    250              4\n",
            "229                 4                  1                    250              4\n",
            "220                 4                  1                    250              4\n",
            "618                 4                  1                    250              4\n",
            "218                 4                  1                    250              4\n",
            "608                 4                  1                    250              4\n",
            "224                 4                  1                    250              4\n",
            "616                 4                  1                    250              4\n",
            "231                 4                  1                    250              4\n",
            "214                 4                  1                    250              4\n",
            "Target values: \n",
            "232    0\n",
            "223    0\n",
            "221    1\n",
            "230    0\n",
            "228    0\n",
            "614    0\n",
            "210    0\n",
            "217    0\n",
            "611    0\n",
            "621    0\n",
            "612    1\n",
            "211    0\n",
            "617    0\n",
            "212    0\n",
            "222    1\n",
            "229    0\n",
            "220    0\n",
            "618    1\n",
            "218    0\n",
            "608    0\n",
            "224    1\n",
            "616    0\n",
            "231    1\n",
            "214    0\n",
            "Name: whether he/she donated blood in March 2007, dtype: int64\n",
            "Using the majority voting method to make a better decision ->  0\n",
            "------------------------------------------------------------------------------------------------------------\n",
            "Issue happens!\n",
            "The attribute values are the same, and the frequency of the target values is different.\n",
            "Input values: \n",
            "     Recency (months)  Frequency (times)  Monetary (c.c. blood)  Time (months)\n",
            "87                  4                  2                    500              4\n",
            "93                  4                  2                    500              4\n",
            "86                  4                  2                    500              4\n",
            "92                  4                  2                    500              4\n",
            "88                  4                  2                    500              4\n",
            "90                  4                  2                    500              4\n",
            "545                 4                  2                    500              4\n",
            "Target values: \n",
            "87     0\n",
            "93     0\n",
            "86     0\n",
            "92     0\n",
            "88     0\n",
            "90     1\n",
            "545    1\n",
            "Name: whether he/she donated blood in March 2007, dtype: int64\n",
            "Using the majority voting method to make a better decision ->  0\n",
            "------------------------------------------------------------------------------------------------------------\n",
            "Issue happens!\n",
            "The attribute values are the same, and the frequency of the target values is different.\n",
            "Input values: \n",
            "    Recency (months)  Frequency (times)  Monetary (c.c. blood)  Time (months)\n",
            "78                 2                  2                    500              4\n",
            "77                 2                  2                    500              4\n",
            "79                 2                  2                    500              4\n",
            "73                 2                  2                    500              4\n",
            "75                 2                  2                    500              4\n",
            "74                 2                  2                    500              4\n",
            "Target values: \n",
            "78    0\n",
            "77    0\n",
            "79    0\n",
            "73    0\n",
            "75    1\n",
            "74    1\n",
            "Name: whether he/she donated blood in March 2007, dtype: int64\n",
            "Using the majority voting method to make a better decision ->  0\n",
            "------------------------------------------------------------------------------------------------------------\n",
            "Issue happens!\n",
            "The attribute values are the same, and the frequency of the target values is different.\n",
            "Input values: \n",
            "     Recency (months)  Frequency (times)  Monetary (c.c. blood)  Time (months)\n",
            "139                 2                  2                    500             11\n",
            "147                 2                  2                    500             11\n",
            "574                 2                  2                    500             11\n",
            "Target values: \n",
            "139    0\n",
            "147    0\n",
            "574    1\n",
            "Name: whether he/she donated blood in March 2007, dtype: int64\n",
            "Using the majority voting method to make a better decision ->  0\n",
            "------------------------------------------------------------------------------------------------------------\n",
            "Issue happens!\n",
            "The attribute values are the same, but the frequency of the target values is identical\n",
            "Input values: \n",
            "     Recency (months)  Frequency (times)  Monetary (c.c. blood)  Time (months)\n",
            "144                 4                  2                    500              9\n",
            "571                 4                  2                    500              9\n",
            "Target values: \n",
            "144    1\n",
            "571    0\n",
            "Name: whether he/she donated blood in March 2007, dtype: int64\n",
            "Just make a decision ->  0\n",
            "------------------------------------------------------------------------------------------------------------\n",
            "Issue happens!\n",
            "The attribute values are the same, and the frequency of the target values is different.\n",
            "Input values: \n",
            "     Recency (months)  Frequency (times)  Monetary (c.c. blood)  Time (months)\n",
            "156                 2                  1                    250              2\n",
            "163                 2                  1                    250              2\n",
            "154                 2                  1                    250              2\n",
            "155                 2                  1                    250              2\n",
            "588                 2                  1                    250              2\n",
            "589                 2                  1                    250              2\n",
            "153                 2                  1                    250              2\n",
            "173                 2                  1                    250              2\n",
            "169                 2                  1                    250              2\n",
            "581                 2                  1                    250              2\n",
            "157                 2                  1                    250              2\n",
            "167                 2                  1                    250              2\n",
            "166                 2                  1                    250              2\n",
            "585                 2                  1                    250              2\n",
            "168                 2                  1                    250              2\n",
            "580                 2                  1                    250              2\n",
            "165                 2                  1                    250              2\n",
            "170                 2                  1                    250              2\n",
            "158                 2                  1                    250              2\n",
            "584                 2                  1                    250              2\n",
            "160                 2                  1                    250              2\n",
            "162                 2                  1                    250              2\n",
            "Target values: \n",
            "156    0\n",
            "163    1\n",
            "154    0\n",
            "155    0\n",
            "588    0\n",
            "589    0\n",
            "153    1\n",
            "173    0\n",
            "169    0\n",
            "581    1\n",
            "157    0\n",
            "167    0\n",
            "166    0\n",
            "585    0\n",
            "168    0\n",
            "580    0\n",
            "165    1\n",
            "170    0\n",
            "158    0\n",
            "584    0\n",
            "160    0\n",
            "162    0\n",
            "Name: whether he/she donated blood in March 2007, dtype: int64\n",
            "Using the majority voting method to make a better decision ->  0\n",
            "------------------------------------------------------------------------------------------------------------\n",
            "Issue happens!\n",
            "The attribute values are the same, and the frequency of the target values is different.\n",
            "Input values: \n",
            "     Recency (months)  Frequency (times)  Monetary (c.c. blood)  Time (months)\n",
            "142                 4                  3                    750             16\n",
            "145                 4                  3                    750             16\n",
            "143                 4                  3                    750             16\n",
            "Target values: \n",
            "142    0\n",
            "145    1\n",
            "143    0\n",
            "Name: whether he/she donated blood in March 2007, dtype: int64\n",
            "Using the majority voting method to make a better decision ->  0\n",
            "------------------------------------------------------------------------------------------------------------\n",
            "Issue happens!\n",
            "The attribute values are the same, but the frequency of the target values is identical\n",
            "Input values: \n",
            "     Recency (months)  Frequency (times)  Monetary (c.c. blood)  Time (months)\n",
            "5                   4                  4                   1000              4\n",
            "510                 4                  4                   1000              4\n",
            "Target values: \n",
            "5      0\n",
            "510    1\n",
            "Name: whether he/she donated blood in March 2007, dtype: int64\n",
            "Just make a decision ->  0\n",
            "------------------------------------------------------------------------------------------------------------\n"
          ],
          "name": "stdout"
        }
      ]
    },
    {
      "cell_type": "code",
      "metadata": {
        "id": "ip4YtTgilG7I",
        "outputId": "5c719dd6-cbb6-4023-fc50-1da6b3130d18",
        "colab": {
          "base_uri": "https://localhost:8080/",
          "height": 34
        }
      },
      "source": [
        "decisions = dt2.predict(X_test2)\n",
        "results = decisions == y_test2\n",
        "accuracy = sum(results) / len(results)\n",
        "print(\"My model's accuracy for the evaluation dataset 1 is: \", accuracy)"
      ],
      "execution_count": 83,
      "outputs": [
        {
          "output_type": "stream",
          "text": [
            "My model's accuracy for the evaluation dataset 1 is:  0.708502024291498\n"
          ],
          "name": "stdout"
        }
      ]
    },
    {
      "cell_type": "code",
      "metadata": {
        "id": "wnHfhZz_mqZl",
        "outputId": "49590e27-d510-46c0-fe7b-d408fc53adde",
        "colab": {
          "base_uri": "https://localhost:8080/",
          "height": 34
        }
      },
      "source": [
        "clf2 = tree.DecisionTreeClassifier(criterion=\"entropy\",random_state=35)\n",
        "clf2 = clf2.fit(X_train2,y_train2)\n",
        "decisions = clf2.predict(X_test2)\n",
        "result = [decision == target for decision,target in zip(decisions,y_test2)]\n",
        "accuracy = sum(result)/len(result)\n",
        "print(\"Sklearn model's accuracy for the evaluation dataset 1 is:\",accuracy)"
      ],
      "execution_count": 84,
      "outputs": [
        {
          "output_type": "stream",
          "text": [
            "Sklearn model's accuracy for the evaluation dataset 1 is: 0.7246963562753036\n"
          ],
          "name": "stdout"
        }
      ]
    },
    {
      "cell_type": "markdown",
      "metadata": {
        "id": "oDnuLepFrVxD"
      },
      "source": [
        "**Evaluation of dataset 2 - Wine Quality dataset**\n",
        "\n",
        "This dataset has 4898 samples with 12 numerical attributes.\n",
        "\n",
        "I use this dataset to evaluate whether my algorithm can work well with the dataset with multiple attributes.\n",
        "\n",
        "It can be viewed and downloaded from the UCI Machine Learning Repository datasets: https://archive.ics.uci.edu/ml/datasets/wine+quality"
      ]
    },
    {
      "cell_type": "code",
      "metadata": {
        "id": "3sN4wAe8m4c_",
        "outputId": "9132350f-362f-4292-fe00-fd9aff1c9e38",
        "colab": {
          "base_uri": "https://localhost:8080/",
          "height": 195
        }
      },
      "source": [
        "df3 = pd.read_csv(\"https://raw.githubusercontent.com/ShengHangNB/Datasets/master/winequality-red.csv\")\n",
        "\n",
        "# Here I randomly select 750 samples of the total\n",
        "df3 = df3.sample(n=750, random_state=50, axis=0)\n",
        "\n",
        "def change_target_type(x):\n",
        "  if x > 6.5:\n",
        "    return 'good'\n",
        "\n",
        "  else:\n",
        "    return 'not good'\n",
        "\n",
        "df3.loc[:,\"quality\"] = df3[\"quality\"].apply(change_target_type)\n",
        "df3.head()"
      ],
      "execution_count": 85,
      "outputs": [
        {
          "output_type": "execute_result",
          "data": {
            "text/html": [
              "<div>\n",
              "<style scoped>\n",
              "    .dataframe tbody tr th:only-of-type {\n",
              "        vertical-align: middle;\n",
              "    }\n",
              "\n",
              "    .dataframe tbody tr th {\n",
              "        vertical-align: top;\n",
              "    }\n",
              "\n",
              "    .dataframe thead th {\n",
              "        text-align: right;\n",
              "    }\n",
              "</style>\n",
              "<table border=\"1\" class=\"dataframe\">\n",
              "  <thead>\n",
              "    <tr style=\"text-align: right;\">\n",
              "      <th></th>\n",
              "      <th>fixed acidity</th>\n",
              "      <th>volatile acidity</th>\n",
              "      <th>citric acid</th>\n",
              "      <th>residual sugar</th>\n",
              "      <th>chlorides</th>\n",
              "      <th>free sulfur dioxide</th>\n",
              "      <th>total sulfur dioxide</th>\n",
              "      <th>density</th>\n",
              "      <th>pH</th>\n",
              "      <th>sulphates</th>\n",
              "      <th>alcohol</th>\n",
              "      <th>quality</th>\n",
              "    </tr>\n",
              "  </thead>\n",
              "  <tbody>\n",
              "    <tr>\n",
              "      <th>453</th>\n",
              "      <td>10.4</td>\n",
              "      <td>0.33</td>\n",
              "      <td>0.63</td>\n",
              "      <td>2.8</td>\n",
              "      <td>0.084</td>\n",
              "      <td>5.0</td>\n",
              "      <td>22.0</td>\n",
              "      <td>0.99980</td>\n",
              "      <td>3.26</td>\n",
              "      <td>0.74</td>\n",
              "      <td>11.2</td>\n",
              "      <td>good</td>\n",
              "    </tr>\n",
              "    <tr>\n",
              "      <th>1415</th>\n",
              "      <td>6.2</td>\n",
              "      <td>0.58</td>\n",
              "      <td>0.00</td>\n",
              "      <td>1.6</td>\n",
              "      <td>0.065</td>\n",
              "      <td>8.0</td>\n",
              "      <td>18.0</td>\n",
              "      <td>0.99660</td>\n",
              "      <td>3.56</td>\n",
              "      <td>0.84</td>\n",
              "      <td>9.4</td>\n",
              "      <td>not good</td>\n",
              "    </tr>\n",
              "    <tr>\n",
              "      <th>1242</th>\n",
              "      <td>9.0</td>\n",
              "      <td>0.40</td>\n",
              "      <td>0.41</td>\n",
              "      <td>2.0</td>\n",
              "      <td>0.058</td>\n",
              "      <td>15.0</td>\n",
              "      <td>40.0</td>\n",
              "      <td>0.99414</td>\n",
              "      <td>3.22</td>\n",
              "      <td>0.60</td>\n",
              "      <td>12.2</td>\n",
              "      <td>not good</td>\n",
              "    </tr>\n",
              "    <tr>\n",
              "      <th>885</th>\n",
              "      <td>8.9</td>\n",
              "      <td>0.75</td>\n",
              "      <td>0.14</td>\n",
              "      <td>2.5</td>\n",
              "      <td>0.086</td>\n",
              "      <td>9.0</td>\n",
              "      <td>30.0</td>\n",
              "      <td>0.99824</td>\n",
              "      <td>3.34</td>\n",
              "      <td>0.64</td>\n",
              "      <td>10.5</td>\n",
              "      <td>not good</td>\n",
              "    </tr>\n",
              "    <tr>\n",
              "      <th>488</th>\n",
              "      <td>11.6</td>\n",
              "      <td>0.32</td>\n",
              "      <td>0.55</td>\n",
              "      <td>2.8</td>\n",
              "      <td>0.081</td>\n",
              "      <td>35.0</td>\n",
              "      <td>67.0</td>\n",
              "      <td>1.00020</td>\n",
              "      <td>3.32</td>\n",
              "      <td>0.92</td>\n",
              "      <td>10.8</td>\n",
              "      <td>good</td>\n",
              "    </tr>\n",
              "  </tbody>\n",
              "</table>\n",
              "</div>"
            ],
            "text/plain": [
              "      fixed acidity  volatile acidity  ...  alcohol   quality\n",
              "453            10.4              0.33  ...     11.2      good\n",
              "1415            6.2              0.58  ...      9.4  not good\n",
              "1242            9.0              0.40  ...     12.2  not good\n",
              "885             8.9              0.75  ...     10.5  not good\n",
              "488            11.6              0.32  ...     10.8      good\n",
              "\n",
              "[5 rows x 12 columns]"
            ]
          },
          "metadata": {
            "tags": []
          },
          "execution_count": 85
        }
      ]
    },
    {
      "cell_type": "code",
      "metadata": {
        "id": "hqGqZJ78pMuU",
        "outputId": "eb686b31-6e1b-486e-efda-b60566236382",
        "colab": {
          "base_uri": "https://localhost:8080/",
          "height": 84
        }
      },
      "source": [
        "attrs3 = df3.keys()[:-1]\n",
        "print(\"The number of samples in the total datasets are {}\\n\".format(df3.shape[0]))\n",
        "X_total3 = df3[attrs3]\n",
        "y_total3 = df3.iloc[:,-1]\n",
        "\n",
        "X_train3, X_test3, y_train3, y_test3 = train_test_split(X_total3, y_total3, test_size = 0.33,random_state = 48)\n",
        "\n",
        "\n",
        "print(\"The number of samples in the training datasets are {}\".format(X_train3.shape[0]))\n",
        "print(\"The number of samples in the testing datasets are {}\".format(X_test3.shape[0]))"
      ],
      "execution_count": 86,
      "outputs": [
        {
          "output_type": "stream",
          "text": [
            "The number of samples in the total datasets are 750\n",
            "\n",
            "The number of samples in the training datasets are 502\n",
            "The number of samples in the testing datasets are 248\n"
          ],
          "name": "stdout"
        }
      ]
    },
    {
      "cell_type": "code",
      "metadata": {
        "id": "oVWgwzOvpd5o"
      },
      "source": [
        "dt3 = TreeC4_5(X_train3,y_train3)\n",
        "dt3.fit()"
      ],
      "execution_count": 87,
      "outputs": []
    },
    {
      "cell_type": "code",
      "metadata": {
        "id": "icL4lqaGpuuD",
        "outputId": "756bdf3a-862f-457c-8c25-b8bbae15c8d3",
        "colab": {
          "base_uri": "https://localhost:8080/",
          "height": 34
        }
      },
      "source": [
        "decisions = dt3.predict(X_test3)\n",
        "results = decisions == y_test3\n",
        "accuracy = sum(results) / len(results)\n",
        "print(\"My model's accuracy for the evaluation dataset 2 is: \", accuracy)"
      ],
      "execution_count": 88,
      "outputs": [
        {
          "output_type": "stream",
          "text": [
            "My model's accuracy for the evaluation dataset 2 is:  0.875\n"
          ],
          "name": "stdout"
        }
      ]
    },
    {
      "cell_type": "code",
      "metadata": {
        "id": "_4xpa2vKrK4-",
        "outputId": "b53b68b2-e46b-4f73-a189-0e77268d0e8f",
        "colab": {
          "base_uri": "https://localhost:8080/",
          "height": 34
        }
      },
      "source": [
        "clf3 = tree.DecisionTreeClassifier(criterion=\"entropy\",random_state=35)\n",
        "clf3 = clf3.fit(X_train3,y_train3)\n",
        "decisions = clf3.predict(X_test3)\n",
        "result = [decision == target for decision,target in zip(decisions,y_test3)]\n",
        "accuracy = sum(result)/len(result)\n",
        "print(\"Sklearn model's accuracy for the evaluation dataset 2 is:\",accuracy)"
      ],
      "execution_count": 89,
      "outputs": [
        {
          "output_type": "stream",
          "text": [
            "Sklearn model's accuracy for the evaluation dataset 2 is: 0.8588709677419355\n"
          ],
          "name": "stdout"
        }
      ]
    },
    {
      "cell_type": "code",
      "metadata": {
        "id": "Wd4miqe6rTNR"
      },
      "source": [
        ""
      ],
      "execution_count": 89,
      "outputs": []
    }
  ]
}